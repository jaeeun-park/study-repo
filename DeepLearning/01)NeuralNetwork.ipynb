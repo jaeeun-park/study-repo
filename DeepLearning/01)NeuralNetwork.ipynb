{
  "nbformat": 4,
  "nbformat_minor": 0,
  "metadata": {
    "colab": {
      "name": "NeuralNetwork_기초_공부.ipynb",
      "version": "0.3.2",
      "provenance": [],
      "collapsed_sections": []
    },
    "kernelspec": {
      "name": "python3",
      "display_name": "Python 3"
    },
    "accelerator": "GPU"
  },
  "cells": [
    {
      "cell_type": "markdown",
      "metadata": {
        "id": "LDPYR6aFo4SC",
        "colab_type": "text"
      },
      "source": [
        "### 뉴럴 네트워크를 구현하는데 필요한 라이브러리를 import 한다."
      ]
    },
    {
      "cell_type": "code",
      "metadata": {
        "id": "s3d0QRAvjQ7D",
        "colab_type": "code",
        "colab": {}
      },
      "source": [
        "import torch\n",
        "import numpy as np\n",
        "import torch.nn.functional as F\n",
        "import torch.nn as nn"
      ],
      "execution_count": 0,
      "outputs": []
    },
    {
      "cell_type": "markdown",
      "metadata": {
        "id": "_9wAM2TQpMV9",
        "colab_type": "text"
      },
      "source": [
        "gpu를 사용할 수 있는지 없는지 확인해주는 함수"
      ]
    },
    {
      "cell_type": "code",
      "metadata": {
        "id": "VzO_cudmpDW1",
        "colab_type": "code",
        "outputId": "67ebd746-1811-4f93-bcb8-0998ca7c8f46",
        "colab": {
          "base_uri": "https://localhost:8080/",
          "height": 36
        }
      },
      "source": [
        "torch.cuda.is_available()"
      ],
      "execution_count": 0,
      "outputs": [
        {
          "output_type": "execute_result",
          "data": {
            "text/plain": [
              "True"
            ]
          },
          "metadata": {
            "tags": []
          },
          "execution_count": 95
        }
      ]
    },
    {
      "cell_type": "markdown",
      "metadata": {
        "id": "PbQa64s4s2lj",
        "colab_type": "text"
      },
      "source": [
        "사용할 수 있는 gpu의 수 "
      ]
    },
    {
      "cell_type": "code",
      "metadata": {
        "id": "EBs42Fb4s11y",
        "colab_type": "code",
        "outputId": "3c145c0e-c596-4089-886a-8b62c4811275",
        "colab": {
          "base_uri": "https://localhost:8080/",
          "height": 36
        }
      },
      "source": [
        "torch.cuda.device_count()"
      ],
      "execution_count": 0,
      "outputs": [
        {
          "output_type": "execute_result",
          "data": {
            "text/plain": [
              "1"
            ]
          },
          "metadata": {
            "tags": []
          },
          "execution_count": 96
        }
      ]
    },
    {
      "cell_type": "markdown",
      "metadata": {
        "id": "fHrasy0Fs9xh",
        "colab_type": "text"
      },
      "source": [
        "gpu를 사용하기 위해 device를 할당한다."
      ]
    },
    {
      "cell_type": "code",
      "metadata": {
        "id": "ea-mPGnks9gC",
        "colab_type": "code",
        "colab": {}
      },
      "source": [
        "device = torch.device('cuda')"
      ],
      "execution_count": 0,
      "outputs": []
    },
    {
      "cell_type": "markdown",
      "metadata": {
        "id": "3erOMNv0pRB-",
        "colab_type": "text"
      },
      "source": [
        "Tensor 만들기"
      ]
    },
    {
      "cell_type": "code",
      "metadata": {
        "id": "UfvMI0dWpLnL",
        "colab_type": "code",
        "colab": {}
      },
      "source": [
        "a = torch.FloatTensor([[2,3,4,5]])"
      ],
      "execution_count": 0,
      "outputs": []
    },
    {
      "cell_type": "code",
      "metadata": {
        "id": "DIRw9p2RpVeT",
        "colab_type": "code",
        "outputId": "e56dcb6c-5f7d-4c07-d715-bdd9646bc82d",
        "colab": {
          "base_uri": "https://localhost:8080/",
          "height": 36
        }
      },
      "source": [
        "a"
      ],
      "execution_count": 0,
      "outputs": [
        {
          "output_type": "execute_result",
          "data": {
            "text/plain": [
              "tensor([[2., 3., 4., 5.]])"
            ]
          },
          "metadata": {
            "tags": []
          },
          "execution_count": 99
        }
      ]
    },
    {
      "cell_type": "code",
      "metadata": {
        "id": "lI9yWUqypV7y",
        "colab_type": "code",
        "outputId": "5d43be44-24c4-4133-88d4-11fa95f0464f",
        "colab": {
          "base_uri": "https://localhost:8080/",
          "height": 36
        }
      },
      "source": [
        "torch.FloatTensor([2,3,4,5])"
      ],
      "execution_count": 0,
      "outputs": [
        {
          "output_type": "execute_result",
          "data": {
            "text/plain": [
              "tensor([2., 3., 4., 5.])"
            ]
          },
          "metadata": {
            "tags": []
          },
          "execution_count": 100
        }
      ]
    },
    {
      "cell_type": "code",
      "metadata": {
        "id": "s10lp-Y_pZMj",
        "colab_type": "code",
        "colab": {}
      },
      "source": [
        "a = np.array([[2,3,4,5]])"
      ],
      "execution_count": 0,
      "outputs": []
    },
    {
      "cell_type": "markdown",
      "metadata": {
        "id": "Ld3SI_-WpcXJ",
        "colab_type": "text"
      },
      "source": [
        "numpy array -> torch Tensor"
      ]
    },
    {
      "cell_type": "code",
      "metadata": {
        "id": "LPSNO_uUpb2Q",
        "colab_type": "code",
        "outputId": "4d2f54d2-5d35-4623-c26a-5b9e4af941da",
        "colab": {
          "base_uri": "https://localhost:8080/",
          "height": 36
        }
      },
      "source": [
        "a = torch.from_numpy(a)\n",
        "a"
      ],
      "execution_count": 0,
      "outputs": [
        {
          "output_type": "execute_result",
          "data": {
            "text/plain": [
              "tensor([[2, 3, 4, 5]])"
            ]
          },
          "metadata": {
            "tags": []
          },
          "execution_count": 102
        }
      ]
    },
    {
      "cell_type": "code",
      "metadata": {
        "id": "A_Yvww0UpjtJ",
        "colab_type": "code",
        "outputId": "94341c55-b5d6-4d46-d73e-290cd72dfefd",
        "colab": {
          "base_uri": "https://localhost:8080/",
          "height": 36
        }
      },
      "source": [
        "b = np.array([[3,4,5,6]])\n",
        "b"
      ],
      "execution_count": 0,
      "outputs": [
        {
          "output_type": "execute_result",
          "data": {
            "text/plain": [
              "array([[3, 4, 5, 6]])"
            ]
          },
          "metadata": {
            "tags": []
          },
          "execution_count": 103
        }
      ]
    },
    {
      "cell_type": "markdown",
      "metadata": {
        "id": "uDNoIx5CpqAX",
        "colab_type": "text"
      },
      "source": [
        "넘파이의 모양을 확인하고 변경하는 방법"
      ]
    },
    {
      "cell_type": "code",
      "metadata": {
        "id": "yt6FMLG_pmah",
        "colab_type": "code",
        "outputId": "1e035a91-8f8c-4a6f-db67-bab2972bf5aa",
        "colab": {
          "base_uri": "https://localhost:8080/",
          "height": 36
        }
      },
      "source": [
        "b.shape"
      ],
      "execution_count": 0,
      "outputs": [
        {
          "output_type": "execute_result",
          "data": {
            "text/plain": [
              "(1, 4)"
            ]
          },
          "metadata": {
            "tags": []
          },
          "execution_count": 104
        }
      ]
    },
    {
      "cell_type": "code",
      "metadata": {
        "id": "fZGWKDH2po4r",
        "colab_type": "code",
        "outputId": "470bcb01-5f4d-4cae-e04f-0705df300a99",
        "colab": {
          "base_uri": "https://localhost:8080/",
          "height": 55
        }
      },
      "source": [
        "b.reshape(2,2)"
      ],
      "execution_count": 0,
      "outputs": [
        {
          "output_type": "execute_result",
          "data": {
            "text/plain": [
              "array([[3, 4],\n",
              "       [5, 6]])"
            ]
          },
          "metadata": {
            "tags": []
          },
          "execution_count": 105
        }
      ]
    },
    {
      "cell_type": "markdown",
      "metadata": {
        "id": "6OdAl0lspv0A",
        "colab_type": "text"
      },
      "source": [
        "Tensor는 size()로 확인하고, view로 모양을 바꾼다.\n",
        "- flatten()을 사용하면 벡터 형태로 펼쳐준다."
      ]
    },
    {
      "cell_type": "code",
      "metadata": {
        "id": "uKRxRVOMpvH-",
        "colab_type": "code",
        "outputId": "1e3a423d-ce90-4f5e-9c2c-d9b563337ddf",
        "colab": {
          "base_uri": "https://localhost:8080/",
          "height": 36
        }
      },
      "source": [
        "a.view(2,2).flatten()"
      ],
      "execution_count": 0,
      "outputs": [
        {
          "output_type": "execute_result",
          "data": {
            "text/plain": [
              "tensor([2, 3, 4, 5])"
            ]
          },
          "metadata": {
            "tags": []
          },
          "execution_count": 106
        }
      ]
    },
    {
      "cell_type": "markdown",
      "metadata": {
        "id": "F2wjbK9nsHEu",
        "colab_type": "text"
      },
      "source": [
        "shape를 맞춰줄 때 사용하기 유용한 메서드들\n",
        "> unsqueeze() : 차원 추가\n",
        "\n",
        "> squeeze(): 차원 압축"
      ]
    },
    {
      "cell_type": "code",
      "metadata": {
        "id": "6P1uWyxWp7DU",
        "colab_type": "code",
        "outputId": "7889e70a-7bb9-4561-a0c3-880d54d95fc1",
        "colab": {
          "base_uri": "https://localhost:8080/",
          "height": 36
        }
      },
      "source": [
        "a.shape"
      ],
      "execution_count": 0,
      "outputs": [
        {
          "output_type": "execute_result",
          "data": {
            "text/plain": [
              "torch.Size([1, 4])"
            ]
          },
          "metadata": {
            "tags": []
          },
          "execution_count": 107
        }
      ]
    },
    {
      "cell_type": "code",
      "metadata": {
        "id": "oZ8ikYZLsVzI",
        "colab_type": "code",
        "outputId": "24ae7d55-f004-4477-de40-35b3bef5ba39",
        "colab": {
          "base_uri": "https://localhost:8080/",
          "height": 36
        }
      },
      "source": [
        "a.unsqueeze(1).shape"
      ],
      "execution_count": 0,
      "outputs": [
        {
          "output_type": "execute_result",
          "data": {
            "text/plain": [
              "torch.Size([1, 1, 4])"
            ]
          },
          "metadata": {
            "tags": []
          },
          "execution_count": 108
        }
      ]
    },
    {
      "cell_type": "code",
      "metadata": {
        "id": "0aoAflTOsYyE",
        "colab_type": "code",
        "outputId": "225c0a94-607c-49d7-9144-062acf175620",
        "colab": {
          "base_uri": "https://localhost:8080/",
          "height": 36
        }
      },
      "source": [
        "a.unsqueeze(1).squeeze(0).shape"
      ],
      "execution_count": 0,
      "outputs": [
        {
          "output_type": "execute_result",
          "data": {
            "text/plain": [
              "torch.Size([1, 4])"
            ]
          },
          "metadata": {
            "tags": []
          },
          "execution_count": 109
        }
      ]
    },
    {
      "cell_type": "markdown",
      "metadata": {
        "id": "rTlQj1dFslto",
        "colab_type": "text"
      },
      "source": [
        "size(idx) 로 특정 차원의 크기를 뽑을 수 있다."
      ]
    },
    {
      "cell_type": "code",
      "metadata": {
        "id": "4RP--99KsgR2",
        "colab_type": "code",
        "outputId": "6a994206-b5c4-4076-e9c8-0b873e637cf3",
        "colab": {
          "base_uri": "https://localhost:8080/",
          "height": 36
        }
      },
      "source": [
        "a.size(0)"
      ],
      "execution_count": 0,
      "outputs": [
        {
          "output_type": "execute_result",
          "data": {
            "text/plain": [
              "1"
            ]
          },
          "metadata": {
            "tags": []
          },
          "execution_count": 110
        }
      ]
    },
    {
      "cell_type": "markdown",
      "metadata": {
        "id": "DUQBFW1gsydI",
        "colab_type": "text"
      },
      "source": [
        "Tensor를 cuda(gpu)에 얹는다."
      ]
    },
    {
      "cell_type": "code",
      "metadata": {
        "id": "OnVPp6eYsi24",
        "colab_type": "code",
        "outputId": "5f905321-3e62-4959-ef4b-c7f7411285a9",
        "colab": {
          "base_uri": "https://localhost:8080/",
          "height": 36
        }
      },
      "source": [
        "a = torch.cuda.FloatTensor([0, -10, -1, -1])\n",
        "a"
      ],
      "execution_count": 0,
      "outputs": [
        {
          "output_type": "execute_result",
          "data": {
            "text/plain": [
              "tensor([  0., -10.,  -1.,  -1.], device='cuda:0')"
            ]
          },
          "metadata": {
            "tags": []
          },
          "execution_count": 111
        }
      ]
    },
    {
      "cell_type": "markdown",
      "metadata": {
        "id": "hxIBK3wutphq",
        "colab_type": "text"
      },
      "source": [
        "gpu를 얼마나 사용하는지 궁금하다면 다음과 같은 방법으로 확인할 수 있다."
      ]
    },
    {
      "cell_type": "code",
      "metadata": {
        "id": "WrP8qLoMsx7-",
        "colab_type": "code",
        "outputId": "53db1b26-1108-4b79-e574-3e636953542b",
        "colab": {
          "base_uri": "https://localhost:8080/",
          "height": 336
        }
      },
      "source": [
        "!nvidia-smi"
      ],
      "execution_count": 0,
      "outputs": [
        {
          "output_type": "stream",
          "text": [
            "Mon Aug 12 13:10:42 2019       \n",
            "+-----------------------------------------------------------------------------+\n",
            "| NVIDIA-SMI 418.67       Driver Version: 410.79       CUDA Version: 10.0     |\n",
            "|-------------------------------+----------------------+----------------------+\n",
            "| GPU  Name        Persistence-M| Bus-Id        Disp.A | Volatile Uncorr. ECC |\n",
            "| Fan  Temp  Perf  Pwr:Usage/Cap|         Memory-Usage | GPU-Util  Compute M. |\n",
            "|===============================+======================+======================|\n",
            "|   0  Tesla T4            Off  | 00000000:00:04.0 Off |                    0 |\n",
            "| N/A   71C    P0    30W /  70W |    771MiB / 15079MiB |      0%      Default |\n",
            "+-------------------------------+----------------------+----------------------+\n",
            "                                                                               \n",
            "+-----------------------------------------------------------------------------+\n",
            "| Processes:                                                       GPU Memory |\n",
            "|  GPU       PID   Type   Process name                             Usage      |\n",
            "|=============================================================================|\n",
            "+-----------------------------------------------------------------------------+\n"
          ],
          "name": "stdout"
        }
      ]
    },
    {
      "cell_type": "markdown",
      "metadata": {
        "id": "VDAhmoD3t0BL",
        "colab_type": "text"
      },
      "source": [
        "Linear한 NeuralNetwork를 만들어보자\n",
        "\n",
        "- Linear(input, output)"
      ]
    },
    {
      "cell_type": "code",
      "metadata": {
        "id": "QbK1oJfxtwI0",
        "colab_type": "code",
        "colab": {}
      },
      "source": [
        "linear = nn.Linear(4,1)"
      ],
      "execution_count": 0,
      "outputs": []
    },
    {
      "cell_type": "code",
      "metadata": {
        "id": "uYTKVxxYt9GQ",
        "colab_type": "code",
        "colab": {}
      },
      "source": [
        "x = torch.FloatTensor([0,1,1,1])"
      ],
      "execution_count": 0,
      "outputs": []
    },
    {
      "cell_type": "code",
      "metadata": {
        "id": "BrtdeEBquA0u",
        "colab_type": "code",
        "outputId": "a09c50ef-1670-49a5-a37b-9c4f155f7f73",
        "colab": {
          "base_uri": "https://localhost:8080/",
          "height": 36
        }
      },
      "source": [
        "linear(x)"
      ],
      "execution_count": 0,
      "outputs": [
        {
          "output_type": "execute_result",
          "data": {
            "text/plain": [
              "tensor([0.7082], grad_fn=<AddBackward0>)"
            ]
          },
          "metadata": {
            "tags": []
          },
          "execution_count": 115
        }
      ]
    },
    {
      "cell_type": "markdown",
      "metadata": {
        "id": "-ncbT0YsuLkm",
        "colab_type": "text"
      },
      "source": [
        "neural network에서 각 노드의 가중치를 확인 할 수 있다."
      ]
    },
    {
      "cell_type": "code",
      "metadata": {
        "id": "YbRMgfOjuB3w",
        "colab_type": "code",
        "outputId": "f0466738-29aa-4872-daf1-8f775c10db6d",
        "colab": {
          "base_uri": "https://localhost:8080/",
          "height": 55
        }
      },
      "source": [
        "linear.weight"
      ],
      "execution_count": 0,
      "outputs": [
        {
          "output_type": "execute_result",
          "data": {
            "text/plain": [
              "Parameter containing:\n",
              "tensor([[ 0.4241, -0.0110,  0.1188,  0.3466]], requires_grad=True)"
            ]
          },
          "metadata": {
            "tags": []
          },
          "execution_count": 116
        }
      ]
    },
    {
      "cell_type": "code",
      "metadata": {
        "id": "EYIWv40quLPD",
        "colab_type": "code",
        "outputId": "df70a828-6ca8-4f7b-b697-3688c05543bc",
        "colab": {
          "base_uri": "https://localhost:8080/",
          "height": 75
        }
      },
      "source": [
        "linear = nn.Linear(4,10)\n",
        "linear(x)"
      ],
      "execution_count": 0,
      "outputs": [
        {
          "output_type": "execute_result",
          "data": {
            "text/plain": [
              "tensor([ 1.1927, -0.0906,  0.9266, -0.6678,  0.2183,  0.0761, -0.6019, -0.0789,\n",
              "        -0.2328, -0.9423], grad_fn=<AddBackward0>)"
            ]
          },
          "metadata": {
            "tags": []
          },
          "execution_count": 117
        }
      ]
    },
    {
      "cell_type": "code",
      "metadata": {
        "id": "yROw7DLiug0O",
        "colab_type": "code",
        "colab": {}
      },
      "source": [
        "x = torch.FloatTensor([0,-10,-1,-1])"
      ],
      "execution_count": 0,
      "outputs": []
    },
    {
      "cell_type": "markdown",
      "metadata": {
        "id": "SXNgl5TfuuI-",
        "colab_type": "text"
      },
      "source": [
        "### Sigmoid\n",
        "- sigmoid는 0~1 사이인 Activation Function이다.\n",
        "- gradient vanishing 문제가 있다.\n",
        "- 양수 이므로 양의 방향으로만 갈 수 있다. \n",
        "- 지수함수를 계산해야 하므로 계산비용이 많이 든다."
      ]
    },
    {
      "cell_type": "code",
      "metadata": {
        "id": "CLqOwxCyuorv",
        "colab_type": "code",
        "outputId": "4b424fdf-aaeb-47fd-d29e-ac2d0864dcc1",
        "colab": {
          "base_uri": "https://localhost:8080/",
          "height": 112
        }
      },
      "source": [
        "F.sigmoid(linear(x))"
      ],
      "execution_count": 0,
      "outputs": [
        {
          "output_type": "stream",
          "text": [
            "/usr/local/lib/python3.6/dist-packages/torch/nn/functional.py:1386: UserWarning: nn.functional.sigmoid is deprecated. Use torch.sigmoid instead.\n",
            "  warnings.warn(\"nn.functional.sigmoid is deprecated. Use torch.sigmoid instead.\")\n"
          ],
          "name": "stderr"
        },
        {
          "output_type": "execute_result",
          "data": {
            "text/plain": [
              "tensor([0.0115, 0.0161, 0.0036, 0.5837, 0.1279, 0.0314, 0.7872, 0.0656, 0.0253,\n",
              "        0.9812], grad_fn=<SigmoidBackward>)"
            ]
          },
          "metadata": {
            "tags": []
          },
          "execution_count": 119
        }
      ]
    },
    {
      "cell_type": "markdown",
      "metadata": {
        "id": "tcqkFF75vNEW",
        "colab_type": "text"
      },
      "source": [
        "### Tanh\n",
        "- tanh는 sigmoid가 0점이 맞지 않아 양의 방향으로만 이동할 수 있으므로 0점을 맞춰주게 만든 것이다. \n",
        "- 범위는 -1 ~ 1이다.\n",
        "- 여전히 gradient vanishin 문제가 발생한다."
      ]
    },
    {
      "cell_type": "code",
      "metadata": {
        "id": "mUfhmpL7uqRr",
        "colab_type": "code",
        "outputId": "ca2b3787-96f1-4353-deaa-047d700a6053",
        "colab": {
          "base_uri": "https://localhost:8080/",
          "height": 112
        }
      },
      "source": [
        "F.tanh(linear(x))"
      ],
      "execution_count": 0,
      "outputs": [
        {
          "output_type": "stream",
          "text": [
            "/usr/local/lib/python3.6/dist-packages/torch/nn/functional.py:1374: UserWarning: nn.functional.tanh is deprecated. Use torch.tanh instead.\n",
            "  warnings.warn(\"nn.functional.tanh is deprecated. Use torch.tanh instead.\")\n"
          ],
          "name": "stderr"
        },
        {
          "output_type": "execute_result",
          "data": {
            "text/plain": [
              "tensor([-0.9997, -0.9995, -1.0000,  0.3257, -0.9579, -0.9979,  0.8638, -0.9902,\n",
              "        -0.9987,  0.9993], grad_fn=<TanhBackward>)"
            ]
          },
          "metadata": {
            "tags": []
          },
          "execution_count": 120
        }
      ]
    },
    {
      "cell_type": "markdown",
      "metadata": {
        "id": "ko11na2hxvLJ",
        "colab_type": "text"
      },
      "source": [
        "### Softmax\n",
        "- 입력 받은 값을 모든 출력의 합이 1이 되는 0~1 값으로 만들어주는 함수.\n",
        "- 출력 레이어 바로 앞의 산경망 레이어를 통해 구현된다.\n",
        "- 소프트맥스 레이어의 노드 수는 출력 레이어와 같아야한다."
      ]
    },
    {
      "cell_type": "code",
      "metadata": {
        "id": "GrCv40j6vMZ4",
        "colab_type": "code",
        "outputId": "f46cde99-f1e9-4879-f5b1-52eb22b3d2c3",
        "colab": {
          "base_uri": "https://localhost:8080/",
          "height": 93
        }
      },
      "source": [
        "F.softmax(linear(x), dim=0)"
      ],
      "execution_count": 0,
      "outputs": [
        {
          "output_type": "execute_result",
          "data": {
            "text/plain": [
              "tensor([2.0114e-04, 2.8406e-04, 6.1833e-05, 2.4314e-02, 2.5430e-03, 5.6264e-04,\n",
              "        6.4134e-02, 1.2169e-03, 4.4927e-04, 9.0623e-01],\n",
              "       grad_fn=<SoftmaxBackward>)"
            ]
          },
          "metadata": {
            "tags": []
          },
          "execution_count": 121
        }
      ]
    },
    {
      "cell_type": "code",
      "metadata": {
        "id": "81n486IXvf5C",
        "colab_type": "code",
        "outputId": "f8c14c60-3e7d-4036-f5eb-df20e7c4a73e",
        "colab": {
          "base_uri": "https://localhost:8080/",
          "height": 36
        }
      },
      "source": [
        "F.softmax(linear(x), dim=0).sum()"
      ],
      "execution_count": 0,
      "outputs": [
        {
          "output_type": "execute_result",
          "data": {
            "text/plain": [
              "tensor(1.0000, grad_fn=<SumBackward0>)"
            ]
          },
          "metadata": {
            "tags": []
          },
          "execution_count": 122
        }
      ]
    },
    {
      "cell_type": "markdown",
      "metadata": {
        "id": "62SYmPQWySl0",
        "colab_type": "text"
      },
      "source": [
        "### sklearn의 fetch_california_housing 데이터로 연습해보자."
      ]
    },
    {
      "cell_type": "code",
      "metadata": {
        "id": "bkjxmSVMxuQK",
        "colab_type": "code",
        "colab": {}
      },
      "source": [
        "from sklearn.datasets import fetch_california_housing"
      ],
      "execution_count": 0,
      "outputs": []
    },
    {
      "cell_type": "code",
      "metadata": {
        "id": "ig8ToGQIydn2",
        "colab_type": "code",
        "colab": {}
      },
      "source": [
        "data = fetch_california_housing()"
      ],
      "execution_count": 0,
      "outputs": []
    },
    {
      "cell_type": "markdown",
      "metadata": {
        "id": "KXtwQCGkyuSk",
        "colab_type": "text"
      },
      "source": [
        "sklearn.utils.Bunch를 dir해보면 다음과 같이 나온다.\n",
        "\n",
        "- DESCR : 데이터셋에 대한 설명\n",
        "- data: ndarray형식의 데이터\n",
        "- feature_names : 속성 이름들\n",
        "- target: 타겟 데이터(레이블)"
      ]
    },
    {
      "cell_type": "code",
      "metadata": {
        "id": "1jbxWdSfyfOy",
        "colab_type": "code",
        "outputId": "bd0672b6-fbed-4f6d-d562-412dd2b5b630",
        "colab": {
          "base_uri": "https://localhost:8080/",
          "height": 36
        }
      },
      "source": [
        "dir(data), type(data)"
      ],
      "execution_count": 0,
      "outputs": [
        {
          "output_type": "execute_result",
          "data": {
            "text/plain": [
              "(['DESCR', 'data', 'feature_names', 'target'], sklearn.utils.Bunch)"
            ]
          },
          "metadata": {
            "tags": []
          },
          "execution_count": 163
        }
      ]
    },
    {
      "cell_type": "code",
      "metadata": {
        "id": "BDUCmbVjygLh",
        "colab_type": "code",
        "outputId": "3e6aa8d4-e0e8-460a-d2c9-32763ca48960",
        "colab": {
          "base_uri": "https://localhost:8080/",
          "height": 36
        }
      },
      "source": [
        "data.data.shape"
      ],
      "execution_count": 0,
      "outputs": [
        {
          "output_type": "execute_result",
          "data": {
            "text/plain": [
              "(20640, 8)"
            ]
          },
          "metadata": {
            "tags": []
          },
          "execution_count": 164
        }
      ]
    },
    {
      "cell_type": "code",
      "metadata": {
        "id": "fJ20yUJiynyM",
        "colab_type": "code",
        "outputId": "418543d8-8048-471a-c0b9-cd74fae6b9c6",
        "colab": {
          "base_uri": "https://localhost:8080/",
          "height": 167
        }
      },
      "source": [
        "data.feature_names"
      ],
      "execution_count": 0,
      "outputs": [
        {
          "output_type": "execute_result",
          "data": {
            "text/plain": [
              "['MedInc',\n",
              " 'HouseAge',\n",
              " 'AveRooms',\n",
              " 'AveBedrms',\n",
              " 'Population',\n",
              " 'AveOccup',\n",
              " 'Latitude',\n",
              " 'Longitude']"
            ]
          },
          "metadata": {
            "tags": []
          },
          "execution_count": 165
        }
      ]
    },
    {
      "cell_type": "code",
      "metadata": {
        "id": "qLdSwnwwyrxD",
        "colab_type": "code",
        "outputId": "2a366ed5-522b-45cf-d862-9495c1e9d107",
        "colab": {
          "base_uri": "https://localhost:8080/",
          "height": 36
        }
      },
      "source": [
        "data.target"
      ],
      "execution_count": 0,
      "outputs": [
        {
          "output_type": "execute_result",
          "data": {
            "text/plain": [
              "array([4.526, 3.585, 3.521, ..., 0.923, 0.847, 0.894])"
            ]
          },
          "metadata": {
            "tags": []
          },
          "execution_count": 166
        }
      ]
    },
    {
      "cell_type": "markdown",
      "metadata": {
        "id": "MYDEVG0zzC3-",
        "colab_type": "text"
      },
      "source": [
        "matplotlib으로 데이터를 그려서 확인해보자."
      ]
    },
    {
      "cell_type": "code",
      "metadata": {
        "id": "iCl3WCGHzAQp",
        "colab_type": "code",
        "colab": {}
      },
      "source": [
        "import matplotlib.pyplot as plt"
      ],
      "execution_count": 0,
      "outputs": []
    },
    {
      "cell_type": "code",
      "metadata": {
        "id": "nBuI_42FzKWx",
        "colab_type": "code",
        "outputId": "7b250ce9-6162-45b9-e66e-67834048e2f6",
        "colab": {
          "base_uri": "https://localhost:8080/",
          "height": 283
        }
      },
      "source": [
        "n, bins, patches = plt.hist(data.target, 50, density=True)\n",
        "plt.xlabel('Housing Value')\n",
        "plt.ylabel('Probability')\n",
        "plt.show()"
      ],
      "execution_count": 0,
      "outputs": [
        {
          "output_type": "display_data",
          "data": {
            "image/png": "[encoded data removed]",
            "text/plain": [
              "<Figure size 432x288 with 1 Axes>"
            ]
          },
          "metadata": {
            "tags": []
          }
        }
      ]
    },
    {
      "cell_type": "markdown",
      "metadata": {
        "id": "CuP_JrKYzpBL",
        "colab_type": "text"
      },
      "source": [
        "trainset과 testset을 나눈다."
      ]
    },
    {
      "cell_type": "code",
      "metadata": {
        "id": "DQgtLu_UzgaW",
        "colab_type": "code",
        "outputId": "04310c80-67fc-4fad-bafe-d1ef70453219",
        "colab": {
          "base_uri": "https://localhost:8080/",
          "height": 36
        }
      },
      "source": [
        "from sklearn.model_selection import train_test_split\n",
        "\n",
        "X_train, X_test, y_train, y_test = \\\n",
        "    train_test_split(data.data, data.target, test_size=0.2)\n",
        "X_train.shape"
      ],
      "execution_count": 0,
      "outputs": [
        {
          "output_type": "execute_result",
          "data": {
            "text/plain": [
              "(16512, 8)"
            ]
          },
          "metadata": {
            "tags": []
          },
          "execution_count": 169
        }
      ]
    },
    {
      "cell_type": "markdown",
      "metadata": {
        "id": "5MLerzPP0AJ4",
        "colab_type": "text"
      },
      "source": [
        "데이터는 정규화(Normalize)를 해준다.\n",
        "- y값의 경우에는 5에 큰 값이 있으므로 정규화가 필요하다.\n",
        "- 표준화를 하게 되면 평균과 표준에 5가 많은 영향을 미치기 때문에 정규화(min max scale)해준다.\n"
      ]
    },
    {
      "cell_type": "code",
      "metadata": {
        "id": "s9uQoV2xz-4F",
        "colab_type": "code",
        "outputId": "2c291e94-aef6-461a-b3ae-b5080d464758",
        "colab": {
          "base_uri": "https://localhost:8080/",
          "height": 55
        }
      },
      "source": [
        "min_, max_ = y_train.min(), y_train.max()\n",
        "\n",
        "y_train = (y_train - min_)/(max_ - min_)\n",
        "y_train"
      ],
      "execution_count": 0,
      "outputs": [
        {
          "output_type": "execute_result",
          "data": {
            "text/plain": [
              "array([0.55010289, 0.25257834, 0.18391883, ..., 0.30412452, 0.25319689,\n",
              "       0.25670203])"
            ]
          },
          "metadata": {
            "tags": []
          },
          "execution_count": 170
        }
      ]
    },
    {
      "cell_type": "markdown",
      "metadata": {
        "id": "slpL_xhG2H6s",
        "colab_type": "text"
      },
      "source": [
        "data.data 값은 StandardScaler를 이용하여 표준화 해준다.\n",
        "\n",
        "> 정규화와 표준화를 해주는 이유는 outlier에 덜 영향을 받게하고, 학습을 더 효율적으로 할 수 있게 해준다. \n",
        "- 딥러닝이 안정적으로 학습할 수 있다. "
      ]
    },
    {
      "cell_type": "code",
      "metadata": {
        "id": "1b7rLVhW0mWh",
        "colab_type": "code",
        "outputId": "33470d68-1669-43af-ee95-fd0a9019ba30",
        "colab": {
          "base_uri": "https://localhost:8080/",
          "height": 36
        }
      },
      "source": [
        "from sklearn.preprocessing import StandardScaler\n",
        "\n",
        "std_scaler = StandardScaler()\n",
        "std_scaler.fit(X_train)"
      ],
      "execution_count": 0,
      "outputs": [
        {
          "output_type": "execute_result",
          "data": {
            "text/plain": [
              "StandardScaler(copy=True, with_mean=True, with_std=True)"
            ]
          },
          "metadata": {
            "tags": []
          },
          "execution_count": 171
        }
      ]
    },
    {
      "cell_type": "code",
      "metadata": {
        "id": "zf5BrU8B2nzx",
        "colab_type": "code",
        "outputId": "e75f3c7e-e431-41c6-b7ef-c28187efa79d",
        "colab": {
          "base_uri": "https://localhost:8080/",
          "height": 55
        }
      },
      "source": [
        "std_scaler.mean_ # 8개의 feature에 대하여 평균 값을 알 수 있다."
      ],
      "execution_count": 0,
      "outputs": [
        {
          "output_type": "execute_result",
          "data": {
            "text/plain": [
              "array([ 3.86423012e+00,  2.85882994e+01,  5.43043421e+00,  1.09683556e+00,\n",
              "        1.42841594e+03,  2.98554144e+00,  3.56264474e+01, -1.19564140e+02])"
            ]
          },
          "metadata": {
            "tags": []
          },
          "execution_count": 172
        }
      ]
    },
    {
      "cell_type": "code",
      "metadata": {
        "id": "RkQZPTcs21aE",
        "colab_type": "code",
        "colab": {}
      },
      "source": [
        "X_train = std_scaler.transform(X_train)"
      ],
      "execution_count": 0,
      "outputs": []
    },
    {
      "cell_type": "markdown",
      "metadata": {
        "id": "CN7ArI7t3GL_",
        "colab_type": "text"
      },
      "source": [
        "테스트 데이터는 train 데이터로 fit 시킨 같은 scaler로 scaling 해준다. "
      ]
    },
    {
      "cell_type": "code",
      "metadata": {
        "id": "xd4EFrEX3AXR",
        "colab_type": "code",
        "colab": {}
      },
      "source": [
        "X_test = std_scaler.transform(X_test)"
      ],
      "execution_count": 0,
      "outputs": []
    },
    {
      "cell_type": "code",
      "metadata": {
        "id": "WHayVeE_3FpK",
        "colab_type": "code",
        "outputId": "e8fa8194-8b8d-4d19-8717-1ab4c10f80da",
        "colab": {
          "base_uri": "https://localhost:8080/",
          "height": 260
        }
      },
      "source": [
        "X_train"
      ],
      "execution_count": 0,
      "outputs": [
        {
          "output_type": "execute_result",
          "data": {
            "text/plain": [
              "array([[ 0.90284063,  0.27044191,  0.36242397, ..., -0.09089849,\n",
              "        -0.87442521,  0.8762163 ],\n",
              "       [-1.19444881, -0.12590282, -1.06147364, ...,  0.01158789,\n",
              "        -0.72919111,  0.66142557],\n",
              "       [-1.04744006, -0.12590282,  0.17368634, ..., -0.03693737,\n",
              "         1.55238977, -0.19773733],\n",
              "       ...,\n",
              "       [-0.72402081,  1.85582084, -0.24498479, ...,  0.32651275,\n",
              "         0.79810944, -1.16679317],\n",
              "       [-0.3721551 ,  0.90459348, -0.60903722, ...,  0.12430298,\n",
              "        -0.77135585,  0.61147424],\n",
              "       [ 0.0834128 , -0.99786123, -0.42489948, ..., -0.18894881,\n",
              "        -0.87911018,  0.8612309 ]])"
            ]
          },
          "metadata": {
            "tags": []
          },
          "execution_count": 175
        }
      ]
    },
    {
      "cell_type": "markdown",
      "metadata": {
        "id": "gD2FD9nr3aKm",
        "colab_type": "text"
      },
      "source": [
        "### 준비한 데이터를 Tensor로 바꿔더 데이터 셋을 준비한다."
      ]
    },
    {
      "cell_type": "code",
      "metadata": {
        "id": "7FWsHuIL3XSV",
        "colab_type": "code",
        "colab": {}
      },
      "source": [
        "X_train, y_train = torch.from_numpy(X_train), torch.from_numpy(y_train)\n",
        "X_test, y_test = torch.from_numpy(X_test), torch.from_numpy(y_test)\n",
        "\n",
        "# numpy의 float는 float 64이고,\n",
        "# torch의 float는 float32여서 후에 에러가 난다.\n",
        "X_train, y_train = X_train.float(), y_train.float()\n",
        "X_test, y_test = X_test.float(), y_test.float()"
      ],
      "execution_count": 0,
      "outputs": []
    },
    {
      "cell_type": "code",
      "metadata": {
        "id": "6oLNzhr835Tj",
        "colab_type": "code",
        "colab": {}
      },
      "source": [
        "y_train, y_test = y_train.view(-1,1), y_test.view(-1,1) # 2차원으로 변환해준다."
      ],
      "execution_count": 0,
      "outputs": []
    },
    {
      "cell_type": "code",
      "metadata": {
        "id": "xRTIOdLh36iZ",
        "colab_type": "code",
        "colab": {}
      },
      "source": [
        "from torch.utils.data import TensorDataset, DataLoader"
      ],
      "execution_count": 0,
      "outputs": []
    },
    {
      "cell_type": "code",
      "metadata": {
        "id": "627S5JtP4UNT",
        "colab_type": "code",
        "colab": {}
      },
      "source": [
        "train_dataset = TensorDataset(X_train, y_train)\n",
        "test_dataset = TensorDataset(X_test, y_test)\n",
        "\n",
        "train_loader = DataLoader(train_dataset, batch_size=32, shuffle=True)\n",
        "test_loader = DataLoader(test_dataset, batch_size=32)"
      ],
      "execution_count": 0,
      "outputs": []
    },
    {
      "cell_type": "markdown",
      "metadata": {
        "id": "1v_lwZ7l5xJj",
        "colab_type": "text"
      },
      "source": [
        "### 모델 정의\n",
        "- 모델은 torch.nn.Module을 꼭 상속 받아야한다.\n",
        "- \\_\\_init__()과 forward()는 무조건 재정의(overriding) 해야한다."
      ]
    },
    {
      "cell_type": "code",
      "metadata": {
        "id": "h3PUEUFU416Y",
        "colab_type": "code",
        "colab": {}
      },
      "source": [
        "class Model(nn.Module):\n",
        "    def __init__(self, input_dim, hidden_dim): # input_dim은 feature수를 맞춰줘야한다.\n",
        "        super(Model, self).__init__()\n",
        "        self.input_dim = input_dim\n",
        "        self.hidden_dim = hidden_dim\n",
        "        \n",
        "        self.linear1 = nn.Linear(self.input_dim, hidden_dim)\n",
        "        self.linear2 = nn.Linear(self.hidden_dim, 1)\n",
        "        \n",
        "    def forward(self, x):\n",
        "        z1 = self.linear1(x)\n",
        "        a1 = torch.relu(z1)\n",
        "        z2 = self.linear2(a1)\n",
        "        a2 = torch.sigmoid(z2) # 정규화 결과 0~1 (y_train을 정규화 시켰었음)\n",
        "        return a2"
      ],
      "execution_count": 0,
      "outputs": []
    },
    {
      "cell_type": "code",
      "metadata": {
        "id": "3iAFQH227UU1",
        "colab_type": "code",
        "colab": {}
      },
      "source": [
        "model = Model(8,32).to(device)\n",
        "\n",
        "mse_loss = nn.MSELoss()\n",
        "optimizer = torch.optim.Adam(model.parameters(), lr=0.001, weight_decay=1e-6)"
      ],
      "execution_count": 0,
      "outputs": []
    },
    {
      "cell_type": "markdown",
      "metadata": {
        "id": "zIWBkX54-PPj",
        "colab_type": "text"
      },
      "source": [
        "학습을 시킨다"
      ]
    },
    {
      "cell_type": "code",
      "metadata": {
        "id": "y7THQNLY7ipC",
        "colab_type": "code",
        "outputId": "ba94fc0e-6bbe-4a2c-9983-82643964d048",
        "colab": {
          "base_uri": "https://localhost:8080/",
          "height": 577
        }
      },
      "source": [
        "epochs = 10\n",
        "\n",
        "model.train()\n",
        "\n",
        "for e in range(epochs):\n",
        "    for i, (batch_X, batch_y) in enumerate(train_loader):\n",
        "        batch_X, batch_y = batch_X.to(device), batch_y.to(device)\n",
        "        \n",
        "        predict = model(batch_X)\n",
        "        \n",
        "        loss = mse_loss(predict, batch_y)\n",
        "        \n",
        "        # 이전 가중치를 초기화\n",
        "        optimizer.zero_grad()\n",
        "        # 가중치별로 gradient 계산\n",
        "        loss.backward()\n",
        "        # 계산한 가중치로 모델 업데이트(적용)\n",
        "        optimizer.step()\n",
        "        \n",
        "        if i % 200 == 0:\n",
        "            loss = loss.item()\n",
        "            print(f\"{e}, {i} - {loss}\")"
      ],
      "execution_count": 0,
      "outputs": [
        {
          "output_type": "stream",
          "text": [
            "0, 0 - 0.06024446338415146\n",
            "0, 200 - 0.02710741199553013\n",
            "0, 400 - 0.03207741677761078\n",
            "1, 0 - 0.009991991333663464\n",
            "1, 200 - 0.022432725876569748\n",
            "1, 400 - 0.014252042397856712\n",
            "2, 0 - 0.024562880396842957\n",
            "2, 200 - 0.015989534556865692\n",
            "2, 400 - 0.010215846821665764\n",
            "3, 0 - 0.016719529405236244\n",
            "3, 200 - 0.014277635142207146\n",
            "3, 400 - 0.010240472853183746\n",
            "4, 0 - 0.013331815600395203\n",
            "4, 200 - 0.00561302388086915\n",
            "4, 400 - 0.011921905912458897\n",
            "5, 0 - 0.014876969158649445\n",
            "5, 200 - 0.030988242477178574\n",
            "5, 400 - 0.008802986703813076\n",
            "6, 0 - 0.02267391048371792\n",
            "6, 200 - 0.004476603586226702\n",
            "6, 400 - 0.011380057781934738\n",
            "7, 0 - 0.008687714114785194\n",
            "7, 200 - 0.013305948115885258\n",
            "7, 400 - 0.01967448554933071\n",
            "8, 0 - 0.014974867925047874\n",
            "8, 200 - 0.015256810933351517\n",
            "8, 400 - 0.011425806209445\n",
            "9, 0 - 0.010613483376801014\n",
            "9, 200 - 0.018030758947134018\n",
            "9, 400 - 0.03839049115777016\n"
          ],
          "name": "stdout"
        }
      ]
    },
    {
      "cell_type": "markdown",
      "metadata": {
        "id": "aFQxuuTU-X7y",
        "colab_type": "text"
      },
      "source": [
        "### 학습시킨 모델의 성능을 테스트 하기 위해 테스트 데이터로 테스트를 실행한다. \n",
        "\n",
        "- 테스트 시에는 학습시킬 때 사용되는 gradient를 사용하지 않는다고 선언함으로써 gpu사용을 줄이고 모델이 학습되지 않게 할 수 있다. "
      ]
    },
    {
      "cell_type": "code",
      "metadata": {
        "id": "EZCtzfb-8ZtR",
        "colab_type": "code",
        "outputId": "0f36a2e4-0ef2-4991-a565-c735ffe37776",
        "colab": {
          "base_uri": "https://localhost:8080/",
          "height": 615
        }
      },
      "source": [
        "#L1Loss(절대값의 차이의 평균)\n",
        "l1_loss = nn.L1Loss()\n",
        "test_num = 0\n",
        "total_loss = []\n",
        "\n",
        "with torch.no_grad(): # 테스트 모드로, gradient 측정을 하지 않겠다 선언\n",
        "    model.eval() # 테스트 모드로 모델을 사용하겠다.\n",
        "    \n",
        "    for batch_X, batch_y in test_loader:\n",
        "        batch_X, batch_y = batch_X.to(device), batch_y.to(device)\n",
        "        \n",
        "        predict = model(batch_X)\n",
        "        \n",
        "        # normalize해서 학습을 시켰으므로 predict도 normalize된 값으로 예측한다\n",
        "        # 그러므로 test data와 loss 비교를 하려면 원래 scale로 돌려야 한다. \n",
        "        predict = (max_ - min_) * predict + min_\n",
        "        \n",
        "        loss = l1_loss(predict, batch_y)\n",
        "        \n",
        "        loss = loss.item()\n",
        "        \n",
        "        # l1_loss로 각 배치마다의 평균을 구하게 되는데\n",
        "        # 그렇게 되면 마지막 평균은 batch_size보다 작을 수도 있기 때문에\n",
        "        # 전체 loss 합 을 더해서 전체 사이즈로 나눠서 구한다.\n",
        "        batch_size = batch_X.size(0)\n",
        "        total_loss.append(predict*batch_size)\n",
        "        test_num += batch_size\n",
        "        \n",
        "total_loss = np.sum(total_loss) / test_num\n",
        "print(\"total_loss:\",total_loss)"
      ],
      "execution_count": 0,
      "outputs": [
        {
          "output_type": "stream",
          "text": [
            "total_loss: tensor([[2.3012],\n",
            "        [1.9426],\n",
            "        [1.9466],\n",
            "        [2.0690],\n",
            "        [2.0560],\n",
            "        [2.2026],\n",
            "        [2.1181],\n",
            "        [2.0476],\n",
            "        [2.0563],\n",
            "        [2.0840],\n",
            "        [2.0598],\n",
            "        [1.9472],\n",
            "        [2.1972],\n",
            "        [2.2249],\n",
            "        [2.0826],\n",
            "        [2.2383],\n",
            "        [2.2991],\n",
            "        [2.2002],\n",
            "        [1.9374],\n",
            "        [2.1126],\n",
            "        [2.1097],\n",
            "        [2.1583],\n",
            "        [2.1063],\n",
            "        [1.9397],\n",
            "        [2.0738],\n",
            "        [2.0405],\n",
            "        [2.0518],\n",
            "        [1.9689],\n",
            "        [2.1036],\n",
            "        [2.2747],\n",
            "        [2.0948],\n",
            "        [2.0622]], device='cuda:0')\n"
          ],
          "name": "stdout"
        }
      ]
    },
    {
      "cell_type": "markdown",
      "metadata": {
        "id": "O-dEMgybCfuA",
        "colab_type": "text"
      },
      "source": [
        "선형 회귀 모델을 만들어서 학습시켜보자"
      ]
    },
    {
      "cell_type": "code",
      "metadata": {
        "id": "t54hoGt7-TGM",
        "colab_type": "code",
        "colab": {}
      },
      "source": [
        "class Model(nn.Module):\n",
        "    def __init__(self, input_dim, hidden_dim):\n",
        "        super(Model, self).__init__()\n",
        "        self.input_dim = input_dim\n",
        "        self.hidden_dim = hidden_dim\n",
        "        \n",
        "        # 선형 회귀와 같아진다.\n",
        "        self.linear1 = nn.Linear(self.input_dim, 1)\n",
        "        \n",
        "    def forward(self, x):\n",
        "        z1 = self.linear1(x)\n",
        "        a1 = torch.sigmoid(z1)\n",
        "        return a1\n",
        "        "
      ],
      "execution_count": 0,
      "outputs": []
    },
    {
      "cell_type": "code",
      "metadata": {
        "id": "_fp9PoYTC-YO",
        "colab_type": "code",
        "colab": {}
      },
      "source": [
        "model = Model(8, 32).to(device)\n",
        "mse_loss = nn.MSELoss()\n",
        "optimizer = torch.optim.Adam(model.parameters(), lr=0.001, weight_decay=1e-6)"
      ],
      "execution_count": 0,
      "outputs": []
    },
    {
      "cell_type": "code",
      "metadata": {
        "id": "2FKBHmYSDlUA",
        "colab_type": "code",
        "outputId": "85008449-fc09-4a93-b36a-e43b9976971c",
        "colab": {
          "base_uri": "https://localhost:8080/",
          "height": 577
        }
      },
      "source": [
        "epochs = 10\n",
        "\n",
        "model.train()\n",
        "\n",
        "for e in range(epochs):\n",
        "    for i, (batch_X, batch_y) in enumerate(train_loader):\n",
        "        batch_X, batch_y = batch_X.to(device), batch_y.to(device)\n",
        "        \n",
        "        predict = model(batch_X)\n",
        "        \n",
        "        loss = mse_loss(predict, batch_y)\n",
        "        \n",
        "        # 이전 가중치를 초기화\n",
        "        optimizer.zero_grad()\n",
        "        # 가중치별로 gradient 계산\n",
        "        loss.backward()\n",
        "        # 계산한 가중치로 모델 업데이트(적용)\n",
        "        optimizer.step()\n",
        "        \n",
        "        if i % 200 == 0:\n",
        "            loss = loss.item()\n",
        "            print(f\"{e}, {i} - {loss}\")"
      ],
      "execution_count": 0,
      "outputs": [
        {
          "output_type": "stream",
          "text": [
            "0, 0 - 0.07736165821552277\n",
            "0, 200 - 0.027653256431221962\n",
            "0, 400 - 0.042314313352108\n",
            "1, 0 - 0.04582469165325165\n",
            "1, 200 - 0.031570225954055786\n",
            "1, 400 - 0.014938200823962688\n",
            "2, 0 - 0.018468618392944336\n",
            "2, 200 - 0.021183906123042107\n",
            "2, 400 - 0.04341934993863106\n",
            "3, 0 - 0.02317853458225727\n",
            "3, 200 - 0.01736103743314743\n",
            "3, 400 - 0.011157049797475338\n",
            "4, 0 - 0.024227505549788475\n",
            "4, 200 - 0.012603103183209896\n",
            "4, 400 - 0.012517379596829414\n",
            "5, 0 - 0.030755070969462395\n",
            "5, 200 - 0.01645289734005928\n",
            "5, 400 - 0.03565330430865288\n",
            "6, 0 - 0.015602638013660908\n",
            "6, 200 - 0.008569028228521347\n",
            "6, 400 - 0.012388978153467178\n",
            "7, 0 - 0.019105633720755577\n",
            "7, 200 - 0.012832444161176682\n",
            "7, 400 - 0.02404497005045414\n",
            "8, 0 - 0.01779511198401451\n",
            "8, 200 - 0.0083283931016922\n",
            "8, 400 - 0.01706349104642868\n",
            "9, 0 - 0.0242485161870718\n",
            "9, 200 - 0.012748624198138714\n",
            "9, 400 - 0.011281337589025497\n"
          ],
          "name": "stdout"
        }
      ]
    },
    {
      "cell_type": "code",
      "metadata": {
        "id": "W98IVo2rDwLR",
        "colab_type": "code",
        "outputId": "a033bae3-5d06-46ad-f49a-2c7cf451a763",
        "colab": {
          "base_uri": "https://localhost:8080/",
          "height": 36
        }
      },
      "source": [
        "# L1Loss : 절대 값의 차이만 보고 이정도 차이가 나는구나를 알 수 있다.\n",
        "l1_loss = nn.L1Loss()\n",
        "test_num = 0\n",
        "total_loss = []\n",
        "\n",
        "with torch.no_grad():\n",
        "    model.eval()\n",
        "    \n",
        "    for batch_X, batch_y in test_loader:\n",
        "        batch_X, batch_y = batch_X.to(device), batch_y.to(device) # gpu 메모리로 복사를 해주겠다.\n",
        "        \n",
        "        predict = model(batch_X)\n",
        "        \n",
        "        predict = (max_ - min_)* predict + min_\n",
        "        loss = l1_loss(predict, batch_y)\n",
        "        \n",
        "        loss = loss.item()\n",
        "#       batch_size를 곱해주면 평균으로 부터 원래의 합을 구할 수 있다. 이 것을 다 더해서 나중에 전체 크기로 나눠준다.\n",
        "        batch_size = batch_X.size(0)\n",
        "        total_loss.append(loss*batch_size)\n",
        "        test_num += batch_size\n",
        "        \n",
        "# 이렇게 하면 안 되는 경우가 있다.\n",
        "# 32개씩 나누고 남은 것들이 문제 된다. -> batch_size\n",
        "total_loss = np.sum(total_loss) / test_num\n",
        "print(total_loss)"
      ],
      "execution_count": 0,
      "outputs": [
        {
          "output_type": "stream",
          "text": [
            "0.47285565988037936\n"
          ],
          "name": "stdout"
        }
      ]
    },
    {
      "cell_type": "code",
      "metadata": {
        "id": "CY4kZok0EBEC",
        "colab_type": "code",
        "colab": {}
      },
      "source": [
        ""
      ],
      "execution_count": 0,
      "outputs": []
    }
  ]
}