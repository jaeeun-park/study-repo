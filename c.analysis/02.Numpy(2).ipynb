{
 "cells": [
  {
   "cell_type": "markdown",
   "metadata": {},
   "source": [
    "# Numpy(2)\n",
    "- 계산을 위해 array의 모양을 자동적으로 맞춰주는게 중요하다.\n",
    "- 벡터 기반으로 데이터를 처리하는 라이브러리\n",
    "- array 기반이다."
   ]
  },
  {
   "cell_type": "code",
   "execution_count": 1,
   "metadata": {},
   "outputs": [],
   "source": [
    "import numpy as np"
   ]
  },
  {
   "cell_type": "markdown",
   "metadata": {},
   "source": [
    "### info()말고 정보 보는 법 - 중요! ★★"
   ]
  },
  {
   "cell_type": "code",
   "execution_count": 5,
   "metadata": {
    "collapsed": true
   },
   "outputs": [
    {
     "name": "stdout",
     "output_type": "stream",
     "text": [
      "Search results for '* array'\n",
      "----------------------------\n",
      "numpy.exp\n",
      "    Calculate the exponential of all elements in the input array.\n",
      "numpy.cbrt\n",
      "    Return the cube-root of an array, element-wise.\n",
      "numpy.exp2\n",
      "    Calculate `2**p` for all `p` in the input array.\n",
      "numpy.fmax\n",
      "    Element-wise maximum of array elements.\n",
      "numpy.fmin\n",
      "    Element-wise minimum of array elements.\n",
      "numpy.modf\n",
      "    Return the fractional and integral parts of an array, element-wise.\n",
      "numpy.rint\n",
      "    Round elements of the array to the nearest integer.\n",
      "numpy.sqrt\n",
      "    Return the non-negative square-root of an array, element-wise.\n",
      "numpy.expm1\n",
      "    Calculate ``exp(x) - 1`` for all elements in the array.\n",
      "numpy.isnan\n",
      "    Test element-wise for NaN and return result as a boolean array.\n",
      "numpy.isnat\n",
      "    Test element-wise for NaT (not a time) and return result as a boolean array.\n",
      "numpy.log10\n",
      "    Return the base 10 logarithm of the input array, element-wise.\n",
      "numpy.log1p\n",
      "    Return the natural logarithm of one plus the input array, element-wise.\n",
      "numpy.power\n",
      "    First array elements raised to powers from second array, element-wise.\n",
      "numpy.matmul\n",
      "    Matrix product of two arrays.\n",
      "numpy.memmap\n",
      "    Create a memory-map to an array stored in a *binary* file on disk.\n",
      "numpy.maximum\n",
      "    Element-wise maximum of array elements.\n",
      "numpy.minimum\n",
      "    Element-wise minimum of array elements.\n",
      "numpy.isfortran\n",
      "    Returns True if the array is Fortran contiguous but *not* C contiguous.\n",
      "numpy.bitwise_or\n",
      "    Compute the bit-wise OR of two arrays element-wise.\n",
      "numpy.bitwise_and\n",
      "    Compute the bit-wise AND of two arrays element-wise.\n",
      "numpy.bitwise_xor\n",
      "    Compute the bit-wise XOR of two arrays element-wise.\n",
      "numpy.float_power\n",
      "    First array elements raised to powers from second array, element-wise.\n",
      "numpy.result_type\n",
      "    result_type(*arrays_and_dtypes)\n",
      "numpy.ma.exp\n",
      "    Calculate the exponential of all elements in the input array.\n",
      "numpy.chararray.item\n",
      "    a.item(*args)\n",
      "numpy.ma.sqrt\n",
      "    Return the non-negative square-root of an array, element-wise.\n",
      "numpy.real_if_close\n",
      "    If complex input returns a real array if complex parts are close to zero.\n",
      "numpy.ma.log10\n",
      "    Return the base 10 logarithm of the input array, element-wise.\n",
      "numpy.chararray.itemset\n",
      "    a.itemset(*args)\n",
      "numpy.apply_along_axis\n",
      "    Apply a function to 1-D slices along the given axis.\n",
      "numpy.ma.maximum\n",
      "    Element-wise maximum of array elements.\n",
      "numpy.ma.minimum\n",
      "    Element-wise minimum of array elements.\n",
      "numpy.chararray.transpose\n",
      "    a.transpose(*axes)\n",
      "numpy.ma.atleast_1d\n",
      "    atleast_1d(*arys)\n",
      "numpy.ma.atleast_2d\n",
      "    atleast_2d(*arys)\n",
      "numpy.ma.atleast_3d\n",
      "    atleast_3d(*arys)\n",
      "numpy.ma.bitwise_or\n",
      "    Compute the bit-wise OR of two arrays element-wise.\n",
      "numpy.ma.bitwise_and\n",
      "    Compute the bit-wise AND of two arrays element-wise.\n",
      "numpy.ma.bitwise_xor\n",
      "    Compute the bit-wise XOR of two arrays element-wise.\n",
      "numpy.ma.fromfunction\n",
      "    Construct an array by executing a function over each coordinate.\n",
      "numpy.ma.apply_along_axis\n",
      "    Apply a function to 1-D slices along the given axis.\n",
      "numpy.ndarray\n",
      "    ndarray(shape, dtype=float, buffer=None, offset=0,\n",
      "numpy.i0\n",
      "    Modified Bessel function of the first kind, order 0.\n",
      "numpy.recarray\n",
      "    Construct an ndarray that allows field access using attributes.\n",
      "numpy.abs\n",
      "    Calculate the absolute value element-wise.\n",
      "numpy.add\n",
      "    Add arguments element-wise.\n",
      "numpy.chararray\n",
      "    chararray(shape, itemsize=1, unicode=False, buffer=None, offset=0,\n",
      "numpy.cos\n",
      "    Cosine element-wise.\n",
      "numpy.dot\n",
      "    Dot product of two arrays. Specifically,\n",
      "numpy.gcd\n",
      "    Returns the greatest common divisor of ``|x1|`` and ``|x2|``\n",
      "numpy.lcm\n",
      "    Returns the lowest common multiple of ``|x1|`` and ``|x2|``\n",
      "numpy.log\n",
      "    Natural logarithm, element-wise.\n",
      "numpy.mod\n",
      "    Return element-wise remainder of division.\n",
      "numpy.put\n",
      "    Replaces specified elements of an array with given values.\n",
      "numpy.sin\n",
      "    Trigonometric sine, element-wise.\n",
      "numpy.tan\n",
      "    Compute tangent element-wise.\n",
      "numpy.var\n",
      "    Compute the variance along the specified axis.\n",
      "numpy.ceil\n",
      "    Return the ceiling of the input, element-wise.\n",
      "numpy.conj\n",
      "    Return the complex conjugate, element-wise.\n",
      "numpy.cosh\n",
      "    Hyperbolic cosine, element-wise.\n",
      "numpy.fabs\n",
      "    Compute the absolute values element-wise.\n",
      "numpy.fmod\n",
      "    Return the element-wise remainder of division.\n",
      "numpy.isin\n",
      "    Calculates `element in test_elements`, broadcasting over `element` only.\n",
      "numpy.kron\n",
      "    Kronecker product of two arrays.\n",
      "numpy.less\n",
      "    Return the truth value of (x1 < x2) element-wise.\n",
      "numpy.log2\n",
      "    Base-2 logarithm of `x`.\n",
      "numpy.mean\n",
      "    Compute the arithmetic mean along the specified axis.\n",
      "numpy.sign\n",
      "    Returns an element-wise indication of the sign of a number.\n",
      "numpy.sinh\n",
      "    Hyperbolic sine, element-wise.\n",
      "numpy.sort\n",
      "    Return a sorted copy of an array.\n",
      "numpy.take\n",
      "    Take elements from an array along an axis.\n",
      "numpy.tanh\n",
      "    Compute hyperbolic tangent element-wise.\n",
      "numpy.array_split\n",
      "    Split an array into multiple sub-arrays.\n",
      "numpy.block\n",
      "    Assemble an nd-array from nested lists of blocks.\n",
      "numpy.equal\n",
      "    Return (x1 == x2) element-wise.\n",
      "numpy.floor\n",
      "    Return the floor of the input, element-wise.\n",
      "numpy.frexp\n",
      "    Decompose the elements of x into mantissa and twos exponent.\n",
      "numpy.hypot\n",
      "    Given the \"legs\" of a right triangle, return its hypotenuse.\n",
      "numpy.inner\n",
      "    Inner product of two arrays.\n",
      "numpy.isinf\n",
      "    Test element-wise for positive or negative infinity.\n",
      "numpy.ldexp\n",
      "    Returns x1 * 2**x2, element-wise.\n",
      "numpy.ravel\n",
      "    Return a contiguous flattened array.\n",
      "numpy.roots\n",
      "    Return the roots of a polynomial with coefficients given in p.\n",
      "numpy.savez\n",
      "    Save several arrays into a single file in uncompressed ``.npz`` format.\n",
      "numpy.trunc\n",
      "    Return the truncated value of the input, element-wise.\n",
      "numpy.ufunc\n",
      "    Functions that operate element by element on whole arrays.\n",
      "numpy.arccos\n",
      "    Trigonometric inverse cosine, element-wise.\n",
      "numpy.arcsin\n",
      "    Inverse sine, element-wise.\n",
      "numpy.arctan\n",
      "    Trigonometric inverse tangent, element-wise.\n",
      "numpy.choose\n",
      "    Construct an array from an index array and a set of arrays to choose from.\n",
      "numpy.copyto\n",
      "    Copies values from one array to another, broadcasting as necessary.\n",
      "numpy.divide\n",
      "    Returns a true division of the inputs, element-wise.\n",
      "numpy.divmod\n",
      "    Return element-wise quotient and remainder simultaneously.\n",
      "numpy.einsum\n",
      "    einsum(subscripts, *operands, out=None, dtype=None, order='K',\n",
      "numpy.nanvar\n",
      "    Compute the variance along the specified axis, while ignoring NaNs.\n",
      "numpy.nditer\n",
      "    Efficient multi-dimensional iterator object to iterate over arrays.\n",
      "numpy.resize\n",
      "    Return a new array with the specified shape.\n",
      "numpy.select\n",
      "    Return an array drawn from elements in choicelist, depending on conditions.\n",
      "numpy.square\n",
      "    Return the element-wise square of the input.\n",
      "numpy.unique\n",
      "    Find the unique elements of an array.\n",
      "numpy.unwrap\n",
      "    Unwrap by changing deltas between values to 2*pi complement.\n",
      "numpy.arccosh\n",
      "    Inverse hyperbolic cosine, element-wise.\n",
      "numpy.arcsinh\n",
      "    Inverse hyperbolic sine element-wise.\n",
      "numpy.arctan2\n",
      "    Element-wise arc tangent of ``x1/x2`` choosing the quadrant correctly.\n",
      "numpy.arctanh\n",
      "    Inverse hyperbolic tangent element-wise.\n",
      "numpy.deg2rad\n",
      "    Convert angles from degrees to radians.\n",
      "numpy.degrees\n",
      "    Convert angles from radians to degrees.\n",
      "numpy.greater\n",
      "    Return the truth value of (x1 > x2) element-wise.\n",
      "numpy.isclose\n",
      "    Returns a boolean array where two arrays are element-wise equal within a\n",
      "numpy.ndindex\n",
      "    An N-dimensional iterator object to index arrays.\n",
      "numpy.polyfit\n",
      "    Least squares polynomial fit.\n",
      "numpy.putmask\n",
      "    Changes elements of an array based on conditional and input values.\n",
      "numpy.rad2deg\n",
      "    Convert angles from radians to degrees.\n",
      "numpy.radians\n",
      "    Convert angles from degrees to radians.\n",
      "numpy.require\n",
      "    Return an ndarray of the provided type that satisfies requirements.\n",
      "numpy.reshape\n",
      "    Gives a new shape to an array without changing its data.\n",
      "numpy.savetxt\n",
      "    Save an array to a text file.\n",
      "numpy.signbit\n",
      "    Returns element-wise True where signbit is set (less than zero).\n",
      "numpy.spacing\n",
      "    Return the distance between x and the nearest adjacent number.\n",
      "numpy.allclose\n",
      "    Returns True if two arrays are element-wise equal within a tolerance.\n",
      "numpy.copysign\n",
      "    Change the sign of x1 to that of x2, element-wise.\n",
      "numpy.errstate\n",
      "    errstate(**kwargs)\n",
      "numpy.fromiter\n",
      "    Create a new 1-dimensional array from an iterable object.\n",
      "numpy.gradient\n",
      "    Return the gradient of an N-dimensional array.\n",
      "numpy.isfinite\n",
      "    Test element-wise for finiteness (not infinity or not Not a Number).\n",
      "numpy.logspace\n",
      "    Return numbers spaced evenly on a log scale.\n",
      "numpy.meshgrid\n",
      "    Return coordinate matrices from coordinate vectors.\n",
      "numpy.multiply\n",
      "    Multiply arguments element-wise.\n",
      "numpy.negative\n",
      "    Numerical negative, element-wise.\n",
      "numpy.positive\n",
      "    Numerical positive, element-wise.\n",
      "numpy.subtract\n",
      "    Subtract arguments, element-wise.\n",
      "numpy.heaviside\n",
      "    Compute the Heaviside step function.\n",
      "numpy.logaddexp\n",
      "    Logarithm of the sum of exponentiations of the inputs.\n",
      "numpy.nextafter\n",
      "    Return the next floating-point value after x1 towards x2, element-wise.\n",
      "numpy.not_equal\n",
      "    Return (x1 != x2) element-wise.\n",
      "numpy.tensordot\n",
      "    Compute tensor dot product along specified axes for arrays >= 1-D.\n",
      "numpy.broadcast_arrays\n",
      "    Broadcast any number of arrays against each other.\n",
      "numpy.empty_like\n",
      "    Return a new array with the same shape and type as a given array.\n",
      "numpy.left_shift\n",
      "    Shift the bits of an integer to the left.\n",
      "numpy.less_equal\n",
      "    Return the truth value of (x1 =< x2) element-wise.\n",
      "numpy.logaddexp2\n",
      "    Logarithm of the sum of exponentiations of the inputs in base-2.\n",
      "numpy.logical_or\n",
      "    Compute the truth value of x1 OR x2 element-wise.\n",
      "numpy.nancumprod\n",
      "    Return the cumulative product of array elements over a given axis treating Not a\n",
      "numpy.percentile\n",
      "    Compute the q-th percentile of the data along the specified axis.\n",
      "numpy.reciprocal\n",
      "    Return the reciprocal of the argument, element-wise.\n",
      "numpy.bitwise_not\n",
      "    Compute bit-wise inversion, or bit-wise NOT, element-wise.\n",
      "numpy.byte_bounds\n",
      "    Returns pointers to the end-points of an array.\n",
      "numpy.chararray.dot\n",
      "    Dot product of two arrays.\n",
      "numpy.concatenate\n",
      "    Join a sequence of arrays along an existing axis.\n",
      "numpy.einsum_path\n",
      "    Evaluates the lowest cost contraction order for an einsum expression by\n",
      "numpy.logical_and\n",
      "    Compute the truth value of x1 AND x2 element-wise.\n",
      "numpy.logical_not\n",
      "    Compute the truth value of NOT x element-wise.\n",
      "numpy.logical_xor\n",
      "    Compute the truth value of x1 XOR x2, element-wise.\n",
      "numpy.nanquantile\n",
      "    Compute the qth quantile of the data along the specified axis,\n",
      "numpy.right_shift\n",
      "    Shift the bits of an integer to the right.\n",
      "numpy.ma.abs\n",
      "    Calculate the absolute value element-wise.\n",
      "numpy.ma.add\n",
      "    Add arguments element-wise.\n",
      "numpy.ma.cos\n",
      "    Cosine element-wise.\n",
      "numpy.ma.log\n",
      "    Natural logarithm, element-wise.\n",
      "numpy.ma.mod\n",
      "    Return element-wise remainder of division.\n",
      "numpy.ma.sin\n",
      "    Trigonometric sine, element-wise.\n",
      "numpy.ma.sum\n",
      "    Return the sum of the array elements over the given axis.\n",
      "numpy.ma.tan\n",
      "    Compute tangent element-wise.\n",
      "numpy.floor_divide\n",
      "    Return the largest integer smaller or equal to the division of the inputs.\n",
      "numpy.ma.ceil\n",
      "    Return the ceiling of the input, element-wise.\n",
      "numpy.ma.copy\n",
      "    a.copy(order='C')\n",
      "numpy.ma.cosh\n",
      "    Hyperbolic cosine, element-wise.\n",
      "numpy.ma.fabs\n",
      "    Compute the absolute values element-wise.\n",
      "numpy.ma.fmod\n",
      "    Return the element-wise remainder of division.\n",
      "numpy.ma.less\n",
      "    Return the truth value of (x1 < x2) element-wise.\n",
      "numpy.ma.log2\n",
      "    Base-2 logarithm of `x`.\n",
      "numpy.ma.sinh\n",
      "    Hyperbolic sine, element-wise.\n",
      "numpy.ma.tanh\n",
      "    Compute hyperbolic tangent element-wise.\n",
      "numpy.greater_equal\n",
      "    Return the truth value of (x1 >= x2) element-wise.\n",
      "numpy.ma.equal\n",
      "    Return (x1 == x2) element-wise.\n",
      "numpy.ma.floor\n",
      "    Return the floor of the input, element-wise.\n",
      "numpy.ma.hypot\n",
      "    Given the \"legs\" of a right triangle, return its hypotenuse.\n",
      "numpy.ma.inner\n",
      "    Inner product of two arrays.\n",
      "numpy.chararray.astype\n",
      "    Copy of the array, cast to a specified type.\n",
      "numpy.ma.power\n",
      "    Returns element-wise base array raised to power from second array.\n",
      "numpy.linalg.qr\n",
      "    Compute the qr factorization of a matrix.\n",
      "numpy.ma.arccos\n",
      "    Trigonometric inverse cosine, element-wise.\n",
      "numpy.ma.arcsin\n",
      "    Inverse sine, element-wise.\n",
      "numpy.ma.arctan\n",
      "    Trigonometric inverse tangent, element-wise.\n",
      "numpy.ma.choose\n",
      "    Use an index array to construct a new array from a set of choices.\n",
      "numpy.ma.divide\n",
      "    Returns a true division of the inputs, element-wise.\n",
      "numpy.ma.median\n",
      "    Compute the median along the specified axis.\n",
      "numpy.chararray.flatten\n",
      "    Return a copy of the array collapsed into one dimension.\n",
      "numpy.ma.repeat\n",
      "    a.repeat(repeats, axis=None)\n",
      "numpy.linalg.eig\n",
      "    Compute the eigenvalues and right eigenvectors of a square array.\n",
      "numpy.linalg.svd\n",
      "    Singular Value Decomposition.\n",
      "numpy.set_numeric_ops\n",
      "    Set numerical operators for array objects.\n",
      "numpy.ma.arccosh\n",
      "    Inverse hyperbolic cosine, element-wise.\n",
      "numpy.ma.arcsinh\n",
      "    Inverse hyperbolic sine element-wise.\n",
      "numpy.ma.arctan2\n",
      "    Element-wise arc tangent of ``x1/x2`` choosing the quadrant correctly.\n",
      "numpy.ma.arctanh\n",
      "    Inverse hyperbolic tangent element-wise.\n",
      "numpy.fft.fftfreq\n",
      "    Return the Discrete Fourier Transform sample frequencies.\n",
      "numpy.ma.greater\n",
      "    Return the truth value of (x1 > x2) element-wise.\n",
      "numpy.ma.polyfit\n",
      "    Least squares polynomial fit.\n",
      "numpy.chararray.getfield\n",
      "    Returns a field of the given array as a certain type.\n",
      "numpy.ma.putmask\n",
      "    Changes elements of an array based on conditional and input values.\n",
      "numpy.may_share_memory\n",
      "    Determine if two arrays might share memory\n",
      "numpy.set_printoptions\n",
      "    Set printing options.\n",
      "numpy.ma.allclose\n",
      "    Returns True if two arrays are element-wise equal within a tolerance.\n",
      "numpy.char.multiply\n",
      "    Return (a * i), that is string multiple concatenation,\n",
      "numpy.ma.diagonal\n",
      "    a.diagonal(offset=0, axis1=0, axis2=1)\n",
      "numpy.ma.fromflex\n",
      "    Build a masked array from a suitable flexible-type array.\n",
      "numpy.ma.multiply\n",
      "    Multiply arguments element-wise.\n",
      "numpy.ma.negative\n",
      "    Numerical negative, element-wise.\n",
      "numpy.ma.subtract\n",
      "    Subtract arguments, element-wise.\n",
      "numpy.ma.swapaxes\n",
      "    a.swapaxes(axis1, axis2)\n",
      "numpy.ravel_multi_index\n",
      "    Converts a tuple of index arrays into an array of flat\n",
      "numpy.ma.conjugate\n",
      "    Return the complex conjugate, element-wise.\n",
      "numpy.ma.not_equal\n",
      "    Return (x1 != x2) element-wise.\n",
      "numpy.ma.remainder\n",
      "    Return element-wise remainder of division.\n",
      "numpy.datetime_as_string\n",
      "    Convert an array of datetimes into an array of strings.\n",
      "numpy.ma.empty_like\n",
      "    Return a new array with the same shape and type as a given array.\n",
      "numpy.ma.less_equal\n",
      "    Return the truth value of (x1 =< x2) element-wise.\n",
      "numpy.ma.logical_or\n",
      "    Compute the truth value of x1 OR x2 element-wise.\n",
      "numpy.linalg.slogdet\n",
      "    Compute the sign and (natural) logarithm of the determinant of an array.\n",
      "numpy.ma.logical_and\n",
      "    Compute the truth value of x1 AND x2 element-wise.\n",
      "numpy.ma.logical_not\n",
      "    Compute the truth value of NOT x element-wise.\n",
      "numpy.ma.logical_xor\n",
      "    Compute the truth value of x1 XOR x2, element-wise.\n",
      "numpy.chararray.newbyteorder\n",
      "    Return the array with the same data viewed with a different byte order.\n",
      "numpy.ma.true_divide\n",
      "    Returns a true division of the inputs, element-wise.\n",
      "numpy.linalg.cholesky\n",
      "    Cholesky decomposition.\n",
      "numpy.ma.floor_divide\n",
      "    Return the largest integer smaller or equal to the division of the inputs.\n",
      "numpy.ma.mask_rowcols\n",
      "    Mask rows and/or columns of a 2D array that contain masked values.\n",
      "numpy.linalg.multi_dot\n",
      "    Compute the dot product of two or more arrays in a single function call,\n",
      "numpy.linalg.tensorinv\n",
      "    Compute the 'inverse' of an N-dimensional array.\n",
      "numpy.ma.greater_equal\n",
      "    Return the truth value of (x1 >= x2) element-wise.\n",
      "numpy.linalg.matrix_rank\n",
      "    Return matrix rank of array using SVD method\n",
      "numpy.fv\n",
      "    Compute the future value.\n",
      "numpy.pv\n",
      "    Compute the present value.\n",
      "numpy.cov\n",
      "    Estimate a covariance matrix, given data and weights.\n",
      "numpy.pmt\n",
      "    Compute the payment against loan principal plus interest.\n",
      "numpy.std\n",
      "    Compute the standard deviation along the specified axis.\n",
      "numpy.ipmt\n",
      "    Compute the interest portion of a payment.\n",
      "numpy.nper\n",
      "    Compute the number of periodic payments.\n",
      "numpy.poly\n",
      "    Find the coefficients of a polynomial with the given sequence of roots.\n",
      "numpy.rate\n",
      "    Compute the rate of interest per period.\n",
      "numpy.vdot\n",
      "    Return the dot product of two vectors.\n",
      "numpy.outer\n",
      "    Compute the outer product of two vectors.\n",
      "numpy.MachAr\n",
      "    Diagnosing machine parameters.\n",
      "numpy.where\n",
      "    Return elements chosen from `x` or `y` depending on `condition`.\n",
      "numpy.interp\n",
      "    One-dimensional linear interpolation.\n",
      "numpy.kaiser\n",
      "    Return the Kaiser window.\n",
      "numpy.matrix\n",
      "    .. note:: It is no longer recommended to use this class, even for linear\n",
      "numpy.nanstd\n",
      "    Compute the standard deviation along the specified axis, while\n",
      "numpy.poly1d\n",
      "    A one-dimensional polynomial class.\n",
      "numpy.vander\n",
      "    Generate a Vandermonde matrix.\n",
      "numpy.cumprod\n",
      "    Return the cumulative product of elements along a given axis.\n",
      "numpy.hamming\n",
      "    Return the Hamming window.\n",
      "numpy.hanning\n",
      "    Return the Hanning window.\n",
      "numpy.polyval\n",
      "    Evaluate a polynomial at specific values.\n",
      "numpy.bartlett\n",
      "    Return the Bartlett window.\n",
      "numpy.blackman\n",
      "    Return the Blackman window.\n",
      "numpy.can_cast\n",
      "    Returns True if cast between data types can occur according to the\n",
      "numpy.convolve\n",
      "    Returns the discrete, linear convolution of two one-dimensional sequences.\n",
      "numpy.corrcoef\n",
      "    Return Pearson product-moment correlation coefficients.\n",
      "numpy.quantile\n",
      "    Compute the q-th quantile of the data along the specified axis.\n",
      "numpy.correlate\n",
      "    Cross-correlation of two 1-dimensional sequences.\n",
      "numpy.histogram\n",
      "    Compute the histogram of a set of data.\n",
      "numpy.piecewise\n",
      "    Evaluate a piecewise-defined function.\n",
      "numpy.vectorize\n",
      "    vectorize(pyfunc, otypes=None, doc=None, excluded=None, cache=False,\n",
      "numpy.genfromtxt\n",
      "    Load data from a text file, with missing values handled as specified.\n",
      "numpy.seterrcall\n",
      "    Set the floating-point error callback function or log object.\n",
      "numpy.histogram2d\n",
      "    Compute the bi-dimensional histogram of two data samples.\n",
      "numpy.histogramdd\n",
      "    Compute the multidimensional histogram of some data.\n",
      "numpy.ma.var\n",
      "    Compute the variance along the specified axis.\n",
      "numpy.busday_offset\n",
      "    First adjusts the date to fall on a valid day according to\n",
      "numpy.nanpercentile\n",
      "    Compute the qth percentile of the data along the specified axis,\n",
      "numpy.ma.outer\n",
      "    Compute the outer product of two vectors.\n",
      "numpy.ma.ravel\n",
      "    Returns a 1D version of self, as a view.\n",
      "numpy.ma.vander\n",
      "    Generate a Vandermonde matrix.\n",
      "numpy.linalg.cond\n",
      "    Compute the condition number of a matrix.\n",
      "numpy.linalg.eigh\n",
      "    Return the eigenvalues and eigenvectors of a complex Hermitian\n",
      "numpy.linalg.norm\n",
      "    Matrix or vector norm.\n",
      "numpy.linalg.pinv\n",
      "    Compute the (Moore-Penrose) pseudo-inverse of a matrix.\n",
      "numpy.ma.compress\n",
      "    Return `a` where condition is ``True``.\n",
      "numpy.fft.rfftfreq\n",
      "    Return the Discrete Fourier Transform sample frequencies\n",
      "numpy.matlib.rand\n",
      "    Return a matrix of random values with given shape.\n",
      "numpy.linalg.lstsq\n",
      "    Return the least-squares solution to a linear matrix equation.\n",
      "numpy.linalg.solve\n",
      "    Solve a linear matrix equation, or system of linear scalar equations.\n",
      "numpy.matrix.ravel\n",
      "    Return a flattened matrix.\n",
      "numpy.histogram_bin_edges\n",
      "    Function to calculate only the edges of the bins used by the `histogram` function.\n",
      "numpy.linalg.eigvals\n",
      "    Compute the eigenvalues of a general matrix.\n",
      "numpy.ma.fix_invalid\n",
      "    Return input with invalid data masked and replaced by a fill value.\n",
      "numpy.matrix.flatten\n",
      "    Return a flattened copy of the matrix.\n",
      "numpy.bool8.newbyteorder\n",
      "    Return a new `dtype` with a different byte order.\n",
      "numpy.dtype.newbyteorder\n",
      "    Return a new dtype with a different byte order.\n",
      "numpy.linalg.tensorsolve\n",
      "    Solve the tensor equation ``a x = b`` for x.\n",
      "numpy.polynomial.Hermite\n",
      "    An Hermite series class.\n",
      "numpy.linalg.matrix_power\n",
      "    Raise a square matrix to the (integer) power `n`.\n",
      "numpy.polynomial.HermiteE\n",
      "    An HermiteE series class.\n",
      "numpy.polynomial.Laguerre\n",
      "    A Laguerre series class.\n",
      "numpy.polynomial.Legendre\n",
      "    A Legendre series class.\n",
      "numpy.polynomial.Chebyshev\n",
      "    A Chebyshev series class.\n",
      "numpy.polynomial.Polynomial\n",
      "    A power series class."
     ]
    }
   ],
   "source": [
    "np.lookfor('* array')"
   ]
  },
  {
   "cell_type": "markdown",
   "metadata": {},
   "source": [
    "0차 배열 - 스칼라 값"
   ]
  },
  {
   "cell_type": "code",
   "execution_count": 6,
   "metadata": {},
   "outputs": [],
   "source": [
    "a = np.array(100)"
   ]
  },
  {
   "cell_type": "code",
   "execution_count": 7,
   "metadata": {},
   "outputs": [
    {
     "data": {
      "text/plain": [
       "array(100)"
      ]
     },
     "execution_count": 7,
     "metadata": {},
     "output_type": "execute_result"
    }
   ],
   "source": [
    "a"
   ]
  },
  {
   "cell_type": "markdown",
   "metadata": {},
   "source": [
    "[]로 묶어줘야 최소 1차"
   ]
  },
  {
   "cell_type": "code",
   "execution_count": 8,
   "metadata": {},
   "outputs": [],
   "source": [
    "a = np.array([1,2,3])"
   ]
  },
  {
   "cell_type": "code",
   "execution_count": 9,
   "metadata": {},
   "outputs": [
    {
     "data": {
      "text/plain": [
       "array([1, 2, 3])"
      ]
     },
     "execution_count": 9,
     "metadata": {},
     "output_type": "execute_result"
    }
   ],
   "source": [
    "a"
   ]
  },
  {
   "cell_type": "code",
   "execution_count": 10,
   "metadata": {},
   "outputs": [],
   "source": [
    "a = np.array([[1,2,3],[4,5,6]])"
   ]
  },
  {
   "cell_type": "code",
   "execution_count": 11,
   "metadata": {},
   "outputs": [
    {
     "data": {
      "text/plain": [
       "array([[1, 2, 3],\n",
       "       [4, 5, 6]])"
      ]
     },
     "execution_count": 11,
     "metadata": {},
     "output_type": "execute_result"
    }
   ],
   "source": [
    "a"
   ]
  },
  {
   "cell_type": "markdown",
   "metadata": {},
   "source": [
    "sum, avg등으로 하나의 값으로 축약 -> reduction"
   ]
  },
  {
   "cell_type": "markdown",
   "metadata": {},
   "source": [
    "### 모양 바꾸기★★★\n",
    "1. reshape : stride 개념을 이용하기 때문에 거의 realtime으로 변환이 가능하다.\n",
    "    - 뮤터블 펑션이 아니기 때문에 자신이 바뀌지 않는다."
   ]
  },
  {
   "cell_type": "code",
   "execution_count": 12,
   "metadata": {},
   "outputs": [],
   "source": [
    "a = np.arange(27)"
   ]
  },
  {
   "cell_type": "code",
   "execution_count": 13,
   "metadata": {},
   "outputs": [
    {
     "data": {
      "text/plain": [
       "array([ 0,  1,  2,  3,  4,  5,  6,  7,  8,  9, 10, 11, 12, 13, 14, 15, 16,\n",
       "       17, 18, 19, 20, 21, 22, 23, 24, 25, 26])"
      ]
     },
     "execution_count": 13,
     "metadata": {},
     "output_type": "execute_result"
    }
   ],
   "source": [
    "a"
   ]
  },
  {
   "cell_type": "code",
   "execution_count": 15,
   "metadata": {
    "scrolled": true
   },
   "outputs": [
    {
     "data": {
      "text/plain": [
       "(27,)"
      ]
     },
     "execution_count": 15,
     "metadata": {},
     "output_type": "execute_result"
    }
   ],
   "source": [
    "a.shape"
   ]
  },
  {
   "cell_type": "markdown",
   "metadata": {},
   "source": [
    "reshape 하려면 개수를 맞춰야한다."
   ]
  },
  {
   "cell_type": "code",
   "execution_count": 17,
   "metadata": {},
   "outputs": [
    {
     "ename": "ValueError",
     "evalue": "cannot reshape array of size 27 into shape (4,9)",
     "output_type": "error",
     "traceback": [
      "\u001b[1;31m---------------------------------------------------------------------------\u001b[0m",
      "\u001b[1;31mValueError\u001b[0m                                Traceback (most recent call last)",
      "\u001b[1;32m<ipython-input-17-00d0936071ef>\u001b[0m in \u001b[0;36m<module>\u001b[1;34m\u001b[0m\n\u001b[1;32m----> 1\u001b[1;33m \u001b[0ma\u001b[0m\u001b[1;33m.\u001b[0m\u001b[0mreshape\u001b[0m\u001b[1;33m(\u001b[0m\u001b[1;36m4\u001b[0m\u001b[1;33m,\u001b[0m\u001b[1;36m9\u001b[0m\u001b[1;33m)\u001b[0m\u001b[1;33m\u001b[0m\u001b[1;33m\u001b[0m\u001b[0m\n\u001b[0m",
      "\u001b[1;31mValueError\u001b[0m: cannot reshape array of size 27 into shape (4,9)"
     ]
    }
   ],
   "source": [
    "a.reshape(4,9)"
   ]
  },
  {
   "cell_type": "code",
   "execution_count": 18,
   "metadata": {},
   "outputs": [
    {
     "data": {
      "text/plain": [
       "array([[ 0,  1,  2,  3,  4,  5,  6,  7,  8],\n",
       "       [ 9, 10, 11, 12, 13, 14, 15, 16, 17],\n",
       "       [18, 19, 20, 21, 22, 23, 24, 25, 26]])"
      ]
     },
     "execution_count": 18,
     "metadata": {},
     "output_type": "execute_result"
    }
   ],
   "source": [
    "a.reshape(3,9)"
   ]
  },
  {
   "cell_type": "markdown",
   "metadata": {},
   "source": [
    "reshape는 자기 자신이 뮤테이션 되는 함수가 아니다. 그러므로 계속 사용할 거면 재할당 해야한다."
   ]
  },
  {
   "cell_type": "code",
   "execution_count": 19,
   "metadata": {},
   "outputs": [
    {
     "data": {
      "text/plain": [
       "array([ 0,  1,  2,  3,  4,  5,  6,  7,  8,  9, 10, 11, 12, 13, 14, 15, 16,\n",
       "       17, 18, 19, 20, 21, 22, 23, 24, 25, 26])"
      ]
     },
     "execution_count": 19,
     "metadata": {},
     "output_type": "execute_result"
    }
   ],
   "source": [
    "a"
   ]
  },
  {
   "cell_type": "markdown",
   "metadata": {},
   "source": [
    "reshape는 참조를 같이 가지고 있기 때문에 바뀌면 기존 것도 같이 바뀌기 때문에 copy 사용해야한다."
   ]
  },
  {
   "cell_type": "code",
   "execution_count": 20,
   "metadata": {},
   "outputs": [],
   "source": [
    "b = a.reshape(3,9)"
   ]
  },
  {
   "cell_type": "code",
   "execution_count": 21,
   "metadata": {},
   "outputs": [],
   "source": [
    "b[0][0] = 100"
   ]
  },
  {
   "cell_type": "code",
   "execution_count": 22,
   "metadata": {},
   "outputs": [
    {
     "data": {
      "text/plain": [
       "array([100,   1,   2,   3,   4,   5,   6,   7,   8,   9,  10,  11,  12,\n",
       "        13,  14,  15,  16,  17,  18,  19,  20,  21,  22,  23,  24,  25,\n",
       "        26])"
      ]
     },
     "execution_count": 22,
     "metadata": {},
     "output_type": "execute_result"
    }
   ],
   "source": [
    "a"
   ]
  },
  {
   "cell_type": "markdown",
   "metadata": {},
   "source": [
    "copy를 사용해서 막아야한다."
   ]
  },
  {
   "cell_type": "code",
   "execution_count": 23,
   "metadata": {},
   "outputs": [],
   "source": [
    "b = a.reshape(3,9).copy()"
   ]
  },
  {
   "cell_type": "markdown",
   "metadata": {},
   "source": [
    "-1을 사용하면 자동으로 정해준다. "
   ]
  },
  {
   "cell_type": "code",
   "execution_count": 24,
   "metadata": {},
   "outputs": [],
   "source": [
    "b = a.reshape(3,-1)"
   ]
  },
  {
   "cell_type": "code",
   "execution_count": 26,
   "metadata": {},
   "outputs": [
    {
     "data": {
      "text/plain": [
       "array([[100,   1,   2,   3,   4,   5,   6,   7,   8],\n",
       "       [  9,  10,  11,  12,  13,  14,  15,  16,  17],\n",
       "       [ 18,  19,  20,  21,  22,  23,  24,  25,  26]])"
      ]
     },
     "execution_count": 26,
     "metadata": {},
     "output_type": "execute_result"
    }
   ],
   "source": [
    "b"
   ]
  },
  {
   "cell_type": "code",
   "execution_count": 27,
   "metadata": {},
   "outputs": [],
   "source": [
    "b = a.reshape(-1,9)"
   ]
  },
  {
   "cell_type": "code",
   "execution_count": 28,
   "metadata": {},
   "outputs": [
    {
     "data": {
      "text/plain": [
       "array([[100,   1,   2,   3,   4,   5,   6,   7,   8],\n",
       "       [  9,  10,  11,  12,  13,  14,  15,  16,  17],\n",
       "       [ 18,  19,  20,  21,  22,  23,  24,  25,  26]])"
      ]
     },
     "execution_count": 28,
     "metadata": {},
     "output_type": "execute_result"
    }
   ],
   "source": [
    "b"
   ]
  },
  {
   "cell_type": "markdown",
   "metadata": {},
   "source": [
    "-1은 2개 사용할 수 없다."
   ]
  },
  {
   "cell_type": "code",
   "execution_count": 29,
   "metadata": {},
   "outputs": [
    {
     "ename": "ValueError",
     "evalue": "can only specify one unknown dimension",
     "output_type": "error",
     "traceback": [
      "\u001b[1;31m---------------------------------------------------------------------------\u001b[0m",
      "\u001b[1;31mValueError\u001b[0m                                Traceback (most recent call last)",
      "\u001b[1;32m<ipython-input-29-1e16de749e3d>\u001b[0m in \u001b[0;36m<module>\u001b[1;34m\u001b[0m\n\u001b[1;32m----> 1\u001b[1;33m \u001b[0mb\u001b[0m \u001b[1;33m=\u001b[0m \u001b[0ma\u001b[0m\u001b[1;33m.\u001b[0m\u001b[0mreshape\u001b[0m\u001b[1;33m(\u001b[0m\u001b[1;33m-\u001b[0m\u001b[1;36m1\u001b[0m\u001b[1;33m,\u001b[0m\u001b[1;33m-\u001b[0m\u001b[1;36m1\u001b[0m\u001b[1;33m)\u001b[0m\u001b[1;33m\u001b[0m\u001b[1;33m\u001b[0m\u001b[0m\n\u001b[0m",
      "\u001b[1;31mValueError\u001b[0m: can only specify one unknown dimension"
     ]
    }
   ],
   "source": [
    "b = a.reshape(-1,-1)"
   ]
  },
  {
   "cell_type": "markdown",
   "metadata": {},
   "source": [
    "\\-(마이너스) 만 사용하면 자동으로 해주는데 갈래상 -1사용"
   ]
  },
  {
   "cell_type": "code",
   "execution_count": 30,
   "metadata": {},
   "outputs": [],
   "source": [
    "b = a.reshape(3, -100)"
   ]
  },
  {
   "cell_type": "code",
   "execution_count": 31,
   "metadata": {},
   "outputs": [
    {
     "data": {
      "text/plain": [
       "array([[100,   1,   2,   3,   4,   5,   6,   7,   8],\n",
       "       [  9,  10,  11,  12,  13,  14,  15,  16,  17],\n",
       "       [ 18,  19,  20,  21,  22,  23,  24,  25,  26]])"
      ]
     },
     "execution_count": 31,
     "metadata": {},
     "output_type": "execute_result"
    }
   ],
   "source": [
    "b"
   ]
  },
  {
   "cell_type": "markdown",
   "metadata": {},
   "source": [
    "resize는 자기 자신이 변하는 뮤테이션 펑션이다."
   ]
  },
  {
   "cell_type": "code",
   "execution_count": 32,
   "metadata": {},
   "outputs": [],
   "source": [
    "a.resize((3,9))"
   ]
  },
  {
   "cell_type": "code",
   "execution_count": 33,
   "metadata": {},
   "outputs": [
    {
     "data": {
      "text/plain": [
       "array([[100,   1,   2,   3,   4,   5,   6,   7,   8],\n",
       "       [  9,  10,  11,  12,  13,  14,  15,  16,  17],\n",
       "       [ 18,  19,  20,  21,  22,  23,  24,  25,  26]])"
      ]
     },
     "execution_count": 33,
     "metadata": {},
     "output_type": "execute_result"
    }
   ],
   "source": [
    "a"
   ]
  },
  {
   "cell_type": "markdown",
   "metadata": {},
   "source": [
    "크기를 안 맞춰주면 잘린다."
   ]
  },
  {
   "cell_type": "code",
   "execution_count": 41,
   "metadata": {},
   "outputs": [],
   "source": [
    "a = np.arange(27)"
   ]
  },
  {
   "cell_type": "code",
   "execution_count": 38,
   "metadata": {},
   "outputs": [],
   "source": [
    "a.resize((3,5))"
   ]
  },
  {
   "cell_type": "code",
   "execution_count": 39,
   "metadata": {},
   "outputs": [
    {
     "data": {
      "text/plain": [
       "array([[ 0,  1,  2,  3,  4],\n",
       "       [ 5,  6,  7,  8,  9],\n",
       "       [10, 11, 12, 13, 14]])"
      ]
     },
     "execution_count": 39,
     "metadata": {},
     "output_type": "execute_result"
    }
   ],
   "source": [
    "a"
   ]
  },
  {
   "cell_type": "markdown",
   "metadata": {},
   "source": [
    "크기가 크게 리사이즈 하면 빈 만큼 0이 채워진다."
   ]
  },
  {
   "cell_type": "code",
   "execution_count": 42,
   "metadata": {},
   "outputs": [],
   "source": [
    "a.resize((3,10))"
   ]
  },
  {
   "cell_type": "code",
   "execution_count": 43,
   "metadata": {},
   "outputs": [
    {
     "data": {
      "text/plain": [
       "array([[ 0,  1,  2,  3,  4,  5,  6,  7,  8,  9],\n",
       "       [10, 11, 12, 13, 14, 15, 16, 17, 18, 19],\n",
       "       [20, 21, 22, 23, 24, 25, 26,  0,  0,  0]])"
      ]
     },
     "execution_count": 43,
     "metadata": {},
     "output_type": "execute_result"
    }
   ],
   "source": [
    "a"
   ]
  },
  {
   "cell_type": "markdown",
   "metadata": {},
   "source": [
    "resize는 음수를 지원하지 않는다"
   ]
  },
  {
   "cell_type": "code",
   "execution_count": 44,
   "metadata": {},
   "outputs": [
    {
     "ename": "ValueError",
     "evalue": "negative dimensions not allowed",
     "output_type": "error",
     "traceback": [
      "\u001b[1;31m---------------------------------------------------------------------------\u001b[0m",
      "\u001b[1;31mValueError\u001b[0m                                Traceback (most recent call last)",
      "\u001b[1;32m<ipython-input-44-0276bf510ae0>\u001b[0m in \u001b[0;36m<module>\u001b[1;34m\u001b[0m\n\u001b[1;32m----> 1\u001b[1;33m \u001b[0ma\u001b[0m\u001b[1;33m.\u001b[0m\u001b[0mresize\u001b[0m\u001b[1;33m(\u001b[0m\u001b[1;33m(\u001b[0m\u001b[1;36m3\u001b[0m\u001b[1;33m,\u001b[0m\u001b[1;33m-\u001b[0m\u001b[1;36m1\u001b[0m\u001b[1;33m)\u001b[0m\u001b[1;33m)\u001b[0m\u001b[1;33m\u001b[0m\u001b[1;33m\u001b[0m\u001b[0m\n\u001b[0m",
      "\u001b[1;31mValueError\u001b[0m: negative dimensions not allowed"
     ]
    }
   ],
   "source": [
    "a.resize((3,-1))"
   ]
  },
  {
   "cell_type": "markdown",
   "metadata": {},
   "source": [
    "## 쪼개고 합치기 ★★★"
   ]
  },
  {
   "cell_type": "markdown",
   "metadata": {},
   "source": [
    "#### split : 모양을 쪼개줌\n",
    "3가지가 있다.\n",
    "- split, vsplit, hsplit"
   ]
  },
  {
   "cell_type": "code",
   "execution_count": 45,
   "metadata": {},
   "outputs": [],
   "source": [
    "a = np.arange(27)"
   ]
  },
  {
   "cell_type": "code",
   "execution_count": 46,
   "metadata": {},
   "outputs": [],
   "source": [
    "a = a.reshape(3,9)"
   ]
  },
  {
   "cell_type": "code",
   "execution_count": 47,
   "metadata": {
    "scrolled": true
   },
   "outputs": [
    {
     "data": {
      "text/plain": [
       "False"
      ]
     },
     "execution_count": 47,
     "metadata": {},
     "output_type": "execute_result"
    }
   ],
   "source": [
    "'split' in dir(a)"
   ]
  },
  {
   "cell_type": "code",
   "execution_count": 49,
   "metadata": {},
   "outputs": [
    {
     "data": {
      "text/plain": [
       "array([[ 0,  1,  2,  3,  4,  5,  6,  7,  8],\n",
       "       [ 9, 10, 11, 12, 13, 14, 15, 16, 17],\n",
       "       [18, 19, 20, 21, 22, 23, 24, 25, 26]])"
      ]
     },
     "execution_count": 49,
     "metadata": {},
     "output_type": "execute_result"
    }
   ],
   "source": [
    "a"
   ]
  },
  {
   "cell_type": "markdown",
   "metadata": {},
   "source": [
    "자르는 기준 (1,2) : 0~1, 1~2, 2~끝"
   ]
  },
  {
   "cell_type": "code",
   "execution_count": 52,
   "metadata": {},
   "outputs": [
    {
     "data": {
      "text/plain": [
       "[array([[0, 1, 2, 3, 4, 5, 6, 7, 8]]),\n",
       " array([[ 9, 10, 11, 12, 13, 14, 15, 16, 17]]),\n",
       " array([[18, 19, 20, 21, 22, 23, 24, 25, 26]])]"
      ]
     },
     "execution_count": 52,
     "metadata": {},
     "output_type": "execute_result"
    }
   ],
   "source": [
    "np.split(a,(1,2))"
   ]
  },
  {
   "cell_type": "code",
   "execution_count": 53,
   "metadata": {},
   "outputs": [
    {
     "data": {
      "text/plain": [
       "[array([[ 0,  1,  2,  3,  4,  5,  6,  7,  8],\n",
       "        [ 9, 10, 11, 12, 13, 14, 15, 16, 17]]),\n",
       " array([], shape=(0, 9), dtype=int32),\n",
       " array([[18, 19, 20, 21, 22, 23, 24, 25, 26]])]"
      ]
     },
     "execution_count": 53,
     "metadata": {},
     "output_type": "execute_result"
    }
   ],
   "source": [
    "np.split(a,(2,2))"
   ]
  },
  {
   "cell_type": "code",
   "execution_count": 54,
   "metadata": {},
   "outputs": [
    {
     "data": {
      "text/plain": [
       "[array([[ 0,  1,  2,  3,  4,  5,  6,  7,  8],\n",
       "        [ 9, 10, 11, 12, 13, 14, 15, 16, 17]]),\n",
       " array([[18, 19, 20, 21, 22, 23, 24, 25, 26]]),\n",
       " array([], shape=(0, 9), dtype=int32)]"
      ]
     },
     "execution_count": 54,
     "metadata": {},
     "output_type": "execute_result"
    }
   ],
   "source": [
    "np.split(a, (2,5))"
   ]
  },
  {
   "cell_type": "markdown",
   "metadata": {},
   "source": [
    "기준점이 0이므로 -를 넣으면 0에서 잘린다.\n",
    "- 에러가 안 나므로 잘 알고 있어야한다."
   ]
  },
  {
   "cell_type": "code",
   "execution_count": 55,
   "metadata": {},
   "outputs": [
    {
     "data": {
      "text/plain": [
       "[array([[0, 1, 2, 3, 4, 5, 6, 7, 8]]),\n",
       " array([[ 9, 10, 11, 12, 13, 14, 15, 16, 17],\n",
       "        [18, 19, 20, 21, 22, 23, 24, 25, 26]]),\n",
       " array([], shape=(0, 9), dtype=int32)]"
      ]
     },
     "execution_count": 55,
     "metadata": {},
     "output_type": "execute_result"
    }
   ],
   "source": [
    "np.split(a, (-2, 5))"
   ]
  },
  {
   "cell_type": "code",
   "execution_count": 58,
   "metadata": {},
   "outputs": [
    {
     "data": {
      "text/plain": [
       "array([[ 0,  1,  2,  3,  4,  5,  6,  7,  8],\n",
       "       [ 9, 10, 11, 12, 13, 14, 15, 16, 17],\n",
       "       [18, 19, 20, 21, 22, 23, 24, 25, 26]])"
      ]
     },
     "execution_count": 58,
     "metadata": {},
     "output_type": "execute_result"
    }
   ],
   "source": [
    "a"
   ]
  },
  {
   "cell_type": "code",
   "execution_count": 59,
   "metadata": {},
   "outputs": [
    {
     "data": {
      "text/plain": [
       "[array([[ 0,  1,  2,  3,  4],\n",
       "        [ 9, 10, 11, 12, 13],\n",
       "        [18, 19, 20, 21, 22]]),\n",
       " array([], shape=(3, 0), dtype=int32),\n",
       " array([[ 5,  6,  7,  8],\n",
       "        [14, 15, 16, 17],\n",
       "        [23, 24, 25, 26]])]"
      ]
     },
     "execution_count": 59,
     "metadata": {},
     "output_type": "execute_result"
    }
   ],
   "source": [
    "np.split(a, (5,5), axis=1)"
   ]
  },
  {
   "cell_type": "code",
   "execution_count": 60,
   "metadata": {},
   "outputs": [
    {
     "data": {
      "text/plain": [
       "[array([[ 0,  1,  2,  3,  4],\n",
       "        [ 9, 10, 11, 12, 13],\n",
       "        [18, 19, 20, 21, 22]]), array([[ 5,  6,  7,  8],\n",
       "        [14, 15, 16, 17],\n",
       "        [23, 24, 25, 26]])]"
      ]
     },
     "execution_count": 60,
     "metadata": {},
     "output_type": "execute_result"
    }
   ],
   "source": [
    "np.hsplit(a,(5,))"
   ]
  },
  {
   "cell_type": "code",
   "execution_count": 61,
   "metadata": {},
   "outputs": [
    {
     "data": {
      "text/plain": [
       "[array([[ 0,  1,  2,  3,  4,  5,  6,  7,  8],\n",
       "        [ 9, 10, 11, 12, 13, 14, 15, 16, 17]]),\n",
       " array([[18, 19, 20, 21, 22, 23, 24, 25, 26]])]"
      ]
     },
     "execution_count": 61,
     "metadata": {},
     "output_type": "execute_result"
    }
   ],
   "source": [
    "np.vsplit(a, (2,))"
   ]
  },
  {
   "cell_type": "markdown",
   "metadata": {},
   "source": [
    "#### stack : 합치기"
   ]
  },
  {
   "cell_type": "code",
   "execution_count": 63,
   "metadata": {},
   "outputs": [],
   "source": [
    "b = np.arange(5)\n",
    "c = np.arange(5, 10)"
   ]
  },
  {
   "cell_type": "code",
   "execution_count": 64,
   "metadata": {},
   "outputs": [
    {
     "data": {
      "text/plain": [
       "array([[0, 1, 2, 3, 4],\n",
       "       [5, 6, 7, 8, 9]])"
      ]
     },
     "execution_count": 64,
     "metadata": {},
     "output_type": "execute_result"
    }
   ],
   "source": [
    "np.stack((b,c))"
   ]
  },
  {
   "cell_type": "code",
   "execution_count": 65,
   "metadata": {},
   "outputs": [
    {
     "data": {
      "text/plain": [
       "array([[0, 5],\n",
       "       [1, 6],\n",
       "       [2, 7],\n",
       "       [3, 8],\n",
       "       [4, 9]])"
      ]
     },
     "execution_count": 65,
     "metadata": {},
     "output_type": "execute_result"
    }
   ],
   "source": [
    "np.stack((b,c),1)"
   ]
  },
  {
   "cell_type": "code",
   "execution_count": 70,
   "metadata": {},
   "outputs": [
    {
     "data": {
      "text/plain": [
       "array([0, 1, 2, 3, 4, 5, 6, 7, 8, 9])"
      ]
     },
     "execution_count": 70,
     "metadata": {},
     "output_type": "execute_result"
    }
   ],
   "source": [
    "np.hstack((b,c))"
   ]
  },
  {
   "cell_type": "code",
   "execution_count": 67,
   "metadata": {},
   "outputs": [
    {
     "data": {
      "text/plain": [
       "array([[0, 1, 2, 3, 4],\n",
       "       [5, 6, 7, 8, 9]])"
      ]
     },
     "execution_count": 67,
     "metadata": {},
     "output_type": "execute_result"
    }
   ],
   "source": [
    "np.vstack((b,c))"
   ]
  },
  {
   "cell_type": "code",
   "execution_count": 71,
   "metadata": {},
   "outputs": [
    {
     "data": {
      "text/plain": [
       "array([0, 1, 2, 3, 4, 5, 6, 7, 8, 9])"
      ]
     },
     "execution_count": 71,
     "metadata": {},
     "output_type": "execute_result"
    }
   ],
   "source": [
    "# matlab? 에 많이 있다. r_는 hstack과 같음\n",
    "np.r_[b,c]"
   ]
  },
  {
   "cell_type": "code",
   "execution_count": 72,
   "metadata": {},
   "outputs": [
    {
     "data": {
      "text/plain": [
       "array([[0, 5],\n",
       "       [1, 6],\n",
       "       [2, 7],\n",
       "       [3, 8],\n",
       "       [4, 9]])"
      ]
     },
     "execution_count": 72,
     "metadata": {},
     "output_type": "execute_result"
    }
   ],
   "source": [
    "#c_는 vstack과 같음\n",
    "np.c_[b,c]"
   ]
  },
  {
   "cell_type": "code",
   "execution_count": 74,
   "metadata": {
    "scrolled": true
   },
   "outputs": [
    {
     "data": {
      "text/plain": [
       "(1, 3)"
      ]
     },
     "execution_count": 74,
     "metadata": {},
     "output_type": "execute_result"
    }
   ],
   "source": [
    "# s_는 슬라이스 객체를 만들어준다.\n",
    "np.s_[1,3]"
   ]
  },
  {
   "cell_type": "code",
   "execution_count": 76,
   "metadata": {},
   "outputs": [
    {
     "data": {
      "text/plain": [
       "1"
      ]
     },
     "execution_count": 76,
     "metadata": {},
     "output_type": "execute_result"
    }
   ],
   "source": [
    "# s_는 슬라이스 객체를 만들어준다.\n",
    "np.arange(10)[np.s_[1]]"
   ]
  },
  {
   "cell_type": "code",
   "execution_count": 73,
   "metadata": {},
   "outputs": [
    {
     "data": {
      "text/plain": [
       "[2, 3, 4, 5]"
      ]
     },
     "execution_count": 73,
     "metadata": {},
     "output_type": "execute_result"
    }
   ],
   "source": [
    "[1,2,3,4,5,][slice(1,5)] # == [1,2,3,4,5,][1:5]"
   ]
  },
  {
   "cell_type": "code",
   "execution_count": 77,
   "metadata": {},
   "outputs": [
    {
     "data": {
      "text/plain": [
       "array([[0, 5],\n",
       "       [1, 6],\n",
       "       [2, 7],\n",
       "       [3, 8],\n",
       "       [4, 9]])"
      ]
     },
     "execution_count": 77,
     "metadata": {},
     "output_type": "execute_result"
    }
   ],
   "source": [
    "np.column_stack([b,c])"
   ]
  },
  {
   "cell_type": "markdown",
   "metadata": {},
   "source": [
    "#### newaxis : 골치 아픈애! :O"
   ]
  },
  {
   "cell_type": "code",
   "execution_count": 78,
   "metadata": {},
   "outputs": [],
   "source": [
    "a = np.arange(6)"
   ]
  },
  {
   "cell_type": "code",
   "execution_count": 79,
   "metadata": {},
   "outputs": [
    {
     "data": {
      "text/plain": [
       "array([0, 1, 2, 3, 4, 5])"
      ]
     },
     "execution_count": 79,
     "metadata": {},
     "output_type": "execute_result"
    }
   ],
   "source": [
    "a"
   ]
  },
  {
   "cell_type": "markdown",
   "metadata": {},
   "source": [
    "이거를 만들고 싶다."
   ]
  },
  {
   "cell_type": "code",
   "execution_count": 86,
   "metadata": {},
   "outputs": [],
   "source": [
    "a = np.array([[0,1,2,3,4,5]])"
   ]
  },
  {
   "cell_type": "code",
   "execution_count": 85,
   "metadata": {},
   "outputs": [
    {
     "data": {
      "text/plain": [
       "array([[0, 1, 2, 3, 4, 5]])"
      ]
     },
     "execution_count": 85,
     "metadata": {},
     "output_type": "execute_result"
    }
   ],
   "source": [
    "a"
   ]
  },
  {
   "cell_type": "code",
   "execution_count": 80,
   "metadata": {},
   "outputs": [],
   "source": [
    "a = a.reshape(6,1)"
   ]
  },
  {
   "cell_type": "code",
   "execution_count": 81,
   "metadata": {},
   "outputs": [
    {
     "data": {
      "text/plain": [
       "array([[0],\n",
       "       [1],\n",
       "       [2],\n",
       "       [3],\n",
       "       [4],\n",
       "       [5]])"
      ]
     },
     "execution_count": 81,
     "metadata": {},
     "output_type": "execute_result"
    }
   ],
   "source": [
    "a"
   ]
  },
  {
   "cell_type": "code",
   "execution_count": 87,
   "metadata": {
    "scrolled": true
   },
   "outputs": [
    {
     "data": {
      "text/plain": [
       "array([[[0, 1, 2, 3, 4, 5]]])"
      ]
     },
     "execution_count": 87,
     "metadata": {},
     "output_type": "execute_result"
    }
   ],
   "source": [
    "a[np.newaxis]"
   ]
  },
  {
   "cell_type": "code",
   "execution_count": 89,
   "metadata": {},
   "outputs": [
    {
     "data": {
      "text/plain": [
       "True"
      ]
     },
     "execution_count": 89,
     "metadata": {},
     "output_type": "execute_result"
    }
   ],
   "source": [
    "np.newaxis == None"
   ]
  },
  {
   "cell_type": "markdown",
   "metadata": {},
   "source": [
    "보기 좋지 않으므로 None을 정의해서 사용한다."
   ]
  },
  {
   "cell_type": "code",
   "execution_count": 90,
   "metadata": {},
   "outputs": [
    {
     "data": {
      "text/plain": [
       "array([[[0, 1, 2, 3, 4, 5]]])"
      ]
     },
     "execution_count": 90,
     "metadata": {},
     "output_type": "execute_result"
    }
   ],
   "source": [
    "a[None]"
   ]
  },
  {
   "cell_type": "code",
   "execution_count": 91,
   "metadata": {},
   "outputs": [
    {
     "data": {
      "text/plain": [
       "True"
      ]
     },
     "execution_count": 91,
     "metadata": {},
     "output_type": "execute_result"
    }
   ],
   "source": [
    "np.newaxis is None"
   ]
  },
  {
   "cell_type": "code",
   "execution_count": 94,
   "metadata": {},
   "outputs": [],
   "source": [
    "a = np.arange(6)\n",
    "a = a.reshape(2,3)"
   ]
  },
  {
   "cell_type": "code",
   "execution_count": 93,
   "metadata": {},
   "outputs": [
    {
     "data": {
      "text/plain": [
       "array([[[0, 1, 2],\n",
       "        [3, 4, 5]]])"
      ]
     },
     "execution_count": 93,
     "metadata": {},
     "output_type": "execute_result"
    }
   ],
   "source": [
    "a[np.newaxis]"
   ]
  },
  {
   "cell_type": "code",
   "execution_count": 95,
   "metadata": {},
   "outputs": [
    {
     "data": {
      "text/plain": [
       "array([[[0, 1, 2]],\n",
       "\n",
       "       [[3, 4, 5]]])"
      ]
     },
     "execution_count": 95,
     "metadata": {},
     "output_type": "execute_result"
    }
   ],
   "source": [
    "a[:,np.newaxis]"
   ]
  },
  {
   "cell_type": "code",
   "execution_count": 96,
   "metadata": {},
   "outputs": [
    {
     "data": {
      "text/plain": [
       "array([[[0],\n",
       "        [1],\n",
       "        [2]],\n",
       "\n",
       "       [[3],\n",
       "        [4],\n",
       "        [5]]])"
      ]
     },
     "execution_count": 96,
     "metadata": {},
     "output_type": "execute_result"
    }
   ],
   "source": [
    "a[:, :,np.newaxis]"
   ]
  },
  {
   "cell_type": "code",
   "execution_count": 97,
   "metadata": {},
   "outputs": [],
   "source": [
    "a = np.arange(6)"
   ]
  },
  {
   "cell_type": "code",
   "execution_count": 98,
   "metadata": {},
   "outputs": [
    {
     "data": {
      "text/plain": [
       "array([[0],\n",
       "       [1],\n",
       "       [2],\n",
       "       [3],\n",
       "       [4],\n",
       "       [5]])"
      ]
     },
     "execution_count": 98,
     "metadata": {},
     "output_type": "execute_result"
    }
   ],
   "source": [
    "a[:,np.newaxis]"
   ]
  },
  {
   "cell_type": "markdown",
   "metadata": {},
   "source": [
    "#### newaxis가 골치아프므로 expand_dims이라는 메서드가 존재한다.\n",
    "- 차원을 하나씩만 바꿔줄 수 있다."
   ]
  },
  {
   "cell_type": "code",
   "execution_count": 99,
   "metadata": {},
   "outputs": [
    {
     "data": {
      "text/plain": [
       "array([[0],\n",
       "       [1],\n",
       "       [2],\n",
       "       [3],\n",
       "       [4],\n",
       "       [5]])"
      ]
     },
     "execution_count": 99,
     "metadata": {},
     "output_type": "execute_result"
    }
   ],
   "source": [
    "np.expand_dims(a,1)"
   ]
  },
  {
   "cell_type": "code",
   "execution_count": 102,
   "metadata": {},
   "outputs": [
    {
     "name": "stderr",
     "output_type": "stream",
     "text": [
      "C:\\Anaconda\\Anaconda3\\lib\\site-packages\\ipykernel_launcher.py:1: DeprecationWarning: Both axis > a.ndim and axis < -a.ndim - 1 are deprecated and will raise an AxisError in the future.\n",
      "  \"\"\"Entry point for launching an IPython kernel.\n"
     ]
    },
    {
     "data": {
      "text/plain": [
       "array([[0],\n",
       "       [1],\n",
       "       [2],\n",
       "       [3],\n",
       "       [4],\n",
       "       [5]])"
      ]
     },
     "execution_count": 102,
     "metadata": {},
     "output_type": "execute_result"
    }
   ],
   "source": [
    "np.expand_dims(a,2)"
   ]
  },
  {
   "cell_type": "code",
   "execution_count": 103,
   "metadata": {},
   "outputs": [
    {
     "data": {
      "text/plain": [
       "array([[0],\n",
       "       [1],\n",
       "       [2],\n",
       "       [3],\n",
       "       [4],\n",
       "       [5]])"
      ]
     },
     "execution_count": 103,
     "metadata": {},
     "output_type": "execute_result"
    }
   ],
   "source": [
    "np.expand_dims(a,-1)"
   ]
  },
  {
   "cell_type": "code",
   "execution_count": 104,
   "metadata": {},
   "outputs": [],
   "source": [
    "a = np.arange(27).reshape(3,3,3)"
   ]
  },
  {
   "cell_type": "code",
   "execution_count": 105,
   "metadata": {},
   "outputs": [
    {
     "data": {
      "text/plain": [
       "array([[[ 0,  1,  2],\n",
       "        [ 3,  4,  5],\n",
       "        [ 6,  7,  8]],\n",
       "\n",
       "       [[ 9, 10, 11],\n",
       "        [12, 13, 14],\n",
       "        [15, 16, 17]],\n",
       "\n",
       "       [[18, 19, 20],\n",
       "        [21, 22, 23],\n",
       "        [24, 25, 26]]])"
      ]
     },
     "execution_count": 105,
     "metadata": {},
     "output_type": "execute_result"
    }
   ],
   "source": [
    "a"
   ]
  },
  {
   "cell_type": "markdown",
   "metadata": {},
   "source": [
    "자유 자제로 바꿀 수 있게 하는 메서드들"
   ]
  },
  {
   "cell_type": "code",
   "execution_count": 106,
   "metadata": {
    "scrolled": true
   },
   "outputs": [
    {
     "data": {
      "text/plain": [
       "array([[[ 0,  9, 18],\n",
       "        [ 3, 12, 21],\n",
       "        [ 6, 15, 24]],\n",
       "\n",
       "       [[ 1, 10, 19],\n",
       "        [ 4, 13, 22],\n",
       "        [ 7, 16, 25]],\n",
       "\n",
       "       [[ 2, 11, 20],\n",
       "        [ 5, 14, 23],\n",
       "        [ 8, 17, 26]]])"
      ]
     },
     "execution_count": 106,
     "metadata": {},
     "output_type": "execute_result"
    }
   ],
   "source": [
    "np.swapaxes(a, 0, 2)"
   ]
  },
  {
   "cell_type": "code",
   "execution_count": 107,
   "metadata": {},
   "outputs": [
    {
     "data": {
      "text/plain": [
       "array([[[ 0,  9, 18],\n",
       "        [ 1, 10, 19],\n",
       "        [ 2, 11, 20]],\n",
       "\n",
       "       [[ 3, 12, 21],\n",
       "        [ 4, 13, 22],\n",
       "        [ 5, 14, 23]],\n",
       "\n",
       "       [[ 6, 15, 24],\n",
       "        [ 7, 16, 25],\n",
       "        [ 8, 17, 26]]])"
      ]
     },
     "execution_count": 107,
     "metadata": {},
     "output_type": "execute_result"
    }
   ],
   "source": [
    "np.moveaxis(a, 0,2)"
   ]
  },
  {
   "cell_type": "markdown",
   "metadata": {},
   "source": [
    "## Structured Array ★★★★\n",
    "- 이것을 기반으로 판다스를 만들었다.\n",
    "- 넘파이에서는 사용자 정의 데이터를 어떻게 만들 것인가?\n",
    "    - 튜플 형태로 (이름, 타입)으로 만든다.\n",
    "- 정형화된 데이터를 만들고 싶을 때 사용한다.\n",
    "- DB처럼 사용할 수 있다.\n",
    "- 메모리에 올리므로 아주 빠르게 사용할 수 있다.\n",
    "    - 메모리에 올리지 못할 때 해결할 수 있는 방법이 있다."
   ]
  },
  {
   "cell_type": "code",
   "execution_count": 108,
   "metadata": {},
   "outputs": [],
   "source": [
    "a = np.array([('Rex', 9, 81.0), ('Fido', 3, 27.0)], dtype=[('name', 'U10'), ('age', 'i4'), ('weight', 'f4')])"
   ]
  },
  {
   "cell_type": "code",
   "execution_count": 109,
   "metadata": {},
   "outputs": [
    {
     "data": {
      "text/plain": [
       "array([('Rex', 9, 81.), ('Fido', 3, 27.)],\n",
       "      dtype=[('name', '<U10'), ('age', '<i4'), ('weight', '<f4')])"
      ]
     },
     "execution_count": 109,
     "metadata": {},
     "output_type": "execute_result"
    }
   ],
   "source": [
    "a"
   ]
  },
  {
   "cell_type": "code",
   "execution_count": 110,
   "metadata": {},
   "outputs": [
    {
     "data": {
      "text/plain": [
       "('Rex', 9, 81.)"
      ]
     },
     "execution_count": 110,
     "metadata": {},
     "output_type": "execute_result"
    }
   ],
   "source": [
    "a[0]"
   ]
  },
  {
   "cell_type": "markdown",
   "metadata": {},
   "source": [
    "#### named tuple\n",
    "- 클래스 만드는 방법과 같다.\n",
    "- 변수 접근 방법, 인덱스 방법 두가지로 접근할 수 있다.\n",
    "- DB에서 row개념으로 사용하고 싶을 때 빠르게 만들 수 있다\n",
    "- Structured Array와 유사하다"
   ]
  },
  {
   "cell_type": "code",
   "execution_count": 111,
   "metadata": {},
   "outputs": [],
   "source": [
    "from collections import namedtuple"
   ]
  },
  {
   "cell_type": "code",
   "execution_count": 116,
   "metadata": {},
   "outputs": [],
   "source": [
    "Address = namedtuple('Address', ('name','age','weight'))"
   ]
  },
  {
   "cell_type": "code",
   "execution_count": 117,
   "metadata": {},
   "outputs": [],
   "source": [
    "a1 = Address('Rex', 27, 81.0)"
   ]
  },
  {
   "cell_type": "code",
   "execution_count": 118,
   "metadata": {},
   "outputs": [
    {
     "data": {
      "text/plain": [
       "'Rex'"
      ]
     },
     "execution_count": 118,
     "metadata": {},
     "output_type": "execute_result"
    }
   ],
   "source": [
    "a1.name"
   ]
  },
  {
   "cell_type": "code",
   "execution_count": 120,
   "metadata": {},
   "outputs": [
    {
     "data": {
      "text/plain": [
       "Address(name='Rex', age=27, weight=81.0)"
      ]
     },
     "execution_count": 120,
     "metadata": {},
     "output_type": "execute_result"
    }
   ],
   "source": [
    "a1"
   ]
  },
  {
   "cell_type": "markdown",
   "metadata": {},
   "source": [
    "count와 index는 튜플에 사용하는 애. 그 이외에 name, age, weight를 어트리뷰트로 가지고 있다."
   ]
  },
  {
   "cell_type": "code",
   "execution_count": 121,
   "metadata": {
    "collapsed": true
   },
   "outputs": [
    {
     "data": {
      "text/plain": [
       "['__add__',\n",
       " '__class__',\n",
       " '__contains__',\n",
       " '__delattr__',\n",
       " '__dir__',\n",
       " '__doc__',\n",
       " '__eq__',\n",
       " '__format__',\n",
       " '__ge__',\n",
       " '__getattribute__',\n",
       " '__getitem__',\n",
       " '__getnewargs__',\n",
       " '__gt__',\n",
       " '__hash__',\n",
       " '__init__',\n",
       " '__init_subclass__',\n",
       " '__iter__',\n",
       " '__le__',\n",
       " '__len__',\n",
       " '__lt__',\n",
       " '__module__',\n",
       " '__mul__',\n",
       " '__ne__',\n",
       " '__new__',\n",
       " '__reduce__',\n",
       " '__reduce_ex__',\n",
       " '__repr__',\n",
       " '__rmul__',\n",
       " '__setattr__',\n",
       " '__sizeof__',\n",
       " '__slots__',\n",
       " '__str__',\n",
       " '__subclasshook__',\n",
       " '_asdict',\n",
       " '_fields',\n",
       " '_fields_defaults',\n",
       " '_make',\n",
       " '_replace',\n",
       " 'age',\n",
       " 'count',\n",
       " 'index',\n",
       " 'name',\n",
       " 'weight']"
      ]
     },
     "execution_count": 121,
     "metadata": {},
     "output_type": "execute_result"
    }
   ],
   "source": [
    "dir(a1)"
   ]
  },
  {
   "cell_type": "code",
   "execution_count": 122,
   "metadata": {},
   "outputs": [
    {
     "data": {
      "text/plain": [
       "'Rex'"
      ]
     },
     "execution_count": 122,
     "metadata": {},
     "output_type": "execute_result"
    }
   ],
   "source": [
    "a1[0]"
   ]
  },
  {
   "cell_type": "markdown",
   "metadata": {},
   "source": [
    "인덱스로 접근할 수 있는 것은 키로 접근할 수 없다"
   ]
  },
  {
   "cell_type": "code",
   "execution_count": 124,
   "metadata": {
    "scrolled": true
   },
   "outputs": [
    {
     "ename": "TypeError",
     "evalue": "tuple indices must be integers or slices, not str",
     "output_type": "error",
     "traceback": [
      "\u001b[1;31m---------------------------------------------------------------------------\u001b[0m",
      "\u001b[1;31mTypeError\u001b[0m                                 Traceback (most recent call last)",
      "\u001b[1;32m<ipython-input-124-955ea4b794e2>\u001b[0m in \u001b[0;36m<module>\u001b[1;34m\u001b[0m\n\u001b[1;32m----> 1\u001b[1;33m \u001b[0ma1\u001b[0m\u001b[1;33m[\u001b[0m\u001b[1;34m'name'\u001b[0m\u001b[1;33m]\u001b[0m\u001b[1;33m\u001b[0m\u001b[1;33m\u001b[0m\u001b[0m\n\u001b[0m",
      "\u001b[1;31mTypeError\u001b[0m: tuple indices must be integers or slices, not str"
     ]
    }
   ],
   "source": [
    "a1['name']"
   ]
  },
  {
   "cell_type": "markdown",
   "metadata": {},
   "source": [
    "Structured Array는 key로 딕셔너리처럼 접근할 수 있다.\n",
    "- 컬럼 데이터를 모두 가져온다."
   ]
  },
  {
   "cell_type": "markdown",
   "metadata": {},
   "source": [
    "키로 접근 - 키에 해당하는 값들을 모두 가져온다."
   ]
  },
  {
   "cell_type": "code",
   "execution_count": 125,
   "metadata": {},
   "outputs": [
    {
     "data": {
      "text/plain": [
       "array(['Rex', 'Fido'], dtype='<U10')"
      ]
     },
     "execution_count": 125,
     "metadata": {},
     "output_type": "execute_result"
    }
   ],
   "source": [
    "a['name']"
   ]
  },
  {
   "cell_type": "markdown",
   "metadata": {},
   "source": [
    "어트리뷰트 방식으로는 접근 못한다."
   ]
  },
  {
   "cell_type": "code",
   "execution_count": 126,
   "metadata": {
    "scrolled": true
   },
   "outputs": [
    {
     "ename": "AttributeError",
     "evalue": "'numpy.ndarray' object has no attribute 'name'",
     "output_type": "error",
     "traceback": [
      "\u001b[1;31m---------------------------------------------------------------------------\u001b[0m",
      "\u001b[1;31mAttributeError\u001b[0m                            Traceback (most recent call last)",
      "\u001b[1;32m<ipython-input-126-9945a631c1ff>\u001b[0m in \u001b[0;36m<module>\u001b[1;34m\u001b[0m\n\u001b[1;32m----> 1\u001b[1;33m \u001b[0ma\u001b[0m\u001b[1;33m.\u001b[0m\u001b[0mname\u001b[0m\u001b[1;33m\u001b[0m\u001b[1;33m\u001b[0m\u001b[0m\n\u001b[0m",
      "\u001b[1;31mAttributeError\u001b[0m: 'numpy.ndarray' object has no attribute 'name'"
     ]
    }
   ],
   "source": [
    "a.name"
   ]
  },
  {
   "cell_type": "code",
   "execution_count": 129,
   "metadata": {
    "scrolled": false
   },
   "outputs": [
    {
     "data": {
      "text/plain": [
       "False"
      ]
     },
     "execution_count": 129,
     "metadata": {},
     "output_type": "execute_result"
    }
   ],
   "source": [
    "'name' in dir(a)"
   ]
  },
  {
   "cell_type": "markdown",
   "metadata": {},
   "source": [
    "dtype에 데이터 타입의 이름을 지정할 때 문자열로만 불러야 한다. 숫자 사용 불가"
   ]
  },
  {
   "cell_type": "code",
   "execution_count": 134,
   "metadata": {
    "scrolled": false
   },
   "outputs": [
    {
     "ename": "TypeError",
     "evalue": "data type not understood",
     "output_type": "error",
     "traceback": [
      "\u001b[1;31m---------------------------------------------------------------------------\u001b[0m",
      "\u001b[1;31mTypeError\u001b[0m                                 Traceback (most recent call last)",
      "\u001b[1;32m<ipython-input-134-6a5244771642>\u001b[0m in \u001b[0;36m<module>\u001b[1;34m\u001b[0m\n\u001b[1;32m----> 1\u001b[1;33m \u001b[0ma\u001b[0m \u001b[1;33m=\u001b[0m \u001b[0mnp\u001b[0m\u001b[1;33m.\u001b[0m\u001b[0marray\u001b[0m\u001b[1;33m(\u001b[0m\u001b[1;33m[\u001b[0m\u001b[1;33m(\u001b[0m\u001b[1;34m'Rex'\u001b[0m\u001b[1;33m,\u001b[0m \u001b[1;36m9\u001b[0m\u001b[1;33m,\u001b[0m \u001b[1;36m81.0\u001b[0m\u001b[1;33m)\u001b[0m\u001b[1;33m,\u001b[0m \u001b[1;33m(\u001b[0m\u001b[1;34m'Fido'\u001b[0m\u001b[1;33m,\u001b[0m \u001b[1;36m3\u001b[0m\u001b[1;33m,\u001b[0m \u001b[1;36m27.0\u001b[0m\u001b[1;33m)\u001b[0m\u001b[1;33m]\u001b[0m\u001b[1;33m,\u001b[0m \u001b[0mdtype\u001b[0m\u001b[1;33m=\u001b[0m\u001b[1;33m[\u001b[0m\u001b[1;33m(\u001b[0m\u001b[1;36m0\u001b[0m\u001b[1;33m,\u001b[0m \u001b[1;34m'U10'\u001b[0m\u001b[1;33m)\u001b[0m\u001b[1;33m,\u001b[0m \u001b[1;33m(\u001b[0m\u001b[1;34m'age'\u001b[0m\u001b[1;33m,\u001b[0m \u001b[1;34m'i4'\u001b[0m\u001b[1;33m)\u001b[0m\u001b[1;33m,\u001b[0m \u001b[1;33m(\u001b[0m\u001b[1;34m'weight'\u001b[0m\u001b[1;33m,\u001b[0m \u001b[1;34m'f4'\u001b[0m\u001b[1;33m)\u001b[0m\u001b[1;33m]\u001b[0m\u001b[1;33m)\u001b[0m\u001b[1;33m\u001b[0m\u001b[1;33m\u001b[0m\u001b[0m\n\u001b[0m",
      "\u001b[1;31mTypeError\u001b[0m: data type not understood"
     ]
    }
   ],
   "source": [
    "a = np.array([('Rex', 9, 81.0), ('Fido', 3, 27.0)], dtype=[(0, 'U10'), ('age', 'i4'), ('weight', 'f4')])"
   ]
  },
  {
   "cell_type": "code",
   "execution_count": 132,
   "metadata": {},
   "outputs": [
    {
     "data": {
      "text/plain": [
       "array([('0', 9, 81.), ('Fido', 3, 27.)],\n",
       "      dtype=[('name', '<U10'), ('age', '<i4'), ('weight', '<f4')])"
      ]
     },
     "execution_count": 132,
     "metadata": {},
     "output_type": "execute_result"
    }
   ],
   "source": [
    "a"
   ]
  },
  {
   "cell_type": "code",
   "execution_count": null,
   "metadata": {},
   "outputs": [],
   "source": []
  }
 ],
 "metadata": {
  "kernelspec": {
   "display_name": "Python 3",
   "language": "python",
   "name": "python3"
  },
  "language_info": {
   "codemirror_mode": {
    "name": "ipython",
    "version": 3
   },
   "file_extension": ".py",
   "mimetype": "text/x-python",
   "name": "python",
   "nbconvert_exporter": "python",
   "pygments_lexer": "ipython3",
   "version": "3.7.3"
  }
 },
 "nbformat": 4,
 "nbformat_minor": 2
}
