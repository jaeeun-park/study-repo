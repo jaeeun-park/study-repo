{
 "cells": [
  {
   "cell_type": "markdown",
   "metadata": {},
   "source": [
    "# Preprocessing\n",
    "- 웹에서 원하는 데이터를 가져오면 텍스트 데이터를 처리해야 사용할 수 있다.\n",
    "- 텍스트 데이터의 전처리는 중요하다\n",
    "- 원하는 feature로 만들어낸다.\n",
    "- 텍스트마이닝 NLP기반\n",
    "- 정산언어학\n",
    "- 영상, 사진 -> 텍스트 -> 처리\n",
    "- 문맥간의 연결 정보를 잘 못 찾기 때문에 챗봇은 어렵다.\n",
    "- 자연어 분석 이전의 Preprocesing\n",
    "\n",
    "자연어 분석\n",
    "- 형태소 분석(가장 기본)\n",
    "    - 순차적인 5단계\n",
    "    - 토큰 분리 -> 어간 추출 -> 품사 부착 -> 색인 -> 벡터화\n",
    "    - stem:어간\n",
    "    - stemming(어간 추출) : 공통된 sequence를 추출\n",
    "    - lemmatization(어근 추출) : 단어의 원형을 추출\n",
    "- 구문 분석\n",
    "    - 벡터표현이 만들어졌기 때문에 얼마나 유사성을 띄는지 연관이 있는지 계산하고 테스트할 수 있다. PMI등으로..\n",
    "    - 글의 생김새 분석이 끝난다. 이 이후에는 의미를 알고 싶다.\n",
    "- 의미 분석(잘 안된다)\n",
    "    - 시멘틱 웹에서 가장 기본적인 예제는 apple이다. 사과 vs 회사\n",
    "    - 문법적으로 봤을 때는 문제가 없지만 의미적으로 이상한 문장이 나올 수 있다.\n",
    "    - 사전 구축, 사전 기반 예) 워드넷 상위어, 하위어, 반의어, 유의어 관계를 트리로 기술\n",
    "    - 온톨로지 \n",
    "    - 워드 임베딩 : 단어와 단어 상의 구분만 하면 된다.\n",
    "- 담화 분석(잘 안된다)\n",
    "    - 담론 분석 : 담화분석과는 좀 다르다. 잘 안되고 있는 분야. 그러므로 해야되는 분야\n",
    "- 중의성 해소\n",
    "\n",
    "\n",
    "담화\n",
    "- 담화의 단위 문단, 문장.\n",
    "- 새로운 이야기로 넘어갈 때 문단을 나눈다. (엔터를 친다.)\n",
    "- 앞의 것의 원인, 반론으로 연관된 내용으로 나뉘어진다.\n",
    "- NLP에서 포커스(말뭉치)라고 부른다\n",
    "\n",
    "문장\n",
    "- 완결된 내용을 나타내는 최소 단위 \n",
    "- 마침표가 찍힌다.\n",
    "- 절의 형태로 두 문장을 엮을 수 있다.\n",
    "- 구나 절로 구성되어있다.\n",
    "    - 절은 서로 다른 문장으로 쪼갤 수 있다.\n",
    "- 내용이 많아지면 담화가 되고 최소한으로 작아지면 문장이 되므로 담화, 문단, 문장은 같다고 볼 수 있다.\n",
    "- 문장을 구별하는게 가장 기본이다.\n",
    "- 마침표가 없는 문장도 존재한다. ?사용하면 의문형 문장이 된다.\n",
    "- 접속사가 나오면 서로 다른 문장을 연결해준 것이므로 분리해서 분석해야한다.\n",
    "- 센텐스 토크나이징(sent_tokenize)\n",
    "\n",
    "어절\n",
    "- 띄어쓰기 단위로 구성되어 있는 애들.(단어 아님)\n",
    "- 영어는 한 어절이 단어가 되는 경우가 대부분.\n",
    "- 한글은 한 어절이 단어가 되지 않는다. -> 더 쪼개져야 한다.\n",
    "- ex) 개미 한 마리가 방바닥을 -> 개미, 한, 마리가, 방바닥을\n",
    "\n",
    "단어\n",
    "- 어절을 구성하는 요소\n",
    "- stemming한 결과\n",
    "- ex) 개미 한 마리가 방바닥을 -> 개미, 한, 마리, 가, 방바닥, 을\n",
    "\n",
    "형태소 \n",
    "- 의미를 가진 문법의 최소 단위\n",
    "- ex) 개미 한 마리가 방바닥을 -> 개미, 한, 마리, 가, 방, 바닥, 을\n",
    "- 자립성에 따라\n",
    "    - 자립 형태소\n",
    "    - 의존 형태소\n",
    "- 의미에 따라\n",
    "    - 실질 형태소\n",
    "    - 형식 형태소\n",
    "    \n",
    "KoNLPy, NLTK\n",
    "\n",
    "NLTk\n",
    "- natural language toolkit (한국어 지원 안함)\n",
    "- 영어를 기반으로 한다."
   ]
  },
  {
   "cell_type": "code",
   "execution_count": null,
   "metadata": {},
   "outputs": [],
   "source": [
    "!pip install nltk"
   ]
  },
  {
   "cell_type": "markdown",
   "metadata": {},
   "source": [
    "## Tokenizing\n",
    "- sent_tokenize() 문장 단위로 토크나이즈한다."
   ]
  },
  {
   "cell_type": "code",
   "execution_count": 2,
   "metadata": {},
   "outputs": [],
   "source": [
    "import nltk"
   ]
  },
  {
   "cell_type": "markdown",
   "metadata": {},
   "source": [
    "구두점(.) 다운로드"
   ]
  },
  {
   "cell_type": "code",
   "execution_count": 3,
   "metadata": {},
   "outputs": [
    {
     "name": "stderr",
     "output_type": "stream",
     "text": [
      "[nltk_data] Downloading package punkt to\n",
      "[nltk_data]     C:\\Users\\재은\\AppData\\Roaming\\nltk_data...\n",
      "[nltk_data]   Package punkt is already up-to-date!\n"
     ]
    },
    {
     "data": {
      "text/plain": [
       "True"
      ]
     },
     "execution_count": 3,
     "metadata": {},
     "output_type": "execute_result"
    }
   ],
   "source": [
    "nltk.download(\"punkt\")"
   ]
  },
  {
   "cell_type": "code",
   "execution_count": 4,
   "metadata": {},
   "outputs": [],
   "source": [
    "import sqlite3\n",
    "con = sqlite3.connect(\"news.db\")\n",
    "cur = con.cursor()"
   ]
  },
  {
   "cell_type": "code",
   "execution_count": 5,
   "metadata": {},
   "outputs": [
    {
     "name": "stdout",
     "output_type": "stream",
     "text": [
      "<class 'list'>\n",
      "<class 'tuple'>\n"
     ]
    }
   ],
   "source": [
    "cur.execute(\"\"\"\n",
    "    SELECT content\n",
    "    FROM table2\n",
    "    ORDER BY id ASC\n",
    "\"\"\")\n",
    "#corpus는 db에 저장 되어있는 기사들이 저장 되어 있는 리스트\n",
    "# fetchall()하면 리스트 안에 튜플 형식으로 들어있으므로 하나씩 꺼내서 리스트에 담아준다.\n",
    "news = cur.fetchall()\n",
    "print(type(news))\n",
    "print(type(news[0]))\n",
    "corpus = [_[0] for _ in news]"
   ]
  },
  {
   "cell_type": "markdown",
   "metadata": {},
   "source": [
    "(스펠, 어절, 문장(개행단위))"
   ]
  },
  {
   "cell_type": "code",
   "execution_count": 7,
   "metadata": {},
   "outputs": [
    {
     "data": {
      "text/plain": [
       "(1968, 443, 47)"
      ]
     },
     "execution_count": 7,
     "metadata": {},
     "output_type": "execute_result"
    }
   ],
   "source": [
    "len(corpus[0]), len(corpus[0].split()), len(corpus[0].splitlines())"
   ]
  },
  {
   "cell_type": "markdown",
   "metadata": {},
   "source": [
    "실제 문장의 수"
   ]
  },
  {
   "cell_type": "code",
   "execution_count": 8,
   "metadata": {},
   "outputs": [
    {
     "data": {
      "text/plain": [
       "20"
      ]
     },
     "execution_count": 8,
     "metadata": {},
     "output_type": "execute_result"
    }
   ],
   "source": [
    "from nltk.tokenize import sent_tokenize\n",
    "len(sent_tokenize(corpus[0]))"
   ]
  },
  {
   "cell_type": "markdown",
   "metadata": {},
   "source": [
    "개행을 단위로 끊으면 내용이 끊겨서 알기 쉽지 않다."
   ]
  },
  {
   "cell_type": "code",
   "execution_count": 9,
   "metadata": {},
   "outputs": [
    {
     "data": {
      "text/plain": [
       "'\"합리적 보수 주춧돌 되길 바랐는데\" 줄지어 추모'"
      ]
     },
     "execution_count": 9,
     "metadata": {},
     "output_type": "execute_result"
    }
   ],
   "source": [
    "corpus[0].splitlines()[0]"
   ]
  },
  {
   "cell_type": "markdown",
   "metadata": {},
   "source": [
    "완전한 문장을 가져오기 때문에 문장의 구성성분과 그에 맞는 품사, 형태소, 어간,어근이 숨어있으므로 찾아서 분석한다."
   ]
  },
  {
   "cell_type": "code",
   "execution_count": 10,
   "metadata": {},
   "outputs": [
    {
     "data": {
      "text/plain": [
       "'\"합리적 보수 주춧돌 되길 바랐는데\" 줄지어 추모\\n\\n정두언 빈소 찾은 조문객들(서울=연합뉴스) 신준희 기자 = 17일 서울 서대문구 세브란스병원 장례식장에 마련된 고 정두언 전 새누리당 의원의 빈소에서 조문객들이 조문하고 있다.'"
      ]
     },
     "execution_count": 10,
     "metadata": {},
     "output_type": "execute_result"
    }
   ],
   "source": [
    "sent_tokenize(corpus[0])[0]"
   ]
  },
  {
   "cell_type": "markdown",
   "metadata": {},
   "source": [
    "일본의 형태소 분석기 - MeCab 단점 - 리눅스에서만 가능"
   ]
  },
  {
   "cell_type": "markdown",
   "metadata": {},
   "source": [
    "구두점은 다음과 같은 것들이 있다. 이것들을 가지고 자른다."
   ]
  },
  {
   "cell_type": "code",
   "execution_count": 11,
   "metadata": {},
   "outputs": [
    {
     "data": {
      "text/plain": [
       "'!\"#$%&\\'()*+,-./:;<=>?@[\\\\]^_`{|}~'"
      ]
     },
     "execution_count": 11,
     "metadata": {},
     "output_type": "execute_result"
    }
   ],
   "source": [
    "from string import punctuation\n",
    "punctuation"
   ]
  },
  {
   "cell_type": "code",
   "execution_count": 239,
   "metadata": {
    "scrolled": true
   },
   "outputs": [
    {
     "data": {
      "text/plain": [
       "['\\n    Life is too short, Life is too short... Life is too short!!',\n",
       " 'Life is too short Life is too short.',\n",
       " 'Life is too short?']"
      ]
     },
     "execution_count": 239,
     "metadata": {},
     "output_type": "execute_result"
    }
   ],
   "source": [
    "sent_tokenize(\"\"\"\n",
    "    Life is too short, Life is too short... Life is too short!!\n",
    "    Life is too short Life is too short. Life is too short?\n",
    "\"\"\")"
   ]
  },
  {
   "cell_type": "code",
   "execution_count": 240,
   "metadata": {},
   "outputs": [
    {
     "data": {
      "text/plain": [
       "['\\n    수업하기 싫다.... 수업하기 \"싫다\".']"
      ]
     },
     "execution_count": 240,
     "metadata": {},
     "output_type": "execute_result"
    }
   ],
   "source": [
    "sent_tokenize(\"\"\"\n",
    "    수업하기 싫다.... 수업하기 \"싫다\".\n",
    "\"\"\")"
   ]
  },
  {
   "cell_type": "markdown",
   "metadata": {},
   "source": [
    "구어체를 사용할 때에는 문장을 구별하기 쉽지 않을 것이다. 제대로 문장을 구현하지 않기 때문에.\n",
    "- 다른식으로 구별해야한다."
   ]
  },
  {
   "cell_type": "code",
   "execution_count": 241,
   "metadata": {},
   "outputs": [
    {
     "data": {
      "text/plain": [
       "['\\n    술 한잔 마셨습1니다... 영화가 잘 안되도 좋습니다.',\n",
       " '하지만 엄복동 하나만\\n    기억해 주세요 진심을 다해 전합니다.',\n",
       " '영화가 별로 일수있습니다\\n    밤낮으로 고민하고 연기 했습니다 ...최선을 다했고 열심히 했습니다\\n    저의 진심이 느껴지길 바랍니다 고맙습니다....']"
      ]
     },
     "execution_count": 241,
     "metadata": {},
     "output_type": "execute_result"
    }
   ],
   "source": [
    "sent_tokenize(\"\"\"\n",
    "    술 한잔 마셨습1니다... 영화가 잘 안되도 좋습니다. 하지만 엄복동 하나만\n",
    "    기억해 주세요 진심을 다해 전합니다. 영화가 별로 일수있습니다\n",
    "    밤낮으로 고민하고 연기 했습니다 ...최선을 다했고 열심히 했습니다\n",
    "    저의 진심이 느껴지길 바랍니다 고맙습니다....\n",
    "\"\"\")"
   ]
  },
  {
   "cell_type": "code",
   "execution_count": 242,
   "metadata": {},
   "outputs": [
    {
     "data": {
      "text/plain": [
       "['\\n    술 한잔 마셨습니다... 영화가 잘 안되도 좋습니다.',\n",
       " '하지만 엄복동 하나만\\n    기억해 주세요 진심을 다해 전합니다.',\n",
       " '영화가 별로 일 수 있습니다.',\n",
       " '밤낮으로 고민하고 연기 했습니다 ...최선을 다했고 열심히 했습니다.',\n",
       " '저의 진심이 느껴지길 바랍니다.',\n",
       " '고맙습니다....']"
      ]
     },
     "execution_count": 242,
     "metadata": {},
     "output_type": "execute_result"
    }
   ],
   "source": [
    "sent_tokenize(\"\"\"\n",
    "    술 한잔 마셨습니다... 영화가 잘 안되도 좋습니다. 하지만 엄복동 하나만\n",
    "    기억해 주세요 진심을 다해 전합니다. 영화가 별로 일 수 있습니다.\n",
    "    밤낮으로 고민하고 연기 했습니다 ...최선을 다했고 열심히 했습니다.\n",
    "    저의 진심이 느껴지길 바랍니다. 고맙습니다....\n",
    "\"\"\")"
   ]
  },
  {
   "cell_type": "markdown",
   "metadata": {},
   "source": [
    "어절 단위로 분해\n",
    "- split()으로 자르고 구두점으로 자른다.\n",
    "- 어절을 자를 때 split()보다 word_tokenize가 좋다"
   ]
  },
  {
   "cell_type": "code",
   "execution_count": 8,
   "metadata": {},
   "outputs": [
    {
     "data": {
      "text/plain": [
       "['Life', 'is', 'too', 'short', ',', 'Life', 'is', 'too', 'short']"
      ]
     },
     "execution_count": 8,
     "metadata": {},
     "output_type": "execute_result"
    }
   ],
   "source": [
    "from nltk.tokenize import word_tokenize\n",
    "word_tokenize(\"Life is too short, Life is too short\")"
   ]
  },
  {
   "cell_type": "markdown",
   "metadata": {},
   "source": [
    "' 와 \" 는 다르게 조각낸다."
   ]
  },
  {
   "cell_type": "code",
   "execution_count": 13,
   "metadata": {},
   "outputs": [
    {
     "data": {
      "text/plain": [
       "['술',\n",
       " '한잔',\n",
       " '마셨습니다',\n",
       " '...',\n",
       " '영화가',\n",
       " '잘',\n",
       " '안되도',\n",
       " '좋습니다',\n",
       " '.',\n",
       " '하지만',\n",
       " \"'엄복동\",\n",
       " \"'\",\n",
       " '하나만',\n",
       " '``',\n",
       " '기억',\n",
       " \"''\",\n",
       " '해',\n",
       " '주세요',\n",
       " '진심을',\n",
       " '다해',\n",
       " '전합니다',\n",
       " '.',\n",
       " '영화가',\n",
       " '별로',\n",
       " '일',\n",
       " '수',\n",
       " '있습니다',\n",
       " '.',\n",
       " \"'\",\n",
       " \"밤'낮으로\",\n",
       " '고민하고',\n",
       " '연기',\n",
       " '했습니다',\n",
       " '...',\n",
       " '최선을',\n",
       " '다했고',\n",
       " '열심히',\n",
       " '했습니다',\n",
       " '.',\n",
       " '저의',\n",
       " '진심이',\n",
       " '느껴지길',\n",
       " '바랍니다',\n",
       " '.',\n",
       " '고맙습니다',\n",
       " '...',\n",
       " '.']"
      ]
     },
     "execution_count": 13,
     "metadata": {},
     "output_type": "execute_result"
    }
   ],
   "source": [
    "word_tokenize(\"\"\"\n",
    "    술 한잔 마셨습니다... 영화가 잘 안되도 좋습니다. 하지만 '엄복동' 하나만\n",
    "    \"기억\"해 주세요 진심을 다해 전합니다. 영화가 별로 일 수 있습니다.\n",
    "    '밤'낮으로 고민하고 연기 했습니다 ...최선을 다했고 열심히 했습니다.\n",
    "    저의 진심이 느껴지길 바랍니다. 고맙습니다....\n",
    "\"\"\")"
   ]
  },
  {
   "cell_type": "markdown",
   "metadata": {},
   "source": [
    "음절\n",
    "- 소리가 나는 하나의 단위\n",
    "\n",
    "음소\n",
    "- 음절을 이루는 구성 요소?\n",
    "\n",
    "음소 > 음절 > 형태소 > 단어 > 어절 > 문장 > 문단 "
   ]
  },
  {
   "cell_type": "markdown",
   "metadata": {},
   "source": [
    "토큰, 청크"
   ]
  },
  {
   "cell_type": "markdown",
   "metadata": {},
   "source": [
    "한글과 영어는 다른 단위를 사용한다."
   ]
  },
  {
   "cell_type": "code",
   "execution_count": 14,
   "metadata": {},
   "outputs": [
    {
     "data": {
      "text/plain": [
       "(1968, 443, 47)"
      ]
     },
     "execution_count": 14,
     "metadata": {},
     "output_type": "execute_result"
    }
   ],
   "source": [
    "len(corpus[0]), len(corpus[0].split()), len(corpus[0].splitlines())"
   ]
  },
  {
   "cell_type": "markdown",
   "metadata": {},
   "source": [
    "찾아낸 단어의 수는 늘었고 문장의수는 줄었다.\n",
    "- 형태소 단위로 쪼개면 수가 더 늘어난다."
   ]
  },
  {
   "cell_type": "code",
   "execution_count": 15,
   "metadata": {},
   "outputs": [
    {
     "data": {
      "text/plain": [
       "(555, 20)"
      ]
     },
     "execution_count": 15,
     "metadata": {},
     "output_type": "execute_result"
    }
   ],
   "source": [
    "len(word_tokenize(corpus[0])), len(sent_tokenize(corpus[0]))"
   ]
  },
  {
   "cell_type": "code",
   "execution_count": null,
   "metadata": {},
   "outputs": [],
   "source": [
    "from konlpy.tag import Kkma\n",
    "# 형태소 분석 -> 1113개로 늘어난다.\n",
    "len(Kkma().morphs(corpus[0])), len(word_tokenize(corpus[0])), len(sent_tokenize(corpus[0]))"
   ]
  },
  {
   "cell_type": "code",
   "execution_count": 16,
   "metadata": {},
   "outputs": [
    {
     "data": {
      "text/plain": [
       "['You', 'need', 'Python', '=', ')']"
      ]
     },
     "execution_count": 16,
     "metadata": {},
     "output_type": "execute_result"
    }
   ],
   "source": [
    "# 외국에서 특수기호를 사용한 이모티콘을 많이 사용하므로 감정분석을 위해 사용\n",
    "# 그냥 word_tokenize하면 다 분해해 버리므로 감정을 분석할 수 없다.\n",
    "from nltk.tokenize import TweetTokenizer\n",
    "word_tokenize(\"You need Python =)\")"
   ]
  },
  {
   "cell_type": "code",
   "execution_count": 17,
   "metadata": {
    "scrolled": true
   },
   "outputs": [
    {
     "data": {
      "text/plain": [
       "['You', 'need', 'Python', '=)', ';(']"
      ]
     },
     "execution_count": 17,
     "metadata": {},
     "output_type": "execute_result"
    }
   ],
   "source": [
    "# 감정을 표현하는 이모티콘을 분해하지 않는다.\n",
    "TweetTokenizer().tokenize(\"You need Python =);(\")"
   ]
  },
  {
   "cell_type": "code",
   "execution_count": 18,
   "metadata": {},
   "outputs": [
    {
     "data": {
      "text/plain": [
       "['You', 'need', 'Python', '12', '한', '_글']"
      ]
     },
     "execution_count": 18,
     "metadata": {},
     "output_type": "execute_result"
    }
   ],
   "source": [
    "#정규식 토크나이즈 - 굳이 안 써도 됨\n",
    "import re\n",
    "from nltk.tokenize import regexp_tokenize\n",
    "pattern = re.compile(r\"\\b(\\w+)\\b\") #영어와 숫자로 이루어진 어절\n",
    "regexp_tokenize(\"You need Python!!!! 12 한!#$#$_글\", pattern)"
   ]
  },
  {
   "cell_type": "code",
   "execution_count": 19,
   "metadata": {},
   "outputs": [
    {
     "data": {
      "text/plain": [
       "['한', '글']"
      ]
     },
     "execution_count": 19,
     "metadata": {},
     "output_type": "execute_result"
    }
   ],
   "source": [
    "#정규식 토크나이즈 - 굳이 안 써도 됨\n",
    "import re\n",
    "from nltk.tokenize import regexp_tokenize\n",
    "pattern = re.compile(r\"\\b([가-힣]+)\\b\") #한글 가~힣으로 이루어진 어절\n",
    "regexp_tokenize(\"You need Python!!!! 12 한!#$#$글\", pattern)\n",
    "#한, 글이 따로 나오므로 원래의 의미를 잃어버린다."
   ]
  },
  {
   "cell_type": "code",
   "execution_count": 20,
   "metadata": {},
   "outputs": [
    {
     "data": {
      "text/plain": [
       "'한글'"
      ]
     },
     "execution_count": 20,
     "metadata": {},
     "output_type": "execute_result"
    }
   ],
   "source": [
    "#가-힣에 해당하지 않는 문자열을 \"\"으로  대체\n",
    "re.sub(r\"[^가-힣]\",\"\", \"ㅠㅠ ㅜㅜ ㅋㅋ 한@#$%글\")"
   ]
  },
  {
   "cell_type": "code",
   "execution_count": 21,
   "metadata": {
    "scrolled": true
   },
   "outputs": [
    {
     "data": {
      "text/plain": [
       "'ㅠㅠ ㅜㅜ ㅋㅋ 한글'"
      ]
     },
     "execution_count": 21,
     "metadata": {},
     "output_type": "execute_result"
    }
   ],
   "source": [
    "#한글에 해당하지 않는 문자열을 \"\"로 대체\n",
    "re.sub(r\"[^ㄱ-ㅎ ㅏ-ㅣ 가-힣]\",\"\", \"ㅠㅠ ㅜㅜ ㅋㅋ 한@#$%글\")"
   ]
  },
  {
   "cell_type": "code",
   "execution_count": 22,
   "metadata": {},
   "outputs": [
    {
     "data": {
      "text/plain": [
       "['한글']"
      ]
     },
     "execution_count": 22,
     "metadata": {},
     "output_type": "execute_result"
    }
   ],
   "source": [
    "# pattern이 가-힣을 찾는 것이므로 '한글'이 붙어 나온다. \n",
    "# 이런 방식으로 의미를 유지한 채로 어절을 분리할 수 있다.\n",
    "regexp_tokenize(\n",
    "re.sub(r\"[^ㄱ-ㅎ ㅏ-ㅣ 가-힣]\",\"\", \"ㅠㅠ ㅜㅜ ㅋㅋ 한@#$%글\"), pattern)"
   ]
  },
  {
   "cell_type": "markdown",
   "metadata": {},
   "source": [
    "4가지 토크나이즈 \n",
    "- sent, word, Tweet, regexp\n",
    "- 데이터를 가지고 얼마나 분석할건지 정해서 필요한 토크나이즈 사용"
   ]
  },
  {
   "cell_type": "markdown",
   "metadata": {},
   "source": [
    "텍스트 객체"
   ]
  },
  {
   "cell_type": "code",
   "execution_count": 9,
   "metadata": {
    "scrolled": true
   },
   "outputs": [],
   "source": [
    "from nltk import Text\n",
    "text = Text(word_tokenize(corpus[0]))"
   ]
  },
  {
   "cell_type": "code",
   "execution_count": 10,
   "metadata": {},
   "outputs": [
    {
     "name": "stdout",
     "output_type": "stream",
     "text": [
      "<FreqDist with 293 samples and 555 outcomes>\n"
     ]
    }
   ],
   "source": [
    "print(text.vocab())"
   ]
  },
  {
   "cell_type": "markdown",
   "metadata": {},
   "source": [
    "N: 전체 인스턴스\n",
    "B: 유니크한 애(set에 넣었을 때 중복 제거되고 남은 값이라고 생각하면 됨)"
   ]
  },
  {
   "cell_type": "code",
   "execution_count": 69,
   "metadata": {
    "scrolled": true
   },
   "outputs": [
    {
     "data": {
      "text/plain": [
       "(293, 555)"
      ]
     },
     "execution_count": 69,
     "metadata": {},
     "output_type": "execute_result"
    }
   ],
   "source": [
    "text.vocab().B(), text.vocab().N()"
   ]
  },
  {
   "cell_type": "code",
   "execution_count": 26,
   "metadata": {
    "collapsed": true
   },
   "outputs": [
    {
     "data": {
      "text/plain": [
       "[('.', 18),\n",
       " ('전', 14),\n",
       " ('``', 12),\n",
       " (\"''\", 12),\n",
       " ('정두언', 11),\n",
       " ('(', 11),\n",
       " (')', 11),\n",
       " ('고', 11),\n",
       " ('서울=연합뉴스', 7),\n",
       " ('기자', 7),\n",
       " ('=', 7),\n",
       " ('17일', 7),\n",
       " ('서울', 7),\n",
       " ('@', 7),\n",
       " ('yna.co.kr', 7),\n",
       " (',', 7),\n",
       " ('의원', 7),\n",
       " ('신준희', 6),\n",
       " ('있다', 6),\n",
       " ('hama', 6),\n",
       " ('의원은', 6),\n",
       " ('의원의', 5),\n",
       " ('빈소를', 5),\n",
       " ('빈소', 4),\n",
       " ('찾은', 4),\n",
       " ('세브란스병원', 4),\n",
       " ('장례식장에', 4),\n",
       " ('마련된', 4),\n",
       " ('새누리당', 4),\n",
       " ('조문하고', 4)]"
      ]
     },
     "execution_count": 26,
     "metadata": {},
     "output_type": "execute_result"
    }
   ],
   "source": [
    "# text객체의 어절들과 그 빈도 top 30 \n",
    "text.vocab().most_common(30)"
   ]
  },
  {
   "cell_type": "markdown",
   "metadata": {},
   "source": [
    "빈도수로 나열한 그래프"
   ]
  },
  {
   "cell_type": "code",
   "execution_count": 72,
   "metadata": {
    "scrolled": true
   },
   "outputs": [
    {
     "data": {
      "image/png": "[encoded data removed]",
      "text/plain": [
       "<Figure size 432x288 with 1 Axes>"
      ]
     },
     "metadata": {
      "needs_background": "light"
     },
     "output_type": "display_data"
    }
   ],
   "source": [
    "text.plot()"
   ]
  },
  {
   "cell_type": "markdown",
   "metadata": {},
   "source": [
    "## Empirical Law\n",
    "- 수많은 코퍼스를 다루다 보니 나온 경험적 법칙\n",
    "- 구두점과 쓸모 없지만 많이 나오는 것이 많다. \n",
    "    - 엔트로피가 높다. -> 제거해야한다.\n",
    "- 특정한 법칙을 찾았다. : Zipf's Law\n",
    "\n",
    "### Zipf's Law\n",
    "- 기울기가 급격하게 감소하여 수렴하는 그래프가 나온다.\n",
    "- 자기 순위에 반비례 -> 비율로 찾을 수 있다.\n",
    "- 여기에 맞는다면 bias가 적다.\n",
    "- 이 법칙을 따르면 valenced가 맞는다고 얘기 할 수 있다."
   ]
  },
  {
   "cell_type": "markdown",
   "metadata": {},
   "source": [
    "빈도는 문서의 길이에 따라 달라지므로 빈도를 기준으로 의미있는 데이터를 골라낼 수 없다\n",
    "- 순위와 비율로 자른다.\n",
    "    - 최대 빈도로 정규화를 시켜서 1이내의 스케일로 만들어줘서 잘라줄 수 있다.\n",
    "- 상위 20%, 하위 20% 정도 날리고 시작하거나 TOP k개를 버리고 시작한다."
   ]
  },
  {
   "cell_type": "markdown",
   "metadata": {},
   "source": [
    "freq() 함수를 쓰면 비율이 나온다."
   ]
  },
  {
   "cell_type": "code",
   "execution_count": 11,
   "metadata": {
    "scrolled": true
   },
   "outputs": [
    {
     "data": {
      "text/plain": [
       "0.01981981981981982"
      ]
     },
     "execution_count": 11,
     "metadata": {},
     "output_type": "execute_result"
    }
   ],
   "source": [
    "text.vocab().freq(\"정두언\")"
   ]
  },
  {
   "cell_type": "markdown",
   "metadata": {},
   "source": [
    "상위 10개의 단어가 20%를 차지하고 있다"
   ]
  },
  {
   "cell_type": "code",
   "execution_count": 28,
   "metadata": {
    "collapsed": true
   },
   "outputs": [
    {
     "name": "stdout",
     "output_type": "stream",
     "text": [
      "0.032432432432432434\n",
      "0.025225225225225224\n",
      "0.021621621621621623\n",
      "0.021621621621621623\n",
      "0.01981981981981982\n",
      "0.01981981981981982\n",
      "0.01981981981981982\n",
      "0.01981981981981982\n",
      "0.012612612612612612\n",
      "0.012612612612612612\n",
      "0.2054054054054054\n"
     ]
    }
   ],
   "source": [
    "ratio = 0.0\n",
    "# 빈도가 높은 10개를 뽑아 그 중에 값을 뽑아 반복\n",
    "for _ in [_[0] for _ in text.vocab().most_common(10)]:\n",
    "    # 그 값의 비율을 찾아서 ratio에 더한다.\n",
    "    ratio += text.vocab().freq(_)\n",
    "    print(text.vocab().freq(_))\n",
    "print(ratio)\n",
    "# 20% 정도를 빈도top10이 차지하고 있다."
   ]
  },
  {
   "cell_type": "markdown",
   "metadata": {},
   "source": [
    "빨간 라인이 파란 라인에 근접해야 법칙에 맞는 것\n",
    "- 문서 양을 늘리면 더 근접해질 것.\n",
    "- 로그를 뒤집어 놓는 것과 유사 -> 로그를 씌우면 선형 비슷해진다."
   ]
  },
  {
   "cell_type": "markdown",
   "metadata": {},
   "source": [
    "중요 구성성분임에도 다음처럼 전처리를 하게 되면 날라가기 때문에 문장이 깨진다.\n",
    "- context가 중요한 text에서는 다음과 같이 날리면 중요한 것이 날라가게 된다."
   ]
  },
  {
   "cell_type": "code",
   "execution_count": 13,
   "metadata": {},
   "outputs": [
    {
     "data": {
      "image/png": "[encoded data removed]",
      "text/plain": [
       "<Figure size 432x288 with 1 Axes>"
      ]
     },
     "metadata": {
      "needs_background": "light"
     },
     "output_type": "display_data"
    },
    {
     "data": {
      "image/png": "[encoded data removed]",
      "text/plain": [
       "<Figure size 432x288 with 1 Axes>"
      ]
     },
     "metadata": {
      "needs_background": "light"
     },
     "output_type": "display_data"
    }
   ],
   "source": [
    "import matplotlib.pyplot as plt\n",
    "from math import log\n",
    "# text.vocab().items()를 람다식의 반환값들(빈도)을 비교하여 토큰들을 내림차순으로 정렬한 리스트 \n",
    "token = [_[0] for _ in \n",
    "         sorted(text.vocab().items(), \n",
    "                key=lambda x:x[1], reverse=True)]\n",
    "# text.vocab().items()를 람다식의 반환값들(빈도)을 비교하여 내림차순으로 정렬하고 비율(빈도/가장 높은 빈도)을 구한 리스트\n",
    "freq = [_[1]/text.vocab().most_common(1)[0][1] \n",
    "        for _ in sorted(text.vocab().items(), \n",
    "                        key=lambda x:x[1], reverse=True)]\n",
    "_freq = [log(_) for _ in freq]\n",
    "rank = [1/(_+1) for _ in range(len(token))]\n",
    "_rank = [log(_) for _ in rank]\n",
    "plt.plot([i for i in range(len(token))], freq, \"r-\")\n",
    "plt.plot([i for i in range(len(token))], rank, \"b-\")\n",
    "plt.show()\n",
    "plt.plot([i for i in range(len(token))], _freq, \"r-\")\n",
    "plt.plot([i for i in range(len(token))], _rank, \"b-\")\n",
    "plt.show()"
   ]
  },
  {
   "cell_type": "markdown",
   "metadata": {},
   "source": [
    "##### 뉴스 기사 모은 것 다 더해서 그래프 그려보기"
   ]
  },
  {
   "cell_type": "markdown",
   "metadata": {},
   "source": [
    "내 코드"
   ]
  },
  {
   "cell_type": "code",
   "execution_count": 93,
   "metadata": {},
   "outputs": [
    {
     "name": "stdout",
     "output_type": "stream",
     "text": [
      "<Text: `` 합리적 보수 주춧돌 되길 바랐는데 '' 줄지어...>\n"
     ]
    },
    {
     "data": {
      "text/plain": [
       "16571"
      ]
     },
     "execution_count": 93,
     "metadata": {},
     "output_type": "execute_result"
    }
   ],
   "source": [
    "news = \"\"\n",
    "for _ in corpus:\n",
    "    news += \" \"+_\n",
    "text = Text(word_tokenize(news))\n",
    "print(text)\n",
    "len(text)"
   ]
  },
  {
   "cell_type": "markdown",
   "metadata": {},
   "source": [
    "선생님 코드"
   ]
  },
  {
   "cell_type": "code",
   "execution_count": 14,
   "metadata": {},
   "outputs": [],
   "source": [
    "largeText = \"\\n\".join(corpus)\n",
    "text = Text(word_tokenize(largeText))"
   ]
  },
  {
   "cell_type": "code",
   "execution_count": 15,
   "metadata": {},
   "outputs": [
    {
     "data": {
      "image/png": "[encoded data removed]",
      "text/plain": [
       "<Figure size 432x288 with 1 Axes>"
      ]
     },
     "metadata": {
      "needs_background": "light"
     },
     "output_type": "display_data"
    },
    {
     "data": {
      "image/png": "[encoded data removed]",
      "text/plain": [
       "<Figure size 432x288 with 1 Axes>"
      ]
     },
     "metadata": {
      "needs_background": "light"
     },
     "output_type": "display_data"
    }
   ],
   "source": [
    "import matplotlib.pyplot as plt\n",
    "from math import log\n",
    "token = [_[0] for _ in \n",
    "         sorted(text.vocab().items(), \n",
    "                key=lambda x:x[1], reverse=True)]\n",
    "freq = [_[1]/text.vocab().most_common(1)[0][1] \n",
    "        for _ in sorted(text.vocab().items(), \n",
    "                        key=lambda x:x[1], reverse=True)]\n",
    "_freq = [log(_) for _ in freq]\n",
    "rank = [1/(_+1) for _ in range(len(token))]\n",
    "_rank = [log(_) for _ in rank]\n",
    "plt.plot([i for i in range(len(token))], freq, \"r-\")\n",
    "plt.plot([i for i in range(len(token))], rank, \"b-\")\n",
    "plt.show()\n",
    "plt.plot([log(i+1) for i in range(len(token))], _freq, \"r-\")\n",
    "plt.plot([log(i+1) for i in range(len(token))], _rank, \"b-\")\n",
    "plt.show()"
   ]
  },
  {
   "cell_type": "markdown",
   "metadata": {},
   "source": [
    "직선형 그래프\n",
    "- 언어에 관계없이 법칙이 작용함을 알 수 있다."
   ]
  },
  {
   "cell_type": "markdown",
   "metadata": {},
   "source": [
    "### Heaps' Law\n",
    "- 말뭉치가 있다 하더라도 feature로서 demeinsion을 삼는것은 줄어든다.\n",
    "- 잘라내고 유니크한 단어 수를 알 수 있으니 디멘젼을 얼마나 사용해야하는지 안다."
   ]
  },
  {
   "cell_type": "code",
   "execution_count": 29,
   "metadata": {},
   "outputs": [],
   "source": [
    "K = 10#10 ~ 100\n",
    "B = 0.4#0.4 ~ 0.6\n",
    "unique = list()\n",
    "total = list()\n",
    "heaps = list()\n",
    "largeText = \"\"\n",
    "for _ in corpus:\n",
    "    largeText += \" \"+_\n",
    "    text = Text(word_tokenize(largeText))\n",
    "    unique.append(text.vocab().B())\n",
    "    total.append(text.vocab().N())\n",
    "    heaps.append(K*text.vocab().N()**B)\n"
   ]
  },
  {
   "cell_type": "code",
   "execution_count": 30,
   "metadata": {
    "scrolled": true
   },
   "outputs": [
    {
     "data": {
      "image/png": "[encoded data removed]",
      "text/plain": [
       "<Figure size 432x288 with 1 Axes>"
      ]
     },
     "metadata": {
      "needs_background": "light"
     },
     "output_type": "display_data"
    }
   ],
   "source": [
    "# plt.plot(x축, y축, 색)\n",
    "plt.plot(total, unique, \"r-\")\n",
    "plt.plot(total, heaps, \"b-\")\n",
    "plt.show()"
   ]
  },
  {
   "cell_type": "markdown",
   "metadata": {},
   "source": [
    "위의 그래프에서 두 선이 일치하지는 않지만 경향성이 비슷한 것을 알 수 있다.\n",
    "- 단어가 무한정 늘어난다고 디멘젼이 무한정 늘어나는 것이 아니다."
   ]
  },
  {
   "cell_type": "markdown",
   "metadata": {},
   "source": [
    "경험적인 법칙에 맞지 않으면 정보 양이 충분하지 않은 것이다."
   ]
  },
  {
   "cell_type": "markdown",
   "metadata": {},
   "source": [
    "### n-gram\n",
    "- 언어학적인 지식 없이 빈도와 통계적인 것으로 할 수 있는 방법\n",
    "- feature가 많이 생긴다는 단점이 있다.\n",
    "- 어간이라는 것들을 찾기 좋은 접근중 하나이다.\n",
    "- 단어라고 하는 것들에서 나오는 시퀀스를 어떻게 찾을지\n",
    "- 확률을 통해 다음 글자를 찾을 수 있다.\n",
    "- 앞에 있는 단어의 조합을 보고 다음에 누가 올 지를 조건부 확률을 통해 예측할 수 있다.\n",
    "- 내 이전의 단어를 n개까지 보겠다 -> n-gram모델\n",
    "- 실제로는 사용할 수 없다. -> 패턴이 나올 수 있는 가지수가 많다 -> 빈도가 적다. -> 0에 수렴한다.\n",
    "- 그럼에도 불구하고 특정 부분에서 사용된다 색인 방법으로 사용\n",
    "- 충분한 양의 데이터가 수집이 되어야한다.\n",
    "\n",
    "#### corpus\n",
    "- 밸런스드가 맞춰져야한다.\n",
    "- 다양한 언어 패턴에 대한 정보가 모여있어야한다.\n",
    "- 굉장히 골고루 분야별로 모아야한다.(직업, 성별 나이 등등에 따라 사용하는 언어 정보)\n",
    "\n",
    "#### 한글 엔그램\n",
    "- 어절을 이용하여 사용할 수 있다.\n"
   ]
  },
  {
   "cell_type": "code",
   "execution_count": null,
   "metadata": {},
   "outputs": [],
   "source": [
    "sentence = \"Life is too short, You need Python\"\n",
    "N=2\n",
    "Python?\n",
    "P(Python|need, You, short, too, is, Life)\n",
    "P(Python|need)\n",
    "P(need|Your)\n",
    "N=3\n",
    "P(Python|need,You)\n",
    "P(need|You) P(Python|need) # 쭉 이어지는 구조\n",
    "# 패턴만 잘 정해 놓으면 찾아갈 수 있다.\n",
    "# 어절 단위의 n-gram\n",
    "#우리말\n",
    "술 한잔 마셨습니다.\n",
    "아버지가, 아버지를, 아버지께서, 아버지에게\n",
    "-> 아버지 + 가 (어간 추출)\n",
    "랭귀지를 이해하는 곳에서 많이 사용 \n",
    "술한잔마셨습니다. -> 어디서 띄어 써야 했나: 띄어쓰기 규칙 적용\n",
    "자동완성 추천에도 사용"
   ]
  },
  {
   "cell_type": "markdown",
   "metadata": {},
   "source": [
    "n-gram 모델 만들기"
   ]
  },
  {
   "cell_type": "code",
   "execution_count": 31,
   "metadata": {},
   "outputs": [
    {
     "data": {
      "text/plain": [
       "[('Life', 'is', 'too'),\n",
       " ('is', 'too', 'short'),\n",
       " ('too', 'short', ','),\n",
       " ('short', ',', 'You'),\n",
       " (',', 'You', 'need'),\n",
       " ('You', 'need', 'Python')]"
      ]
     },
     "execution_count": 31,
     "metadata": {},
     "output_type": "execute_result"
    }
   ],
   "source": [
    "sentence = \"Life is too short, You need Python\"\n",
    "\n",
    "def eojeol(sentence, N=2):\n",
    "    tokens = word_tokenize(sentence)\n",
    "    ngram = list()\n",
    "    for i in range(len(tokens)-(N-1)):\n",
    "#         ngram.append(\" \".join(tokens[i:i+N]))\n",
    "        ngram.append(tuple(tokens[i:i+N]))\n",
    "    return ngram\n",
    "\n",
    "# eojeol(sentence)\n",
    "eojeol(sentence, 3)"
   ]
  },
  {
   "cell_type": "markdown",
   "metadata": {},
   "source": [
    "많이 나온 쌍  찾기"
   ]
  },
  {
   "cell_type": "code",
   "execution_count": 32,
   "metadata": {},
   "outputs": [],
   "source": [
    "# defaultdict 값이 없으면 디폴트값을 주는 딕셔너리 -> int면 0, float면 0.0 등등...\n",
    "from collections import defaultdict\n",
    "\n",
    "freq = defaultdict(int)\n",
    "# 어절의 빈도를 계산\n",
    "for _ in eojeol(corpus[0]):\n",
    "    freq[_] += 1"
   ]
  },
  {
   "cell_type": "code",
   "execution_count": 34,
   "metadata": {
    "scrolled": false
   },
   "outputs": [
    {
     "data": {
      "text/plain": [
       "[(('(', '서울=연합뉴스'), 7),\n",
       " (('서울=연합뉴스', ')'), 7),\n",
       " (('기자', '='), 7),\n",
       " (('@', 'yna.co.kr'), 7),\n",
       " ((')', '신준희'), 6),\n",
       " (('신준희', '기자'), 6),\n",
       " (('정두언', '전'), 6),\n",
       " (('있다', '.'), 6),\n",
       " (('hama', '@'), 6),\n",
       " (('고', '정두언'), 5)]"
      ]
     },
     "execution_count": 34,
     "metadata": {},
     "output_type": "execute_result"
    }
   ],
   "source": [
    "# 빈도 계산한 것을 빈도 기준으로 내림차순해서 상위 10개 \n",
    "sorted(freq.items(), key=lambda x:x[1], reverse=True)[:10]"
   ]
  },
  {
   "cell_type": "markdown",
   "metadata": {},
   "source": [
    "P(\")\") ?\n",
    "P(\")\"|\"서울=연합뉴스\")\n",
    "P(\"서울=연합뉴스\"|\"(\")\n",
    "P(\"(\")"
   ]
  },
  {
   "cell_type": "code",
   "execution_count": 118,
   "metadata": {},
   "outputs": [
    {
     "data": {
      "text/plain": [
       "0.01263537906137184"
      ]
     },
     "execution_count": 118,
     "metadata": {},
     "output_type": "execute_result"
    }
   ],
   "source": [
    "freq[('(', '서울=연합뉴스')]/sum(freq.values()) * freq[('서울=연합뉴스',')')]/freq[('(', '서울=연합뉴스')]"
   ]
  },
  {
   "cell_type": "code",
   "execution_count": 120,
   "metadata": {
    "scrolled": true
   },
   "outputs": [
    {
     "data": {
      "text/plain": [
       "[('서울=연합뉴스', ')'), ('故', ')'), ('오른쪽', ')'), ('서울=연합뉴수', ')')]"
      ]
     },
     "execution_count": 120,
     "metadata": {},
     "output_type": "execute_result"
    }
   ],
   "source": [
    "[_ for _ in freq if _[1] == \")\"]"
   ]
  },
  {
   "cell_type": "markdown",
   "metadata": {},
   "source": [
    "음절 단위(소리 나는 단위)"
   ]
  },
  {
   "cell_type": "code",
   "execution_count": 35,
   "metadata": {
    "collapsed": true
   },
   "outputs": [
    {
     "data": {
      "text/plain": [
       "['\"합',\n",
       " '합리',\n",
       " '리적',\n",
       " '적 ',\n",
       " ' 보',\n",
       " '보수',\n",
       " '수 ',\n",
       " ' 주',\n",
       " '주춧',\n",
       " '춧돌',\n",
       " '돌 ',\n",
       " ' 되',\n",
       " '되길',\n",
       " '길 ',\n",
       " ' 바',\n",
       " '바랐',\n",
       " '랐는',\n",
       " '는데',\n",
       " '데\"',\n",
       " '\" ',\n",
       " ' 줄',\n",
       " '줄지',\n",
       " '지어',\n",
       " '어 ',\n",
       " ' 추',\n",
       " '추모']"
      ]
     },
     "execution_count": 35,
     "metadata": {},
     "output_type": "execute_result"
    }
   ],
   "source": [
    "def umjeol(token, N=2):\n",
    "    tokens = list(token)\n",
    "    ngram = list()\n",
    "    for i in range(len(tokens)-(N-1)):\n",
    "        ngram.append(\"\".join(tokens[i:i+N]))\n",
    "#         ngram.append(tuple(tokens[i:i+N]))\n",
    "    return ngram\n",
    "# umjeol(sentence)\n",
    "umjeol(corpus[0].splitlines()[0])\n",
    "# len(umjeol(corpus[0])) # 쌍이 늘어난다."
   ]
  },
  {
   "cell_type": "markdown",
   "metadata": {},
   "source": [
    "### WPM (Word Piece Model)\n",
    "- 하나 단어를 내부 단어들로 분리하는 단어 분리 모델\n",
    "- 어간이라는 공통된 부분을 줄이면 머신이 똑똑해지지 않을까?\n",
    "- 바이트페어인코딩(Byte Pair Encoding)(Digram Coding)\n",
    "    - 어간 추출을 만들 수 있다."
   ]
  },
  {
   "cell_type": "markdown",
   "metadata": {},
   "source": [
    "어간 추출에 BPE가 어떻게 도는지 확인"
   ]
  },
  {
   "cell_type": "code",
   "execution_count": 126,
   "metadata": {},
   "outputs": [
    {
     "name": "stderr",
     "output_type": "stream",
     "text": [
      "[nltk_data] Downloading package stopwords to\n",
      "[nltk_data]     C:\\Users\\재은\\AppData\\Roaming\\nltk_data...\n",
      "[nltk_data]   Unzipping corpora\\stopwords.zip.\n"
     ]
    }
   ],
   "source": [
    "nltk.download(\"stopwords\")"
   ]
  },
  {
   "cell_type": "code",
   "execution_count": 36,
   "metadata": {
    "collapsed": true
   },
   "outputs": [
    {
     "name": "stdout",
     "output_type": "stream",
     "text": [
      "i\n",
      "me\n",
      "my\n",
      "myself\n",
      "we\n",
      "our\n",
      "ours\n",
      "ourselves\n",
      "you\n",
      "you're\n",
      "you've\n",
      "you'll\n",
      "you'd\n",
      "your\n",
      "yours\n",
      "yourself\n",
      "yourselves\n",
      "he\n",
      "him\n",
      "his\n",
      "himself\n",
      "she\n",
      "she's\n",
      "her\n",
      "hers\n",
      "herself\n",
      "it\n",
      "it's\n",
      "its\n",
      "itself\n",
      "they\n",
      "them\n",
      "their\n",
      "theirs\n",
      "themselves\n",
      "what\n",
      "which\n",
      "who\n",
      "whom\n",
      "this\n",
      "that\n",
      "that'll\n",
      "these\n",
      "those\n",
      "am\n",
      "is\n",
      "are\n",
      "was\n",
      "were\n",
      "be\n",
      "been\n",
      "being\n",
      "have\n",
      "has\n",
      "had\n",
      "having\n",
      "do\n",
      "does\n",
      "did\n",
      "doing\n",
      "a\n",
      "an\n",
      "the\n",
      "and\n",
      "but\n",
      "if\n",
      "or\n",
      "because\n",
      "as\n",
      "until\n",
      "while\n",
      "of\n",
      "at\n",
      "by\n",
      "for\n",
      "with\n",
      "about\n",
      "against\n",
      "between\n",
      "into\n",
      "through\n",
      "during\n",
      "before\n",
      "after\n",
      "above\n",
      "below\n",
      "to\n",
      "from\n",
      "up\n",
      "down\n",
      "in\n",
      "out\n",
      "on\n",
      "off\n",
      "over\n",
      "under\n",
      "again\n",
      "further\n",
      "then\n",
      "once\n",
      "here\n",
      "there\n",
      "when\n",
      "where\n",
      "why\n",
      "how\n",
      "all\n",
      "any\n",
      "both\n",
      "each\n",
      "few\n",
      "more\n",
      "most\n",
      "other\n",
      "some\n",
      "such\n",
      "no\n",
      "nor\n",
      "not\n",
      "only\n",
      "own\n",
      "same\n",
      "so\n",
      "than\n",
      "too\n",
      "very\n",
      "s\n",
      "t\n",
      "can\n",
      "will\n",
      "just\n",
      "don\n",
      "don't\n",
      "should\n",
      "should've\n",
      "now\n",
      "d\n",
      "ll\n",
      "m\n",
      "o\n",
      "re\n",
      "ve\n",
      "y\n",
      "ain\n",
      "aren\n",
      "aren't\n",
      "couldn\n",
      "couldn't\n",
      "didn\n",
      "didn't\n",
      "doesn\n",
      "doesn't\n",
      "hadn\n",
      "hadn't\n",
      "hasn\n",
      "hasn't\n",
      "haven\n",
      "haven't\n",
      "isn\n",
      "isn't\n",
      "ma\n",
      "mightn\n",
      "mightn't\n",
      "mustn\n",
      "mustn't\n",
      "needn\n",
      "needn't\n",
      "shan\n",
      "shan't\n",
      "shouldn\n",
      "shouldn't\n",
      "wasn\n",
      "wasn't\n",
      "weren\n",
      "weren't\n",
      "won\n",
      "won't\n",
      "wouldn\n",
      "wouldn't\n",
      "\n"
     ]
    }
   ],
   "source": [
    "from nltk.corpus import stopwords\n",
    "print(stopwords.open(\"english\").read())"
   ]
  },
  {
   "cell_type": "markdown",
   "metadata": {},
   "source": [
    "빈도를 이용해서 누가 합쳐져야하는지 누가 분리되어야 하는지를 이용하여 stemming한 결과로 사용할 수 있다.\n",
    "- 쌍의 빈도가 높다 -> 붙어있을 가능성이 높다(sequence일 가능성이 높다)\n",
    "- 쌍의 빈도가 낮다 -> 어미일 가능성이 높다 or 떨어져 있을 가능성이 높다"
   ]
  },
  {
   "cell_type": "markdown",
   "metadata": {},
   "source": [
    "### Normalization\n",
    "- 불용어 처리 과정"
   ]
  },
  {
   "cell_type": "markdown",
   "metadata": {},
   "source": [
    "BPE\n",
    "- </w> 단어의 끝을 알려준다.\n",
    "- 돌리면 양질의 데이터를 만들 수 있다.\n",
    "- 뉴스 모아 놓은걸로 해보기\n"
   ]
  },
  {
   "cell_type": "code",
   "execution_count": 45,
   "metadata": {},
   "outputs": [],
   "source": [
    "import re"
   ]
  },
  {
   "cell_type": "code",
   "execution_count": 73,
   "metadata": {},
   "outputs": [],
   "source": [
    "tokens = {\n",
    "    \"l o w </w>\" : 5,\n",
    "    \"l o w e s t </w>\" : 2,\n",
    "    \"n e w e r </w>\" : 6,\n",
    "    \"w i d e r </w>\" : 3\n",
    "}"
   ]
  },
  {
   "cell_type": "code",
   "execution_count": 71,
   "metadata": {},
   "outputs": [],
   "source": [
    "tokens = {\n",
    "    \"아 버 지 가 </w>\" : 5,\n",
    "    \"아 버 지 께 서 </w>\" : 2,\n",
    "    \"아 버 지 를 </w>\" : 6,\n",
    "    \"아 버 지 에 게 </w>\" : 3\n",
    "}"
   ]
  },
  {
   "cell_type": "code",
   "execution_count": 78,
   "metadata": {},
   "outputs": [],
   "source": [
    "tokens = defaultdict(int)\n",
    "text = Text(word_tokenize(corpus[1]))\n",
    "text.vocab().items()\n",
    "for token, freq in text.vocab().items():\n",
    "    tokens[\" \".join(token)+\" </w>\"] = freq\n"
   ]
  },
  {
   "cell_type": "code",
   "execution_count": 79,
   "metadata": {
    "scrolled": true
   },
   "outputs": [
    {
     "data": {
      "text/plain": [
       "{'고</w>', '는</w>', '다</w>', '을</w>'}"
      ]
     },
     "execution_count": 79,
     "metadata": {},
     "output_type": "execute_result"
    }
   ],
   "source": [
    "K = max(tokens.values())\n",
    "for _ in range(100):\n",
    "    maxKey = findBigram(tokens)\n",
    "    tokens = mergeMaxKey(maxKey, tokens, K)\n",
    "\n",
    "# pattern = r\"[A-Za-z\\/\\<\\>]{2,}\"\n",
    "pattern = r\"[가-힣A-Za-z\\/\\<\\>]{2,}\"\n",
    "result = list()\n",
    "for _ in tokens:\n",
    "    result.extend([_ for _ in re.findall(pattern, _) if _ != \"</w>\"])\n",
    "set(result)"
   ]
  },
  {
   "cell_type": "code",
   "execution_count": 42,
   "metadata": {},
   "outputs": [],
   "source": [
    "def findBigram(tokens):\n",
    "    ngram = defaultdict(int)\n",
    "    for token, freq in tokens.items():\n",
    "        syllables = token.split()\n",
    "        for i in range(len(syllables)-1):\n",
    "            ngram[tuple(syllables[i:i+2])] += freq\n",
    "    return ngram"
   ]
  },
  {
   "cell_type": "code",
   "execution_count": 226,
   "metadata": {
    "scrolled": true
   },
   "outputs": [
    {
     "data": {
      "text/plain": [
       "[5, 2, 2, 2, 2, 6, 6, 6, 3, 3, 3]"
      ]
     },
     "execution_count": 226,
     "metadata": {},
     "output_type": "execute_result"
    }
   ],
   "source": [
    "[ngram.get(_) for _ in ngram]"
   ]
  },
  {
   "cell_type": "code",
   "execution_count": 227,
   "metadata": {
    "scrolled": false
   },
   "outputs": [
    {
     "data": {
      "text/plain": [
       "('e', 'w')"
      ]
     },
     "execution_count": 227,
     "metadata": {},
     "output_type": "execute_result"
    }
   ],
   "source": [
    "max(ngram, key=lambda x:x[1])"
   ]
  },
  {
   "cell_type": "code",
   "execution_count": 233,
   "metadata": {},
   "outputs": [
    {
     "name": "stdout",
     "output_type": "stream",
     "text": [
      "['</w>', 'e', 's', 't', '</w>', 'e', 'w', 'er</w>', 'i', 'd', 'er</w>']\n"
     ]
    }
   ],
   "source": [
    "test = [_[1] for _ in ngram]\n",
    "print(test)"
   ]
  },
  {
   "cell_type": "code",
   "execution_count": 231,
   "metadata": {},
   "outputs": [
    {
     "data": {
      "text/plain": [
       "'w'"
      ]
     },
     "execution_count": 231,
     "metadata": {},
     "output_type": "execute_result"
    }
   ],
   "source": [
    "max(test)"
   ]
  },
  {
   "cell_type": "code",
   "execution_count": 43,
   "metadata": {},
   "outputs": [],
   "source": [
    "def mergeMaxKey(ngram, tokens, K):\n",
    "    maxKey = max(ngram, key = ngram.get)\n",
    "    maxValue = max(ngram.values())\n",
    "    newTokens = dict()\n",
    "    for token, freq in tokens.items():\n",
    "        newTokens[re.sub(\" \".join(maxKey), \"\".join(maxKey), token) if maxValue > K else token] = freq\n",
    "#     print(maxKey)\n",
    "    return newTokens"
   ]
  },
  {
   "cell_type": "code",
   "execution_count": 198,
   "metadata": {},
   "outputs": [],
   "source": [
    "tokens = newTokens"
   ]
  },
  {
   "cell_type": "code",
   "execution_count": 178,
   "metadata": {
    "scrolled": true
   },
   "outputs": [
    {
     "data": {
      "text/plain": [
       "{'low </w>': 5, 'low e s t </w>': 2, 'ne w er</w>': 6, 'w i d er</w>': 3}"
      ]
     },
     "execution_count": 178,
     "metadata": {},
     "output_type": "execute_result"
    }
   ],
   "source": [
    "newTokens#, maxKey"
   ]
  },
  {
   "cell_type": "markdown",
   "metadata": {},
   "source": [
    "어간이라고 부를 수 있는 패턴들"
   ]
  },
  {
   "cell_type": "code",
   "execution_count": 202,
   "metadata": {},
   "outputs": [
    {
     "data": {
      "text/plain": [
       "{'er</w>', 'low', 'new'}"
      ]
     },
     "execution_count": 202,
     "metadata": {},
     "output_type": "execute_result"
    }
   ],
   "source": [
    "pattern = r\"[A-Za-z\\/\\<\\>]{2,}\"\n",
    "result = list()\n",
    "for _ in tokens:\n",
    "    result.extend([_ for _ in re.findall(pattern, _) if _ != \"</w>\"])\n",
    "set(result)"
   ]
  },
  {
   "cell_type": "code",
   "execution_count": null,
   "metadata": {},
   "outputs": [],
   "source": []
  }
 ],
 "metadata": {
  "kernelspec": {
   "display_name": "Python 3",
   "language": "python",
   "name": "python3"
  },
  "language_info": {
   "codemirror_mode": {
    "name": "ipython",
    "version": 3
   },
   "file_extension": ".py",
   "mimetype": "text/x-python",
   "name": "python",
   "nbconvert_exporter": "python",
   "pygments_lexer": "ipython3",
   "version": "3.7.3"
  }
 },
 "nbformat": 4,
 "nbformat_minor": 2
}
