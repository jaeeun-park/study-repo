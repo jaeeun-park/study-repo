{
  "nbformat": 4,
  "nbformat_minor": 0,
  "metadata": {
    "colab": {
      "name": "CNN_공부.ipynb",
      "version": "0.3.2",
      "provenance": [],
      "collapsed_sections": []
    },
    "kernelspec": {
      "name": "python3",
      "display_name": "Python 3"
    },
    "accelerator": "GPU"
  },
  "cells": [
    {
      "cell_type": "markdown",
      "metadata": {
        "id": "0SSmfhLTFG5O",
        "colab_type": "text"
      },
      "source": [
        "####  pyTorch를 비롯해  필요한 라이브러리를 읽어온다.\n"
      ]
    },
    {
      "cell_type": "code",
      "metadata": {
        "id": "4UHNOTSbDdQg",
        "colab_type": "code",
        "colab": {}
      },
      "source": [
        "import torch, torchvision\n",
        "import torch.nn as nn\n",
        "import torch.nn.functional as F\n",
        "import torchvision.datasets as vision_dsets\n",
        "import torchvision.transforms as transforms\n",
        "from torch import optim\n",
        "from torch.utils import data\n",
        "\n",
        "import numpy as np\n",
        "import matplotlib.pyplot as plt"
      ],
      "execution_count": 0,
      "outputs": []
    },
    {
      "cell_type": "markdown",
      "metadata": {
        "id": "vPDsxxUWE7S0",
        "colab_type": "text"
      },
      "source": [
        "### Hyper-parameter 세팅 및 기타 변수 지정\n",
        "1. gpu에서 사용하기 위해 cuda 설정하여 device에 저장\n",
        "2. parameter 설정하기"
      ]
    },
    {
      "cell_type": "markdown",
      "metadata": {
        "id": "y4gqqBfgF3wm",
        "colab_type": "text"
      },
      "source": [
        "gpu(cuda)가 사용 가능한지 확인하는 메서드"
      ]
    },
    {
      "cell_type": "code",
      "metadata": {
        "id": "UVj1DkoHFXGV",
        "colab_type": "code",
        "outputId": "4c6fecdc-1091-4e41-850a-dd6a6d8ccfb2",
        "colab": {
          "base_uri": "https://localhost:8080/",
          "height": 36
        }
      },
      "source": [
        "torch.cuda.is_available()"
      ],
      "execution_count": 0,
      "outputs": [
        {
          "output_type": "execute_result",
          "data": {
            "text/plain": [
              "True"
            ]
          },
          "metadata": {
            "tags": []
          },
          "execution_count": 5
        }
      ]
    },
    {
      "cell_type": "markdown",
      "metadata": {
        "id": "BkkpjVy1GK20",
        "colab_type": "text"
      },
      "source": [
        "사용할 device를 device 변수에 저장해놓기"
      ]
    },
    {
      "cell_type": "code",
      "metadata": {
        "id": "yUMxUSDvF2Cg",
        "colab_type": "code",
        "colab": {}
      },
      "source": [
        "device = 'cuda' if torch.cuda.is_available() else 'cpu'"
      ],
      "execution_count": 0,
      "outputs": []
    },
    {
      "cell_type": "markdown",
      "metadata": {
        "id": "fUO0LNUTGk6E",
        "colab_type": "text"
      },
      "source": [
        "lr  = learning rate : back propagation 할 때 cost function 에서 최적점 찾아갈 때 사용 경험상 0.001정도가 적당하다.\n",
        "- 너무 크면 발산한다.\n",
        "- 작으면 너무 오래 걸리는 문제가 발생한다.\n",
        "\n",
        "batch_size : 벡터 하나씩 넣으면 너무 오래 걸리므로 batch_size를 정해서 여러개 벡터를 한 번에 넣어준다.\n",
        "\n",
        "best_acc = best test accuracy : 가장 좋은 정확도\n",
        "\n",
        "start_epoch = 0 : 시작 epoch 맨 처음은 0 check point있다면 check point부터"
      ]
    },
    {
      "cell_type": "code",
      "metadata": {
        "id": "JdYE2tBAGPZZ",
        "colab_type": "code",
        "colab": {}
      },
      "source": [
        "lr = 0.001 # learning rate\n",
        "batch_size = 128 # batch_size : 벡터 하나씩 넣으면 너무\n",
        "best_acc = 0\n",
        "start_epoch = 0"
      ],
      "execution_count": 0,
      "outputs": []
    },
    {
      "cell_type": "markdown",
      "metadata": {
        "id": "MG_L4tDQHXve",
        "colab_type": "text"
      },
      "source": [
        "### 다양한 함수 연습"
      ]
    },
    {
      "cell_type": "code",
      "metadata": {
        "id": "pYxi5ZbMHWlS",
        "colab_type": "code",
        "outputId": "b2f65ed2-5579-4058-90f4-a0db60d22333",
        "colab": {
          "base_uri": "https://localhost:8080/",
          "height": 36
        }
      },
      "source": [
        "# torch.view 연습\n",
        "\n",
        "sample = torch.randn(2000, 3, 64, 64) # batch, chanel, height, width\n",
        "\n",
        "B, C, H, W = sample.size() # torch의 size()는 torch의 모양을 돌려준다.\n",
        "\n",
        "sample1 = sample.view(B,-1) # (2000, 3*64*64) flat한 vector로 만들어주기\n",
        "\n",
        "print(sample1.size())"
      ],
      "execution_count": 0,
      "outputs": [
        {
          "output_type": "stream",
          "text": [
            "torch.Size([2000, 12288])\n"
          ],
          "name": "stdout"
        }
      ]
    },
    {
      "cell_type": "markdown",
      "metadata": {
        "id": "QwoOGiWnMfiN",
        "colab_type": "text"
      },
      "source": [
        "위 sample1을 (2000\\*3, 64\\*64) 로 바꿔보자"
      ]
    },
    {
      "cell_type": "code",
      "metadata": {
        "id": "9a6stc99MRDY",
        "colab_type": "code",
        "outputId": "840e1eae-b6ef-447d-8fdc-0073baefd6af",
        "colab": {
          "base_uri": "https://localhost:8080/",
          "height": 36
        }
      },
      "source": [
        "sample2 = sample1.view(B*C, -1)\n",
        "print(sample2.size())"
      ],
      "execution_count": 0,
      "outputs": [
        {
          "output_type": "stream",
          "text": [
            "torch.Size([6000, 4096])\n"
          ],
          "name": "stdout"
        }
      ]
    },
    {
      "cell_type": "markdown",
      "metadata": {
        "id": "zEGZFzlCMyLC",
        "colab_type": "text"
      },
      "source": [
        "torch.view 연습 예제\n",
        "- FloatTensor(a,b,c) : tensor는 기본적으로 3차원을 말한다. FloatTensor는 dtype이 float인 cpu tensor"
      ]
    },
    {
      "cell_type": "code",
      "metadata": {
        "id": "Pqg7opPLMwNv",
        "colab_type": "code",
        "outputId": "e0996bae-5ea3-41b2-938e-3f9824c2870a",
        "colab": {
          "base_uri": "https://localhost:8080/",
          "height": 55
        }
      },
      "source": [
        "a = torch.FloatTensor(5, 20, 100)\n",
        "a1 = a.view(2, 10, -1)\n",
        "print(a1.size())\n",
        "a2 = a.view(-1, 10, 200)\n",
        "print(a2.size())"
      ],
      "execution_count": 0,
      "outputs": [
        {
          "output_type": "stream",
          "text": [
            "torch.Size([2, 10, 500])\n",
            "torch.Size([5, 10, 200])\n"
          ],
          "name": "stdout"
        }
      ]
    },
    {
      "cell_type": "markdown",
      "metadata": {
        "id": "AzI3zXZQN9bU",
        "colab_type": "text"
      },
      "source": [
        "dimension 간의 사이즈 이동이 가능하다."
      ]
    },
    {
      "cell_type": "code",
      "metadata": {
        "id": "YWnBzrHcM3Is",
        "colab_type": "code",
        "colab": {}
      },
      "source": [
        "sample = torch.randn(2000, 3, 32, 64)"
      ],
      "execution_count": 0,
      "outputs": []
    },
    {
      "cell_type": "markdown",
      "metadata": {
        "id": "TZ1rLoIyOGSz",
        "colab_type": "text"
      },
      "source": [
        "0, 1, 2, 3 -> 0, 1, 3, 2 -> 2와 3의 위치를 바꾸고 싶을 때 다음 permute 메서드를 사용하여 바꿀 수 있다."
      ]
    },
    {
      "cell_type": "code",
      "metadata": {
        "id": "qESpuKn_OFxO",
        "colab_type": "code",
        "colab": {}
      },
      "source": [
        "sample1 = sample.permute(0,1,3,2)"
      ],
      "execution_count": 0,
      "outputs": []
    },
    {
      "cell_type": "code",
      "metadata": {
        "id": "kxHJgE8ROWBI",
        "colab_type": "code",
        "outputId": "36904e3f-6870-40fe-b37d-5adeeed535b9",
        "colab": {
          "base_uri": "https://localhost:8080/",
          "height": 55
        }
      },
      "source": [
        "print(sample.size())\n",
        "print(sample1.size())"
      ],
      "execution_count": 0,
      "outputs": [
        {
          "output_type": "stream",
          "text": [
            "torch.Size([2000, 3, 32, 64])\n",
            "torch.Size([2000, 3, 64, 32])\n"
          ],
          "name": "stdout"
        }
      ]
    },
    {
      "cell_type": "markdown",
      "metadata": {
        "id": "tuk3ow2FOhT9",
        "colab_type": "text"
      },
      "source": [
        "sample1의 dimension을 원래대로 돌리고 싶다면?"
      ]
    },
    {
      "cell_type": "code",
      "metadata": {
        "id": "LK4hVVgfOe6e",
        "colab_type": "code",
        "colab": {}
      },
      "source": [
        "sample2 = sample1.permute(0,1,3,2)"
      ],
      "execution_count": 0,
      "outputs": []
    },
    {
      "cell_type": "code",
      "metadata": {
        "id": "RT9sprGzOpW3",
        "colab_type": "code",
        "outputId": "7fb578d4-2403-4f71-d0ac-c9de0f030d3b",
        "colab": {
          "base_uri": "https://localhost:8080/",
          "height": 36
        }
      },
      "source": [
        "# torch.equal은 torch의 size가 같고 element가 같으면 True를 반환\n",
        "# 그 이외의 것들은 모두 False\n",
        "print(torch.equal(sample, sample2))"
      ],
      "execution_count": 0,
      "outputs": [
        {
          "output_type": "stream",
          "text": [
            "True\n"
          ],
          "name": "stdout"
        }
      ]
    },
    {
      "cell_type": "markdown",
      "metadata": {
        "id": "6zaM1pJAOsi5",
        "colab_type": "text"
      },
      "source": [
        "### Convolution layer"
      ]
    },
    {
      "cell_type": "markdown",
      "metadata": {
        "id": "pk1CSegFPVK8",
        "colab_type": "text"
      },
      "source": [
        "torch.nn.conv 연습하기\n",
        "- nn.Conv2d(in, out, filter_size, stride, padding)\n",
        "- output size가 (16, 128, 32, 32)가 되도록 해봅시다"
      ]
    },
    {
      "cell_type": "code",
      "metadata": {
        "id": "ZVIAJSZiPOGr",
        "colab_type": "code",
        "colab": {}
      },
      "source": [
        "input1 = torch.zeros(16, 3, 64, 64) # input으로 들어갈 torch.Tensor\n",
        "conv1 = nn.Conv2d(3, 512, 3, 1, 1) # 16,3,64,64 -> 16, 512, 64, 64 \n",
        "conv2 = nn.Conv2d(512, 128, 4, 2, 1)# 16, 512, 64, 64 -> 16, 128, 32, 32"
      ],
      "execution_count": 0,
      "outputs": []
    },
    {
      "cell_type": "code",
      "metadata": {
        "id": "cUks4y-1Px0i",
        "colab_type": "code",
        "outputId": "31c62310-125f-4326-ac5f-b5f269570a5f",
        "colab": {
          "base_uri": "https://localhost:8080/",
          "height": 36
        }
      },
      "source": [
        "out = conv1(input1)\n",
        "print(out.size())"
      ],
      "execution_count": 0,
      "outputs": [
        {
          "output_type": "stream",
          "text": [
            "torch.Size([16, 512, 64, 64])\n"
          ],
          "name": "stdout"
        }
      ]
    },
    {
      "cell_type": "code",
      "metadata": {
        "id": "WgaD-iRcTjA7",
        "colab_type": "code",
        "outputId": "315edd3f-6b3e-4a31-e5e2-6a24958a5852",
        "colab": {
          "base_uri": "https://localhost:8080/",
          "height": 36
        }
      },
      "source": [
        "output = conv2(out)\n",
        "print(output.size())"
      ],
      "execution_count": 0,
      "outputs": [
        {
          "output_type": "stream",
          "text": [
            "torch.Size([16, 128, 32, 32])\n"
          ],
          "name": "stdout"
        }
      ]
    },
    {
      "cell_type": "markdown",
      "metadata": {
        "id": "cnFUBvOZUYQp",
        "colab_type": "text"
      },
      "source": [
        "torch.nn.conv 연습2\n",
        "- nn.Conv2d(in, out, filter_size, stride, padding)\n",
        "- output size가 (16, 512, 16, 16)이 되도록 해봅시다"
      ]
    },
    {
      "cell_type": "code",
      "metadata": {
        "id": "cqMZt_PnToka",
        "colab_type": "code",
        "outputId": "0ad087a6-c59e-45bc-f019-06769b72445c",
        "colab": {
          "base_uri": "https://localhost:8080/",
          "height": 55
        }
      },
      "source": [
        "input2 = torch.zeros(16,3,64,64)\n",
        "conv1 = nn.Conv2d(3, 64, 3, 1, 1) # 16,3,64,64 -> 16,64,64,64\n",
        "conv2 = nn.Conv2d(64, 512, 3, 4, 1) # 16,64,32,32 -> 16,512,16,16\n",
        "\n",
        "out = conv1(input2)\n",
        "output = conv2(out)\n",
        "\n",
        "print(out.size())\n",
        "print(output.size())"
      ],
      "execution_count": 0,
      "outputs": [
        {
          "output_type": "stream",
          "text": [
            "torch.Size([16, 64, 64, 64])\n",
            "torch.Size([16, 512, 16, 16])\n"
          ],
          "name": "stdout"
        }
      ]
    },
    {
      "cell_type": "markdown",
      "metadata": {
        "id": "QjDPLehiVgRe",
        "colab_type": "text"
      },
      "source": [
        "torch.nn.conv 연습3\n",
        "- nn.Conv2d(in, out, filter_size, stride, padding)\n",
        "- output size가 (16, 512, 64, 64)이 되도록 해봅시다"
      ]
    },
    {
      "cell_type": "code",
      "metadata": {
        "id": "OOZcjEbWVJHT",
        "colab_type": "code",
        "outputId": "4601f35c-67a8-47cf-bad9-379ba6183a4f",
        "colab": {
          "base_uri": "https://localhost:8080/",
          "height": 55
        }
      },
      "source": [
        "input3 = torch.zeros(16, 3, 64, 64)\n",
        "conv1 = nn.Conv2d(3, 64, 3, 1, 1)\n",
        "conv2 = nn.Conv2d(64, 512, 3, 1, 1)\n",
        "\n",
        "out = conv1(input3)\n",
        "output = conv2(out)\n",
        "\n",
        "print(out.size())\n",
        "print(output.size())"
      ],
      "execution_count": 0,
      "outputs": [
        {
          "output_type": "stream",
          "text": [
            "torch.Size([16, 64, 64, 64])\n",
            "torch.Size([16, 512, 64, 64])\n"
          ],
          "name": "stdout"
        }
      ]
    },
    {
      "cell_type": "markdown",
      "metadata": {
        "id": "9dIAljckWWq0",
        "colab_type": "text"
      },
      "source": [
        "### 데이터 로딩\n",
        "#### 연습 데이터를 불러와서 전처리를 거쳐 학습 시켜봅시다.\n",
        "\n",
        "> Data Augmentation은 CNN의 성능을 향상시키기 위해 사용하는 기법이다. 이미지를 여러 방법을 통해 변형 시켜서 입력 이미지로 사용하는 방식이다. 이와 같은 방법을 사용하는 이유는 모든 픽셀을 1칸씩 이동 시켰을 때 사람은 똑같이 인식하지만 컴퓨터 입장에서는 원본 이미지와 다른 것으로 인식하게 된다. 이를 해결하기 위해 data augmentation을 사용한다. 다시말해 이미지 레이블을 변경하지 않고 픽셀을 변화시키는 방법이다."
      ]
    },
    {
      "cell_type": "markdown",
      "metadata": {
        "id": "IAc1AcwVjFH1",
        "colab_type": "text"
      },
      "source": [
        "트레인셋 전처리 transform"
      ]
    },
    {
      "cell_type": "code",
      "metadata": {
        "id": "Dh7KWtFcWP2J",
        "colab_type": "code",
        "outputId": "5628ab9e-5f71-4f17-92cf-2fb4419f69bd",
        "colab": {
          "base_uri": "https://localhost:8080/",
          "height": 36
        }
      },
      "source": [
        "print('==> Preparing data...')\n",
        "\n",
        "transform_train = transforms.Compose([ # 여러개의 transforms를 조립 list형으로 transform 전달 \n",
        "    transforms.RandomCrop(32, padding=4), # 4만큼의 padding을줘서 32x32로 random cropping(랜덤으로 자르기?)\n",
        "    transforms.RandomHorizontalFlip(), # 0.5의 확률로 이미지를 반전하여 넣어준다.\n",
        "    transforms.ToTensor(),\n",
        "    # cifar10(0~1)의 r,g,b 채널 별 평균 및 분산으로 정규분포를 따르도록 만들어준 후 input으로 넣어줍니다.\n",
        "    transforms.Normalize((0.4914, 0.4822, 0.4465), (0.2023, 0.1994, 0.2010)),\n",
        "])"
      ],
      "execution_count": 0,
      "outputs": [
        {
          "output_type": "stream",
          "text": [
            "==> Preparing data...\n"
          ],
          "name": "stdout"
        }
      ]
    },
    {
      "cell_type": "markdown",
      "metadata": {
        "id": "6LtW6_rVcGEa",
        "colab_type": "text"
      },
      "source": [
        "랜덤 cropping을 하고 이미지 좌우 반전을 해주는 이유는??? ex) 고양이\n",
        "![대체 텍스트](https://t1.daumcdn.net/cfile/tistory/99F718445B62CED001)\n",
        "- 좌우 반전을 시키는 이유는 왼쪽을 바라보는 고양이만 넣어주게되면  오른쪽을 바라보는 고양이를 못 맞추게 된다. 좌우 반전된 사진을 섞어서 인풋으로 넣어주면 고양이가 어느쪽을 바라보더라도 맞추게 된다.\n",
        "\n",
        "![대체 텍스트](https://t1.daumcdn.net/cfile/tistory/9959F23A5B62CED111)\n",
        "- 이미지를 잘라주는 이유는 고양이가 상자 속에 들어가서 꼬리만 있는 사진을 사람은 꼬리를 보고 고양이라고 판단할 수 있으나 딥러닝은 상자까지 인식해서 고양이의 특징을 제대로 파악 못한다. 사람이 인식하는 방법을 모방하기 위해 부분부분 잘라서 넣어주면 각 부분만 보고도 고양이라고 반단할 수 있다."
      ]
    },
    {
      "cell_type": "markdown",
      "metadata": {
        "id": "FCFVX28mfTKY",
        "colab_type": "text"
      },
      "source": [
        "테스트 데이터 전처리 transform"
      ]
    },
    {
      "cell_type": "code",
      "metadata": {
        "id": "2zCfzKEwcFSi",
        "colab_type": "code",
        "colab": {}
      },
      "source": [
        "transform_test = transforms.Compose([\n",
        "    transforms.ToTensor(),\n",
        "    transforms.Normalize((0.4914, 0.4822, 0.4465), (0.2023, 0.1994, 0.2010)),\n",
        "])"
      ],
      "execution_count": 0,
      "outputs": []
    },
    {
      "cell_type": "markdown",
      "metadata": {
        "id": "ni69ohNtfXs0",
        "colab_type": "text"
      },
      "source": [
        "#### 데이터 로딩"
      ]
    },
    {
      "cell_type": "code",
      "metadata": {
        "id": "-ZXQjVjZfWtD",
        "colab_type": "code",
        "outputId": "d46d5f17-4715-4e7d-eddc-212252d12f19",
        "colab": {
          "base_uri": "https://localhost:8080/",
          "height": 55
        }
      },
      "source": [
        "# torchvision.datasets.CIFAR10: CIFAR10 데이터셋 불러오기\n",
        "# root : 데이터 셋이 있는 경로, train=True : trainset으로 불러오기 Fasle면 test set\n",
        "# download: True면 dataset을 인터넷에서 받아와서 경로에 넣어준다.\n",
        "# transform: transform/function을 넣어주면 이미지를 이에 따라 변환시켜준다.\n",
        "trainset = torchvision.datasets.CIFAR10(root='./data', train=True, download=True, transform=transform_train)\n",
        "\n",
        "# python iterable로 만들어주는애 = torch.utils.data.DataLoader\n",
        "# shuffle=True : 매 epoch마다 reshuffle한다.\n",
        "# num_workers는 데이터 로딩에 사용되는 subprocess 개수를 정해주는 애 \n",
        "trainloader = torch.utils.data.DataLoader(trainset, batch_size=batch_size, shuffle=True, num_workers=1) \n",
        "print(trainloader.dataset.data.shape)"
      ],
      "execution_count": 0,
      "outputs": [
        {
          "output_type": "stream",
          "text": [
            "Files already downloaded and verified\n",
            "(50000, 32, 32, 3)\n"
          ],
          "name": "stdout"
        }
      ]
    },
    {
      "cell_type": "code",
      "metadata": {
        "id": "y878Y0blic53",
        "colab_type": "code",
        "outputId": "59e47155-22dd-48f1-c02e-99e4b03e109f",
        "colab": {
          "base_uri": "https://localhost:8080/",
          "height": 36
        }
      },
      "source": [
        "testset = torchvision.datasets.CIFAR10(root='./data', train=False, download=True, transform=transform_test)\n",
        "testloader = torch.utils.data.DataLoader(testset, batch_size=100, shuffle=False,num_workers=1 )\n",
        "\n",
        "classes = ('plane', 'car', 'bird', 'cat', 'deer', 'dog', 'frog', 'horse', 'ship', 'truck')"
      ],
      "execution_count": 0,
      "outputs": [
        {
          "output_type": "stream",
          "text": [
            "Files already downloaded and verified\n"
          ],
          "name": "stdout"
        }
      ]
    },
    {
      "cell_type": "markdown",
      "metadata": {
        "id": "sZR6TZ7vjNxw",
        "colab_type": "text"
      },
      "source": [
        "#### 이미지 학습시키기"
      ]
    },
    {
      "cell_type": "code",
      "metadata": {
        "id": "LPBP2i8Ti7zO",
        "colab_type": "code",
        "outputId": "1b5e8dd8-4d69-4766-f934-2679dbb698b3",
        "colab": {
          "base_uri": "https://localhost:8080/",
          "height": 457
        }
      },
      "source": [
        "def showImages(image, row):\n",
        "    for _ in range(row):\n",
        "        idx = np.random.choice(batch_size, 6) # 0 ~ 127의 정수 중 6개를 임의로 선택\n",
        "        images = image.numpy()[idx].transpose(0,2,3,1).clip(0,1) # 선택된 indexㅇ 해당하는 이미지를 가져온다.\n",
        "        plt.figure(figsize=(15,90)) # 세로 길이 15, 가로길이 15 * 6 의 화면 생성\n",
        "        \n",
        "        # 1줄에 6개 보여주니까 6개 출력\n",
        "        for i in range(161, 167):\n",
        "            plt.subplot(i)\n",
        "            plt.imshow(images[i - 161])\n",
        "            plt.xticks([])\n",
        "            plt.yticks([])\n",
        "            \n",
        "        plt.show() # 1줄 보여주기\n",
        "        \n",
        "for i, (image, labels) in enumerate(trainloader):\n",
        "    showImages(image.squeeze(), 3)\n",
        "    break"
      ],
      "execution_count": 0,
      "outputs": [
        {
          "output_type": "display_data",
          "data": {
            "image/png": "[encoded data removed]",
            "text/plain": [
              "<Figure size 1080x6480 with 6 Axes>"
            ]
          },
          "metadata": {
            "tags": []
          }
        },
        {
          "output_type": "display_data",
          "data": {
            "image/png": "[encoded data removed]",
            "text/plain": [
              "<Figure size 1080x6480 with 6 Axes>"
            ]
          },
          "metadata": {
            "tags": []
          }
        },
        {
          "output_type": "display_data",
          "data": {
            "image/png": "[encoded data removed]",
            "text/plain": [
              "<Figure size 1080x6480 with 6 Axes>"
            ]
          },
          "metadata": {
            "tags": []
          }
        }
      ]
    },
    {
      "cell_type": "code",
      "metadata": {
        "id": "xkL2bk7Qlc41",
        "colab_type": "code",
        "outputId": "c8882656-82b5-4304-e1c1-8a7ac52ad842",
        "colab": {
          "base_uri": "https://localhost:8080/",
          "height": 55
        }
      },
      "source": [
        "# 미니 배치가 몇개가 있는지\n",
        "print('[info] # of train batch :', len(trainloader)) \n",
        "print('[info] # of test batch: ', len(testloader))"
      ],
      "execution_count": 0,
      "outputs": [
        {
          "output_type": "stream",
          "text": [
            "[info] # of train batch : 391\n",
            "[info] # of test batch:  100\n"
          ],
          "name": "stdout"
        }
      ]
    },
    {
      "cell_type": "markdown",
      "metadata": {
        "id": "xSgbotUdpnPi",
        "colab_type": "text"
      },
      "source": [
        "### 학습 신경망 구현\n",
        "\n",
        "net, optimizer, trainloader, epochs\n",
        "\n",
        "epochs : 학습 반복 횟수\n",
        "\n",
        "optimizer : 최적화 방법\n",
        "\n",
        "trainloader : 학습 데이터\n",
        "\n",
        "net: 뉴럴 넷"
      ]
    },
    {
      "cell_type": "code",
      "metadata": {
        "id": "3K2tu6JRou9C",
        "colab_type": "code",
        "colab": {}
      },
      "source": [
        "def train_network(net, optimizer, trainloader, epochs=5):\n",
        "    for epoch in range(epochs):\n",
        "        \n",
        "        running_loss = 0.0 # running_loss : target과 label의 score들의 합\n",
        "        for i, data in enumerate(trainloader):\n",
        "            inputs, labels = data\n",
        "            \n",
        "            # gpu로 올려서 학습 진행한다.\n",
        "            inputs = inputs.to(device)\n",
        "            labels = labels.to(device)\n",
        "            \n",
        "            # 현재의 backprop을 계산하기 위해서 저장했던 activation buffer를 비워준다.\n",
        "            optimizer.zero_grad()\n",
        "            \n",
        "            # input을 network에 넣어서 결과를 얻어낸다.\n",
        "            outputs = net(inputs)\n",
        "            \n",
        "            # loss function에 주어진 target과 labels를 넣으면 score를\n",
        "            # 계산하여 반환\n",
        "            # 여기서 criterion은 CrossEntropyLoss가 사용되었음.\n",
        "            # 후에 정의함 왜 후에 정의하는지는 모르겠음.\n",
        "            # criterion(input, target)\n",
        "            loss = criterion(outputs, labels) \n",
        "            \n",
        "            # 주어진 loss 값을 바탕으로 backpropagation이 진행된다.\n",
        "            # sum of gradients of given tensors w.r.t graph leaves\n",
        "            loss.backward()\n",
        "            \n",
        "            # 계산된 Backprop을 바탕으로 gradient descending을 수행한다.\n",
        "            # 파라미터를 업데이트 시켜준다.\n",
        "            optimizer.step() \n",
        "            \n",
        "            running_loss += loss.item()\n",
        "            # print every 500 mini-batches\n",
        "            if (i+1) % 100 == 0:\n",
        "                print('[%d, %5d] loss: %.3f' %\n",
        "                     (epoch+1, i+1, running_loss / 100))\n",
        "                running_loss = 0.0\n",
        "    \n",
        "    print('Finished Training')\n",
        "            "
      ],
      "execution_count": 0,
      "outputs": []
    },
    {
      "cell_type": "markdown",
      "metadata": {
        "id": "l4gY7xQ3zVsT",
        "colab_type": "text"
      },
      "source": [
        "테스트를 실행하는 함수 만들기"
      ]
    },
    {
      "cell_type": "code",
      "metadata": {
        "id": "rk-YaKe9wHfZ",
        "colab_type": "code",
        "colab": {}
      },
      "source": [
        "def test(model, test_loader):\n",
        "    # 학습을 시키지 않는 테스트 모드로 사용하겠다고 선언한 것\n",
        "    # Dropout, BatchNorm등 train모드가 아니고 eval모드로 작동. \n",
        "    model.eval()\n",
        "    test_loss = 0 # 테스트의 loss값\n",
        "    correct = 0 # 정확도\n",
        "    \n",
        "    for data, target in test_loader:\n",
        "        # gpu로 이동해서 작업한다.\n",
        "        data = data.to(device) \n",
        "        target = target.to(device)\n",
        "        \n",
        "        # 학습된 모델에 테스트 데이터를 넣는다.\n",
        "        output = model(data)\n",
        "        \n",
        "        #결과의 예측 결과중 가장 높은 확률인것을 받는다.\n",
        "        # output은 10개 클래드들에 대해 energies를 반환하기 때문에\n",
        "        # 그 중에서 가장 높은 값이 제일 정확하므로 max를 사용한다.\n",
        "        pred = output.max(1, keepdim=True)[1]\n",
        "        \n",
        "        # target과 같은 pred의 예측결과 값들을 합한다.\n",
        "        correct += pred.eq(target.view_as(pred)).sum().item()\n",
        "        \n",
        "    # ?????\n",
        "    test_loss /= len(test_loader.dataset)\n",
        "    print(\"test_loss:\", test_loss)\n",
        "    print(\"\\nTest set: Accuracy: {}/{} ({:.0f}%)\\n\".format(\n",
        "        correct, len(test_loader.dataset),\n",
        "    100. * correct / len(test_loader.dataset)))"
      ],
      "execution_count": 0,
      "outputs": []
    },
    {
      "cell_type": "markdown",
      "metadata": {
        "id": "X2b1XS0PzZFi",
        "colab_type": "text"
      },
      "source": [
        "모델 파라미터 개수를 리턴하는 함수"
      ]
    },
    {
      "cell_type": "code",
      "metadata": {
        "id": "n5itH_bBzAWM",
        "colab_type": "code",
        "colab": {}
      },
      "source": [
        "def count_parameters(model):\n",
        "    print('model.parameters() = ', model.parameters())\n",
        "    return sum(p.numel() for p in model.parameters() if p.requires_grad)"
      ],
      "execution_count": 0,
      "outputs": []
    },
    {
      "cell_type": "markdown",
      "metadata": {
        "id": "arsYgLQ8036h",
        "colab_type": "text"
      },
      "source": [
        "### MNIST에 사용한 MLP를 적용\n",
        "\n",
        "nuralnetwork는 꼭 torch.nn.Module을 상속시켜준다.\n",
        "\n",
        "\\_\\_init__, forward를 오버라이딩 해준다."
      ]
    },
    {
      "cell_type": "code",
      "metadata": {
        "id": "3sq4oivCzmd9",
        "colab_type": "code",
        "colab": {}
      },
      "source": [
        "class MNIST_Net(nn.Module): \n",
        "    def __init__(self):\n",
        "        # 파이썬 문법상 해줘야한다.\n",
        "        super(MNIST_Net, self).__init__()\n",
        "        \n",
        "        # layer들은 순서가 중요하므로 sequential 인 list에다가 순서대로 저장한다.\n",
        "        layer_list = [] \n",
        "        # 들어오는 학습 데이터가 transform에 의하여 32*32사이즈로 들어오므로 크기를 맞춰준다.\n",
        "        layer_list.append(nn.Linear(3*32*32, 256))\n",
        "        \n",
        "        # spatial을 다 없애서 1d를 사용한다.\n",
        "        # BatchNorm을 해주는 이유\n",
        "        # -> regularization(정규화)을 해줘서 학습의 효율을 높여준다.\n",
        "        #    학습 속도가 개선되고, 가중치 초기값 선택의 의존성이 적어진다.\n",
        "        #    overfitting의 이험을 줄일 수 있다\n",
        "        #    Gradient Vanishing 문제(기울기값이 0이되는 문제)를 해결할 수 있다.\n",
        "        layer_list.append(nn.BatchNorm1d(256))\n",
        "        layer_list.append(nn.ReLU())\n",
        "        \n",
        "        #Layer2\n",
        "        layer_list.append(nn.Linear(256, 64))\n",
        "        layer_list.append(nn.BatchNorm1d(64))\n",
        "        layer_list.append(nn.ReLU())\n",
        "        \n",
        "        #Layer3\n",
        "        layer_list.append(nn.Linear(64, 10))\n",
        "        \n",
        "        # nn.Sequential에 layer_list를 넘겨준다.\n",
        "        self.net = nn.Sequential(*layer_list)\n",
        "        \n",
        "       \n",
        "    def forward(self, x):\n",
        "        # 기존의 128(B), 3(C), 32(H), 32(W) 를 일자로 쭉 늘려준다.\n",
        "        x = x.view(-1, 32*32*3) \n",
        "        x = self.net(x) # net에 넣어주면 계산\n",
        "        return x"
      ],
      "execution_count": 0,
      "outputs": []
    },
    {
      "cell_type": "code",
      "metadata": {
        "id": "rFCoBSPyEpxo",
        "colab_type": "code",
        "colab": {}
      },
      "source": [
        "# 뉴럴 네트워크를 인스턴스화 해서 빠른 학습을 위해 gpu에 올려준다.\n",
        "mnist_net = MNIST_Net().to(device)\n",
        "# loss function을 정의해준다. cross entrophy loss 사용\n",
        "# continuous한 값에는 MSE, L1, L2 loss function을 사용하는 것이 좋다.\n",
        "criterion = nn.CrossEntropyLoss()\n",
        "# optimizer 정의\n",
        "# training할 파라미터와 learning rate를 인자로 준다.\n",
        "# Adam(A Method for Stochastic Optimization) stochastic -> 모집단에서 임의로 추출한 표본에 따라 모집단의 상태를 추측\n",
        "optimizer = optim.Adam(mnist_net.parameters(), lr=lr)"
      ],
      "execution_count": 0,
      "outputs": []
    },
    {
      "cell_type": "code",
      "metadata": {
        "id": "3uJsRCIzFOCm",
        "colab_type": "code",
        "outputId": "cb0ce554-e533-4108-85bc-9169ad2c52f0",
        "colab": {
          "base_uri": "https://localhost:8080/",
          "height": 316
        }
      },
      "source": [
        "train_network(mnist_net, optimizer, trainloader)"
      ],
      "execution_count": 0,
      "outputs": [
        {
          "output_type": "stream",
          "text": [
            "[1,   100] loss: 2.020\n",
            "[1,   200] loss: 1.828\n",
            "[1,   300] loss: 1.739\n",
            "[2,   100] loss: 1.656\n",
            "[2,   200] loss: 1.629\n",
            "[2,   300] loss: 1.602\n",
            "[3,   100] loss: 1.556\n",
            "[3,   200] loss: 1.562\n",
            "[3,   300] loss: 1.545\n",
            "[4,   100] loss: 1.518\n",
            "[4,   200] loss: 1.509\n",
            "[4,   300] loss: 1.501\n",
            "[5,   100] loss: 1.486\n",
            "[5,   200] loss: 1.485\n",
            "[5,   300] loss: 1.468\n",
            "Finished Training\n"
          ],
          "name": "stdout"
        }
      ]
    },
    {
      "cell_type": "code",
      "metadata": {
        "id": "PNxNemWSGe8w",
        "colab_type": "code",
        "outputId": "d8ac805c-0e77-40e4-c1e7-f5ecfbd7acae",
        "colab": {
          "base_uri": "https://localhost:8080/",
          "height": 92
        }
      },
      "source": [
        "test(mnist_net, testloader)"
      ],
      "execution_count": 0,
      "outputs": [
        {
          "output_type": "stream",
          "text": [
            "test_loss: 0.0\n",
            "\n",
            "Test set: Accuracy: 5018/10000 (50%)\n",
            "\n"
          ],
          "name": "stdout"
        }
      ]
    },
    {
      "cell_type": "markdown",
      "metadata": {
        "id": "MsujKutxHTLr",
        "colab_type": "text"
      },
      "source": [
        "## 심플한 CNN 모델 만들기\n",
        "<구성>\n",
        "\n",
        "Layer 1 - input: 3 x 32 x 32, output: 64 x 32 x 32- ReLU + BatchNorm\n",
        "\n",
        "Layer 2 - input: 64 x 32 x 32, output: 128 x 16 x 16- ReLU + BatchNorm (Down Conv라고 부릅니다.)\n",
        "\n",
        "Layer 5 - Global Average Pooling (128 x 16 x 16 => 128 x 1 x 1)\n",
        "\n",
        "Layer 6 - input: 128 x 1 x 1, output 10 x 1 x 1 - ReLU + BatchNorm\n",
        "\n",
        "![대체 텍스트](https://cdn-images-1.medium.com/max/1600/1*D47ER7IArwPv69k3O_1nqQ.png)"
      ]
    },
    {
      "cell_type": "code",
      "metadata": {
        "id": "zSD9jqp1GxFE",
        "colab_type": "code",
        "colab": {}
      },
      "source": [
        "class DiyCNN(nn.Module):\n",
        "    def __init__(self):\n",
        "        super(DiyCNN, self).__init__()\n",
        "        \n",
        "        layers = []\n",
        "        \n",
        "        # Layer1\n",
        "        # (128, 3, 32, 32) -> (128, 64, 32, 32)\n",
        "        # 첫 conv는 보통 receptive field를 최대한 넓혀준 후 feature를 뽑아줍니다.\n",
        "        # F = 3 p = 1\n",
        "        # F = 5 p = 2\n",
        "        # F = 7 p = 3\n",
        "        layers += [nn.Conv2d(in_channels=3, out_channels=64, kernel_size=3, stride=2, padding=1)]\n",
        "        # 앞선 MLP 시간과 달리 spatial resolution(공간 해상도)이 살아있기 때문에, batchnorm 2d를 사용해 줍니다.\n",
        "        layers += [nn.BatchNorm2d(64)]\n",
        "        layers += [nn.ReLU()]\n",
        "        \n",
        "        # Layer2\n",
        "        # (128, 64, 32, 32) => (128, 128, 16, 16)\n",
        "        layers += [nn.Conv2d(64, 128, 3, 2, 1)]\n",
        "        layers += [nn.BatchNorm2d(128)]\n",
        "        layers += [nn.ReLU()]\n",
        "        \n",
        "        # Layer3\n",
        "        # (B, 128, 16, 16) => (B, 256, 8, 8)\n",
        "        layers += [nn.Conv2d(128, 256, 3, 2, 1)]\n",
        "        layers += [nn.BatchNorm2d(256)]\n",
        "        layers += [nn.ReLU()]\n",
        "        \n",
        "        # Layer4\n",
        "        # (B, 256, 8, 8) => (B, 512, 4, 4)\n",
        "        layers += [nn.Conv2d(256, 512, 3, 2, 1)]\n",
        "        layers += [nn.BatchNorm2d(512)]\n",
        "        layers += [nn.ReLU()]\n",
        "        \n",
        "        #Layer 5 \n",
        "        # Global Average Pooling (128 x 16 x 16 => 128 x 1 x 1)\n",
        "        layers += [nn.AdaptiveAvgPool2d(1)] # 1 -> (-1,1) -> (512, 1) \n",
        "\n",
        "        # Layer 6 \n",
        "        # input: 128 x 1 x 1, output 10 x 1 x 1 - ReLU + BatchNorm\n",
        "        layers += [nn.Conv2d(512, 10, 1, 1, 0)]\n",
        "        \n",
        "        \n",
        "        self.main = nn.Sequential(*layers)\n",
        "       \n",
        "    \n",
        "    def forward(self, x):\n",
        "        out = self.main(x)\n",
        "        return out.squeeze(3).squeeze(2)\n",
        "        \n",
        "        \n",
        "        "
      ],
      "execution_count": 0,
      "outputs": []
    },
    {
      "cell_type": "code",
      "metadata": {
        "id": "-jfRX_TfPwOz",
        "colab_type": "code",
        "outputId": "abdacc54-8658-4b8d-a4cd-c5ed5e2c5284",
        "colab": {
          "base_uri": "https://localhost:8080/",
          "height": 55
        }
      },
      "source": [
        "cifar_net = DiyCNN().to(device)\n",
        "criterion = nn.CrossEntropyLoss()\n",
        "optimizer = optim.Adam(cifar_net.parameters(), lr=lr)\n",
        "\n",
        "print('[info] number of model parameter - %d' %(count_parameters(cifar_net)))"
      ],
      "execution_count": 0,
      "outputs": [
        {
          "output_type": "stream",
          "text": [
            "model.parameters() =  <generator object Module.parameters at 0x7fe7dacc7ba0>\n",
            "[info] number of model parameter - 1558026\n"
          ],
          "name": "stdout"
        }
      ]
    },
    {
      "cell_type": "code",
      "metadata": {
        "id": "d1y6HmbKP06A",
        "colab_type": "code",
        "outputId": "b77c954b-50ba-4c9d-e5b4-8c6bca66cda3",
        "colab": {
          "base_uri": "https://localhost:8080/",
          "height": 316
        }
      },
      "source": [
        "train_network(cifar_net, optimizer, trainloader)"
      ],
      "execution_count": 0,
      "outputs": [
        {
          "output_type": "stream",
          "text": [
            "[1,   100] loss: 1.731\n",
            "[1,   200] loss: 1.476\n",
            "[1,   300] loss: 1.358\n",
            "[2,   100] loss: 1.191\n",
            "[2,   200] loss: 1.143\n",
            "[2,   300] loss: 1.095\n",
            "[3,   100] loss: 1.030\n",
            "[3,   200] loss: 1.003\n",
            "[3,   300] loss: 0.964\n",
            "[4,   100] loss: 0.916\n",
            "[4,   200] loss: 0.913\n",
            "[4,   300] loss: 0.896\n",
            "[5,   100] loss: 0.855\n",
            "[5,   200] loss: 0.824\n",
            "[5,   300] loss: 0.841\n",
            "Finished Training\n"
          ],
          "name": "stdout"
        }
      ]
    },
    {
      "cell_type": "code",
      "metadata": {
        "id": "S8RBHi5RQ1LT",
        "colab_type": "code",
        "outputId": "0406061f-bc76-488b-803e-0992d71df6da",
        "colab": {
          "base_uri": "https://localhost:8080/",
          "height": 92
        }
      },
      "source": [
        "test(cifar_net, testloader)"
      ],
      "execution_count": 0,
      "outputs": [
        {
          "output_type": "stream",
          "text": [
            "test_loss: 0.0\n",
            "\n",
            "Test set: Accuracy: 7167/10000 (72%)\n",
            "\n"
          ],
          "name": "stdout"
        }
      ]
    },
    {
      "cell_type": "markdown",
      "metadata": {
        "id": "LFSZTgs2UOjR",
        "colab_type": "text"
      },
      "source": [
        "### Average Pooling대신 Linear Layer를 사용하여 비교해보자.\n",
        "\n",
        "average pooling parameter개수 = 1,558,026\n",
        "\n",
        "linear layer parameter 개수 = 2,614,794\n",
        "\n",
        "\n",
        "성능은 비슷하다 \n",
        "\n",
        "Linear Layer가 paramter를 많이 차지하므로 더 무겁다.\n",
        "\n",
        "Aveage Pooling이 더 가벼워서 많이 사용한다.\n"
      ]
    },
    {
      "cell_type": "code",
      "metadata": {
        "id": "o22lVxXtRswB",
        "colab_type": "code",
        "colab": {}
      },
      "source": [
        "class DiyCNN(nn.Module):\n",
        "    def __init__(self):\n",
        "        super(DiyCNN, self).__init__()\n",
        "        \n",
        "        layers = []\n",
        "        \n",
        "        # Layer1\n",
        "        # (128, 3, 32, 32) -> (128, 64, 32, 32)\n",
        "        layers += [nn.Conv2d(in_channels=3, out_channels=64, kernel_size=3, stride=2, padding=1)]\n",
        "        # 앞선 MLP 시간과 달리 spatial resolution(공간 해상도)이 살아있기 때문에, batchnorm 2d를 사용해 줍니다.\n",
        "        layers += [nn.BatchNorm2d(64)]\n",
        "        layers += [nn.ReLU()]\n",
        "        \n",
        "        # Layer2\n",
        "        # (128, 64, 32, 32) => (128, 128, 16, 16)\n",
        "        layers += [nn.Conv2d(64, 128, 3, 2, 1)]\n",
        "        layers += [nn.BatchNorm2d(128)]\n",
        "        layers += [nn.ReLU()]\n",
        "        \n",
        "        # Layer3\n",
        "        # (B, 128, 16, 16) => (B, 256, 8, 8)\n",
        "        layers += [nn.Conv2d(128, 256, 3, 2, 1)]\n",
        "        layers += [nn.BatchNorm2d(256)]\n",
        "        layers += [nn.ReLU()]\n",
        "        \n",
        "        # Layer4\n",
        "        # (B, 256, 8, 8) => (B, 512, 4, 4)\n",
        "        layers += [nn.Conv2d(256, 512, 3, 2, 1)]\n",
        "        layers += [nn.BatchNorm2d(512)]\n",
        "        layers += [nn.ReLU()] # B X 512*4 -> 128 X 512\n",
        "        \n",
        "        # classifier\n",
        "        classifier = []\n",
        "        classifier += [nn.Linear(512*4, 512)]\n",
        "        \n",
        "        classifier += [nn.Linear(512, 10)]\n",
        "        \n",
        "        \n",
        "        self.main = nn.Sequential(*layers)\n",
        "        self.classifier = nn.Sequential(*classifier)\n",
        "       \n",
        "    \n",
        "    def forward(self, x):\n",
        "        out = self.main(x) # 128, 512, 2, 2\n",
        "        out = out.view(out.size(0), -1) # 128, 152*2*2\n",
        "        out = self.classifier(out)\n",
        "        return out\n",
        "        \n",
        "        \n",
        "        "
      ],
      "execution_count": 0,
      "outputs": []
    },
    {
      "cell_type": "code",
      "metadata": {
        "id": "4n_VwcLzWzAs",
        "colab_type": "code",
        "outputId": "07c36361-cb56-4451-853d-39594226e361",
        "colab": {
          "base_uri": "https://localhost:8080/",
          "height": 55
        }
      },
      "source": [
        "cifar_net = DiyCNN().to(device)\n",
        "criterion = nn.CrossEntropyLoss()\n",
        "optimizer = optim.Adam(cifar_net.parameters(), lr=lr)\n",
        "\n",
        "print('[info] number of model parameter - %d' % (count_parameters(cifar_net)))"
      ],
      "execution_count": 0,
      "outputs": [
        {
          "output_type": "stream",
          "text": [
            "model.parameters() =  <generator object Module.parameters at 0x7fe7daeb81a8>\n",
            "[info] number of model parameter - 2607114\n"
          ],
          "name": "stdout"
        }
      ]
    },
    {
      "cell_type": "code",
      "metadata": {
        "id": "G1Yu_v5hXHwl",
        "colab_type": "code",
        "outputId": "e8634daf-bbca-4188-b4d8-c3f7d03ad933",
        "colab": {
          "base_uri": "https://localhost:8080/",
          "height": 316
        }
      },
      "source": [
        "train_network(cifar_net, optimizer, trainloader)"
      ],
      "execution_count": 0,
      "outputs": [
        {
          "output_type": "stream",
          "text": [
            "[1,   100] loss: 1.745\n",
            "[1,   200] loss: 1.508\n",
            "[1,   300] loss: 1.388\n",
            "[2,   100] loss: 1.217\n",
            "[2,   200] loss: 1.172\n",
            "[2,   300] loss: 1.104\n",
            "[3,   100] loss: 1.023\n",
            "[3,   200] loss: 0.988\n",
            "[3,   300] loss: 0.963\n",
            "[4,   100] loss: 0.911\n",
            "[4,   200] loss: 0.880\n",
            "[4,   300] loss: 0.866\n",
            "[5,   100] loss: 0.799\n",
            "[5,   200] loss: 0.801\n",
            "[5,   300] loss: 0.807\n",
            "Finished Training\n"
          ],
          "name": "stdout"
        }
      ]
    },
    {
      "cell_type": "code",
      "metadata": {
        "id": "Hj_pAkw7YJyn",
        "colab_type": "code",
        "outputId": "5e5ed609-38e2-46d1-abe6-e96a4d992128",
        "colab": {
          "base_uri": "https://localhost:8080/",
          "height": 92
        }
      },
      "source": [
        "test(cifar_net, testloader)"
      ],
      "execution_count": 0,
      "outputs": [
        {
          "output_type": "stream",
          "text": [
            "test_loss: 0.0\n",
            "\n",
            "Test set: Accuracy: 7457/10000 (75%)\n",
            "\n"
          ],
          "name": "stdout"
        }
      ]
    },
    {
      "cell_type": "markdown",
      "metadata": {
        "id": "-YXTeHAqaSvr",
        "colab_type": "text"
      },
      "source": [
        "### 데이터 initialization\n",
        "\n",
        "initialization을 하는 이유는 deep neural network 통해서 forward중에 exploding, vanishing이 일어나는 것을 예방하기 위해서다.\n",
        "\n",
        "exploding or vanishing이 일어나게 되면 backward 과정에서 cost function이 발산하거나 너무 천천히 최적화되거나 local minimum 문제가 발생하게 된다.\n"
      ]
    },
    {
      "cell_type": "code",
      "metadata": {
        "id": "Xe2xmbEtY_Lc",
        "colab_type": "code",
        "colab": {}
      },
      "source": [
        "class DiyCNN(nn.Module):\n",
        "    def __init__(self):\n",
        "        super(DiyCNN, self).__init__()\n",
        "        \n",
        "        layers = []\n",
        "        \n",
        "        layers += [nn.Conv2d(in_channels=3, out_channels=64, kernel_size=3, stride=2, padding=1)]\n",
        "        layers += [nn.BatchNorm2d(64)]\n",
        "        layers += [nn.ReLU()]\n",
        "        \n",
        "        layers += [nn.Conv2d(64, 128, 3, 2, 1)]\n",
        "        layers += [nn.BatchNorm2d(128)]\n",
        "        layers += [nn.ReLU()]\n",
        "        \n",
        "        layers += [nn.Conv2d(128, 256, 3, 2, 1)]\n",
        "        layers += [nn.BatchNorm2d(256)]\n",
        "        layers += [nn.ReLU()]\n",
        "        \n",
        "        layers += [nn.Conv2d(256, 512, 3, 2, 1)]\n",
        "        layers += [nn.BatchNorm2d(512)]\n",
        "        layers += [nn.ReLU()]\n",
        "        \n",
        "        layers += [nn.AdaptiveAvgPool2d(1)] # 1 -> (-1,1) -> (512, 1) \n",
        "\n",
        "        layers += [nn.Conv2d(512, 10, 1, 1, 0)]\n",
        "        \n",
        "        \n",
        "        self.main = nn.Sequential(*layers)\n",
        "        self._reset_params() # initialize 하는 부분\n",
        "        \n",
        "    \n",
        "    # 초기 weight 설정\n",
        "    # xavier 초기값 설정\n",
        "    # -> 앞 layer의 입력 노드 수와 출력 노드 수를 고려하여 초기 값을 설정\n",
        "    # a = gain * sqrt(6 / (fan_in + fan_out))\n",
        "    # torch.nn.init.xavier_uniform_(w, gain)\n",
        "    # w : weight n-dimensional torch.Tensor, gain : optional scaling factor\n",
        "    def _reset_params(self):\n",
        "        for i, layer in enumerate(self.main):\n",
        "            if type(layer) == nn.Conv2d:\n",
        "                torch.nn.init.xavier_uniform_(layer.weight.data)\n",
        "       \n",
        "    \n",
        "    def forward(self, x):\n",
        "        return self.main(x).squeeze(3).squeeze(2)\n",
        "        \n",
        "        \n",
        "        "
      ],
      "execution_count": 0,
      "outputs": []
    },
    {
      "cell_type": "code",
      "metadata": {
        "id": "9dp6nnIBhRu3",
        "colab_type": "code",
        "colab": {}
      },
      "source": [
        "cifar_net = DiyCNN().to(device)\n",
        "loss = nn.CrossEntropyLoss()\n",
        "optimizer = optim.Adam(cifar_net.parameters(), lr=lr)"
      ],
      "execution_count": 0,
      "outputs": []
    },
    {
      "cell_type": "code",
      "metadata": {
        "id": "PSjE5TMnhh1b",
        "colab_type": "code",
        "outputId": "54bb8bb1-8301-4eaf-ea9d-c6840edba69b",
        "colab": {
          "base_uri": "https://localhost:8080/",
          "height": 316
        }
      },
      "source": [
        "train_network(cifar_net, optimizer, trainloader)"
      ],
      "execution_count": 0,
      "outputs": [
        {
          "output_type": "stream",
          "text": [
            "[1,   100] loss: 1.741\n",
            "[1,   200] loss: 1.488\n",
            "[1,   300] loss: 1.368\n",
            "[2,   100] loss: 1.244\n",
            "[2,   200] loss: 1.171\n",
            "[2,   300] loss: 1.119\n",
            "[3,   100] loss: 1.037\n",
            "[3,   200] loss: 1.029\n",
            "[3,   300] loss: 0.988\n",
            "[4,   100] loss: 0.936\n",
            "[4,   200] loss: 0.925\n",
            "[4,   300] loss: 0.919\n",
            "[5,   100] loss: 0.848\n",
            "[5,   200] loss: 0.827\n",
            "[5,   300] loss: 0.831\n",
            "Finished Training\n"
          ],
          "name": "stdout"
        }
      ]
    },
    {
      "cell_type": "code",
      "metadata": {
        "id": "NLh3hGJXjBv3",
        "colab_type": "code",
        "outputId": "9f53e814-9df7-43bf-bb99-f2c38656e7a5",
        "colab": {
          "base_uri": "https://localhost:8080/",
          "height": 92
        }
      },
      "source": [
        "test(cifar_net, testloader)"
      ],
      "execution_count": 0,
      "outputs": [
        {
          "output_type": "stream",
          "text": [
            "test_loss: 0.0\n",
            "\n",
            "Test set: Accuracy: 7271/10000 (73%)\n",
            "\n"
          ],
          "name": "stdout"
        }
      ]
    },
    {
      "cell_type": "markdown",
      "metadata": {
        "id": "MMH8VSbXkYBy",
        "colab_type": "text"
      },
      "source": [
        "### 데이터 전처리 Normalization을 없애면 어떻게 변할까?\n",
        "\n",
        "-> 성능이 떨어진다.\n",
        "> normalization(정규화)를 하지 않으면 outlier 때문에 학습 능력이 떨어지기 때문이다."
      ]
    },
    {
      "cell_type": "code",
      "metadata": {
        "id": "ab23JEFHjatG",
        "colab_type": "code",
        "outputId": "2c596d94-a1ff-46f0-a24d-b10b3a594685",
        "colab": {
          "base_uri": "https://localhost:8080/",
          "height": 73
        }
      },
      "source": [
        "print('==> Preparing data...')\n",
        "\n",
        "transform_train = transforms.Compose([\n",
        "    transforms.RandomCrop(32, padding=4),\n",
        "    transforms.RandomHorizontalFlip(),\n",
        "    transforms.ToTensor(),\n",
        "])\n",
        "\n",
        "transform_test = transforms.Compose([\n",
        "    transforms.ToTensor(),\n",
        "])\n",
        "\n",
        "trainset = torchvision.datasets.CIFAR10(root=\"./data\", train=True, download=True, transform=transform_train)\n",
        "trainloader = torch.utils.data.DataLoader(trainset, batch_size=batch_size, shuffle=True, num_workers=1)\n",
        "\n",
        "testset = torchvision.datasets.CIFAR10(root='./data', train=False, download=True, transform=transform_test)\n",
        "testloader = torch.utils.data.DataLoader(testset, batch_size=100, shuffle=False, num_workers=1)\n",
        "\n",
        "classes = ('plane', 'car', 'bird', 'cat', 'deer', 'dog', 'frog', 'horse', 'ship', 'truck')"
      ],
      "execution_count": 0,
      "outputs": [
        {
          "output_type": "stream",
          "text": [
            "==> Preparing data...\n",
            "Files already downloaded and verified\n",
            "Files already downloaded and verified\n"
          ],
          "name": "stdout"
        }
      ]
    },
    {
      "cell_type": "code",
      "metadata": {
        "id": "5_x6Jl2flovv",
        "colab_type": "code",
        "colab": {}
      },
      "source": [
        "cifar_net = DiyCNN().to(device)\n",
        "loss = nn.CrossEntropyLoss()\n",
        "optimizer = optim.Adam(cifar_net.parameters(), lr=lr)"
      ],
      "execution_count": 0,
      "outputs": []
    },
    {
      "cell_type": "code",
      "metadata": {
        "id": "oEiRTxfVl5Lm",
        "colab_type": "code",
        "outputId": "86c22667-6954-47eb-b2fc-4edd06d1f223",
        "colab": {
          "base_uri": "https://localhost:8080/",
          "height": 316
        }
      },
      "source": [
        "train_network(cifar_net, optimizer, trainloader)"
      ],
      "execution_count": 0,
      "outputs": [
        {
          "output_type": "stream",
          "text": [
            "[1,   100] loss: 1.714\n",
            "[1,   200] loss: 1.486\n",
            "[1,   300] loss: 1.403\n",
            "[2,   100] loss: 1.248\n",
            "[2,   200] loss: 1.177\n",
            "[2,   300] loss: 1.130\n",
            "[3,   100] loss: 1.046\n",
            "[3,   200] loss: 1.025\n",
            "[3,   300] loss: 0.987\n",
            "[4,   100] loss: 0.931\n",
            "[4,   200] loss: 0.922\n",
            "[4,   300] loss: 0.905\n",
            "[5,   100] loss: 0.841\n",
            "[5,   200] loss: 0.826\n",
            "[5,   300] loss: 0.830\n",
            "Finished Training\n"
          ],
          "name": "stdout"
        }
      ]
    },
    {
      "cell_type": "code",
      "metadata": {
        "id": "5UGng_Fyl9ui",
        "colab_type": "code",
        "outputId": "17ba9723-1497-4612-c8c9-b24e2e751326",
        "colab": {
          "base_uri": "https://localhost:8080/",
          "height": 92
        }
      },
      "source": [
        "test(cifar_net, testloader)"
      ],
      "execution_count": 0,
      "outputs": [
        {
          "output_type": "stream",
          "text": [
            "test_loss: 0.0\n",
            "\n",
            "Test set: Accuracy: 6922/10000 (69%)\n",
            "\n"
          ],
          "name": "stdout"
        }
      ]
    },
    {
      "cell_type": "markdown",
      "metadata": {
        "id": "8DHUmpTnowio",
        "colab_type": "text"
      },
      "source": [
        "### 데이터 shuffling의 효과\n",
        "무작위 sampling을 해준다.\n",
        "> 학습의 방해를 줄이기 위해 순서 패턴을 지운다.\n",
        "\n",
        "같은 데이터를 반복해서 학습하게 되면 그 순서 패턴을 학습하게 되는 문제가 발생한다."
      ]
    },
    {
      "cell_type": "code",
      "metadata": {
        "id": "lpLd3Csgm1DL",
        "colab_type": "code",
        "outputId": "2d69d6bb-8ee2-48c5-a204-b07c285c6b11",
        "colab": {
          "base_uri": "https://localhost:8080/",
          "height": 73
        }
      },
      "source": [
        "print('==> Preparing data...')\n",
        "\n",
        "transform_train = transforms.Compose([\n",
        "    transforms.RandomCrop(32, padding=4),\n",
        "    transforms.RandomHorizontalFlip(),\n",
        "    transforms.ToTensor(),\n",
        "    transforms.Normalize((0.4914, 0.4822, 0.4465), (0.2023, 0.1994, 0.2010)),\n",
        "])\n",
        "\n",
        "transform_test = transforms.Compose([\n",
        "    transforms.ToTensor(),\n",
        "    transforms.Normalize((0.4914, 0.4822, 0.4465), (0.2023, 0.1994, 0.2010))\n",
        "])\n",
        "\n",
        "trainset = torchvision.datasets.CIFAR10(root='./data', train=True, download=True, transform=transform_train)\n",
        "trainloader = torch.utils.data.DataLoader(trainset, batch_size=batch_size, shuffle=False, num_workers=1)\n",
        "\n",
        "testset = torchvision.datasets.CIFAR10(root='./data', train=False, download=True, transform=transform_test)\n",
        "testloader = torch.utils.data.DataLoader(testset, batch_size=100, shuffle=False, num_workers=1)\n",
        "\n",
        "classes = ('plane', 'car', 'bird', 'cat', 'deer', 'dog', 'frog', 'horse', 'ship', 'truck')"
      ],
      "execution_count": 0,
      "outputs": [
        {
          "output_type": "stream",
          "text": [
            "==> Preparing data...\n",
            "Files already downloaded and verified\n",
            "Files already downloaded and verified\n"
          ],
          "name": "stdout"
        }
      ]
    },
    {
      "cell_type": "code",
      "metadata": {
        "id": "1DM5TA0Rq2Xd",
        "colab_type": "code",
        "colab": {}
      },
      "source": [
        "cifar_net = DiyCNN().to(device)\n",
        "loss = nn.CrossEntropyLoss()\n",
        "optimizer = optim.Adam(cifar_net.parameters(), lr=lr)"
      ],
      "execution_count": 0,
      "outputs": []
    },
    {
      "cell_type": "code",
      "metadata": {
        "id": "LYTuNiMTrGXC",
        "colab_type": "code",
        "outputId": "4fb485fe-e19b-4f8b-c8e1-525bd2693098",
        "colab": {
          "base_uri": "https://localhost:8080/",
          "height": 316
        }
      },
      "source": [
        "train_network(cifar_net, optimizer, trainloader)"
      ],
      "execution_count": 0,
      "outputs": [
        {
          "output_type": "stream",
          "text": [
            "[1,   100] loss: 1.706\n",
            "[1,   200] loss: 1.467\n",
            "[1,   300] loss: 1.355\n",
            "[2,   100] loss: 1.197\n",
            "[2,   200] loss: 1.141\n",
            "[2,   300] loss: 1.098\n",
            "[3,   100] loss: 1.035\n",
            "[3,   200] loss: 1.003\n",
            "[3,   300] loss: 0.987\n",
            "[4,   100] loss: 0.939\n",
            "[4,   200] loss: 0.920\n",
            "[4,   300] loss: 0.905\n",
            "[5,   100] loss: 0.858\n",
            "[5,   200] loss: 0.844\n",
            "[5,   300] loss: 0.838\n",
            "Finished Training\n"
          ],
          "name": "stdout"
        }
      ]
    },
    {
      "cell_type": "code",
      "metadata": {
        "id": "dipNsdSdrLGy",
        "colab_type": "code",
        "outputId": "78dc731e-1799-4426-a01d-5834dcf3b4d5",
        "colab": {
          "base_uri": "https://localhost:8080/",
          "height": 92
        }
      },
      "source": [
        "test(cifar_net, testloader)"
      ],
      "execution_count": 0,
      "outputs": [
        {
          "output_type": "stream",
          "text": [
            "test_loss: 0.0\n",
            "\n",
            "Test set: Accuracy: 7150/10000 (72%)\n",
            "\n"
          ],
          "name": "stdout"
        }
      ]
    },
    {
      "cell_type": "markdown",
      "metadata": {
        "id": "YERD232ssvwW",
        "colab_type": "text"
      },
      "source": [
        "### Learning rate scheduler를 도입합니다. \n",
        "MultiStepLR(optimizer, milestones=[a,b], gamma = c)\n",
        "\n",
        "lr = optimizer의 lr (epoch < a)\n",
        "\n",
        "lr = lr\\*gamma (a <= epoch < b)\n",
        "\n",
        "lr = lr\\*gamma(b <= epoch)"
      ]
    },
    {
      "cell_type": "markdown",
      "metadata": {
        "id": "7sQOYkVts1Tc",
        "colab_type": "text"
      },
      "source": [
        "기존의 설정으로 돌려줍니다. "
      ]
    },
    {
      "cell_type": "code",
      "metadata": {
        "id": "soxQ7VW4rTeD",
        "colab_type": "code",
        "outputId": "4765a948-f7af-465b-bcf5-f90e832d75bf",
        "colab": {
          "base_uri": "https://localhost:8080/",
          "height": 73
        }
      },
      "source": [
        "# Data\n",
        "print('==> Preparing data..')\n",
        "# 데이터 전처리를 위한 코드\n",
        "transform_train = transforms.Compose([\n",
        "    transforms.RandomCrop(32, padding=4), # 4만큼의 padding을 부여한 후, 32x32로 random cropping\n",
        "    transforms.RandomHorizontalFlip(), # 0.5의 확률로 이미지 좌우 반전하여 넣어줌\n",
        "    transforms.ToTensor(),\n",
        "    transforms.Normalize((0.4914, 0.4822, 0.4465), (0.2023, 0.1994, 0.2010)), # cifar10(0~1)의 r,g,b 채널 별 평균 및 분산으로 normalization => N(0,1)의 정규분포를 따르도록 만들어준 후 input으로 넣어줍니다.\n",
        "])\n",
        "\n",
        "\n",
        "# 데이터 전처리를 위한 코드\n",
        "transform_test = transforms.Compose([\n",
        "    transforms.ToTensor(),\n",
        "    transforms.Normalize((0.4914, 0.4822, 0.4465), (0.2023, 0.1994, 0.2010)), # cifar10(0~1)의 r,g,b 채널 별 평균 및 분산으로 normalization => N(0,1)의 정규분포를 따르도록 만들어준 후 input으로 넣어줍니다.\n",
        "])\n",
        "\n",
        "# 데이터 로딩\n",
        "trainset = torchvision.datasets.CIFAR10(root='./data', train=True, download=True, transform=transform_train)\n",
        "trainloader = torch.utils.data.DataLoader(trainset, batch_size=batch_size, shuffle=True, num_workers=1)\n",
        "\n",
        "testset = torchvision.datasets.CIFAR10(root='./data', train=False, download=True, transform=transform_test)\n",
        "testloader = torch.utils.data.DataLoader(testset, batch_size=100, shuffle=False, num_workers=1)\n",
        "\n",
        "classes = ('plane', 'car', 'bird', 'cat', 'deer', 'dog', 'frog', 'horse', 'ship', 'truck')"
      ],
      "execution_count": 0,
      "outputs": [
        {
          "output_type": "stream",
          "text": [
            "==> Preparing data..\n",
            "Files already downloaded and verified\n",
            "Files already downloaded and verified\n"
          ],
          "name": "stdout"
        }
      ]
    },
    {
      "cell_type": "code",
      "metadata": {
        "id": "6JNtO8IMsPhH",
        "colab_type": "code",
        "colab": {}
      },
      "source": [
        "class DiyCNN(nn.Module):\n",
        "  def __init__(self):\n",
        "    super(DiyCNN, self).__init__()\n",
        "    layers = []\n",
        "\n",
        "    layers += [nn.Conv2d(in_channels=3, out_channels=64, kernel_size=3, stride=2, padding=1)] # 첫 conv는 보통 receptive field를 최대한 넓혀준 후 feature를 뽑아줍니다.\n",
        "    layers += [nn.BatchNorm2d(64)] # 앞선 MLP 시간과 달리 spatial resolution이 살아있기 때문에, batchnorm 2d를 사용해 줍니다.\n",
        "    layers += [nn.ReLU()]\n",
        "    \n",
        "    layers += [nn.Conv2d(64, 128, 3, 2, 1)]\n",
        "    layers += [nn.BatchNorm2d(128)]\n",
        "    layers += [nn.ReLU()]\n",
        "    \n",
        "    layers += [nn.Conv2d(128, 256, 3, 2, 1)]\n",
        "    layers += [nn.BatchNorm2d(256)]\n",
        "    layers += [nn.ReLU()]\n",
        "    \n",
        "    layers += [nn.Conv2d(256, 512, 3, 2, 1)]\n",
        "    layers += [nn.BatchNorm2d(512)]\n",
        "    layers += [nn.ReLU()]\n",
        "    \n",
        "    layers += [nn.AdaptiveAvgPool2d(1)]\n",
        "    \n",
        "    layers += [nn.Conv2d(512, 10, 1, 1, 0)]\n",
        "    \n",
        "    self.main = nn.Sequential(*layers)\n",
        "    \n",
        "  def forward(self, x):\n",
        "    return self.main(x).squeeze(3).squeeze(2)"
      ],
      "execution_count": 0,
      "outputs": []
    },
    {
      "cell_type": "code",
      "metadata": {
        "id": "XDy0oBRXsSHE",
        "colab_type": "code",
        "colab": {}
      },
      "source": [
        "def train_network2(net, optimizer, trainloader, scheduler, epochs=5):\n",
        "    for epoch in range(epochs):\n",
        "        \n",
        "        running_loss = 0.0\n",
        "        \n",
        "        for i, data in enumerate(trainloader):\n",
        "            inputs, labels = data\n",
        "            \n",
        "            inputs = inputs.to(device)\n",
        "            labels = labels.to(device)\n",
        "            \n",
        "            optimizer.zero_grad()\n",
        "            \n",
        "            outputs = net(inputs)\n",
        "            \n",
        "            loss = criterion(outputs, labels)\n",
        "            loss.backward()\n",
        "            \n",
        "            optimizer.step()\n",
        "            \n",
        "            running_loss += loss.item()\n",
        "            if (i+1) % 100 == 0:\n",
        "                print('[%d, %5d] loss: %.3f' %\n",
        "                     (epoch+1, i + 1, running_loss / 100))\n",
        "                running_loss = 0.0\n",
        "#                 print('learning rate : ', optimizer.param_groups[0]['lr'])\n",
        "                \n",
        "        scheduler.step()\n",
        "        \n",
        "    print('Finished Training')"
      ],
      "execution_count": 0,
      "outputs": []
    },
    {
      "cell_type": "code",
      "metadata": {
        "id": "znqgN3N6uAqD",
        "colab_type": "code",
        "colab": {}
      },
      "source": [
        "from torch.optim.lr_scheduler import MultiStepLR\n",
        "\n",
        "scheduler = MultiStepLR(optimizer, milestones=[2,4], gamma=0.5)\n",
        "cifar_net = DiyCNN().to(device)\n",
        "criterion = nn.CrossEntropyLoss()\n",
        "optimizer = optim.Adam(cifar_net.parameters(), lr=0.01)\n",
        "scheduler = MultiStepLR(optimizer, milestones=[2,4], gamma=0.5)"
      ],
      "execution_count": 0,
      "outputs": []
    },
    {
      "cell_type": "code",
      "metadata": {
        "id": "iq5z3GSuwYMq",
        "colab_type": "code",
        "outputId": "0bf0018e-a108-438d-d01b-c09e49b6e554",
        "colab": {
          "base_uri": "https://localhost:8080/",
          "height": 596
        }
      },
      "source": [
        "train_network2(cifar_net, optimizer, trainloader, scheduler,epochs=5)"
      ],
      "execution_count": 0,
      "outputs": [
        {
          "output_type": "stream",
          "text": [
            "[1,   100] loss: 1.843\n",
            "learning rate :  0.01\n",
            "[1,   200] loss: 1.565\n",
            "learning rate :  0.01\n",
            "[1,   300] loss: 1.433\n",
            "learning rate :  0.01\n",
            "[2,   100] loss: 1.275\n",
            "learning rate :  0.01\n",
            "[2,   200] loss: 1.209\n",
            "learning rate :  0.01\n",
            "[2,   300] loss: 1.163\n",
            "learning rate :  0.01\n",
            "[3,   100] loss: 1.003\n",
            "learning rate :  0.005\n",
            "[3,   200] loss: 0.960\n",
            "learning rate :  0.005\n",
            "[3,   300] loss: 0.945\n",
            "learning rate :  0.005\n",
            "[4,   100] loss: 0.911\n",
            "learning rate :  0.005\n",
            "[4,   200] loss: 0.884\n",
            "learning rate :  0.005\n",
            "[4,   300] loss: 0.853\n",
            "learning rate :  0.005\n",
            "[5,   100] loss: 0.788\n",
            "learning rate :  0.0025\n",
            "[5,   200] loss: 0.784\n",
            "learning rate :  0.0025\n",
            "[5,   300] loss: 0.769\n",
            "learning rate :  0.0025\n",
            "Finished Training\n"
          ],
          "name": "stdout"
        }
      ]
    },
    {
      "cell_type": "code",
      "metadata": {
        "id": "rpKY54YV116D",
        "colab_type": "code",
        "outputId": "d06fa672-d602-45a5-9d51-454a40261e97",
        "colab": {
          "base_uri": "https://localhost:8080/",
          "height": 92
        }
      },
      "source": [
        "test(cifar_net, testloader)"
      ],
      "execution_count": 0,
      "outputs": [
        {
          "output_type": "stream",
          "text": [
            "test_loss: 0.0\n",
            "\n",
            "Test set: Accuracy: 7451/10000 (75%)\n",
            "\n"
          ],
          "name": "stdout"
        }
      ]
    },
    {
      "cell_type": "markdown",
      "metadata": {
        "id": "u6kYgQg55nz8",
        "colab_type": "text"
      },
      "source": [
        "### Pre-trained 모형 가지고 와서 성능 확인하기(Transfer Learning 관점)"
      ]
    },
    {
      "cell_type": "code",
      "metadata": {
        "id": "Hq08djvd3PV1",
        "colab_type": "code",
        "outputId": "74330072-2640-4539-f2f2-676079843055",
        "colab": {
          "base_uri": "https://localhost:8080/",
          "height": 75
        }
      },
      "source": [
        "import torchvision.models as models\n",
        "# 기존에 만들어진 vgg network 을 이미지넷 데이터에 트레이닝해둔\n",
        "# 파라미터를 그대로 받아온다.\n",
        "vgg_model = models.vgg19_bn(pretrained=True).to(device)"
      ],
      "execution_count": 0,
      "outputs": [
        {
          "output_type": "stream",
          "text": [
            "Downloading: \"https://download.pytorch.org/models/vgg19_bn-c79401a0.pth\" to /root/.cache/torch/checkpoints/vgg19_bn-c79401a0.pth\n",
            "100%|██████████| 574769405/574769405 [00:04<00:00, 129129215.45it/s]\n"
          ],
          "name": "stderr"
        }
      ]
    },
    {
      "cell_type": "code",
      "metadata": {
        "id": "R0AOPolQ6YHg",
        "colab_type": "code",
        "outputId": "0f6306d0-c533-429e-960a-c226e63a0ea9",
        "colab": {
          "base_uri": "https://localhost:8080/",
          "height": 1000
        }
      },
      "source": [
        "vgg_model"
      ],
      "execution_count": 0,
      "outputs": [
        {
          "output_type": "execute_result",
          "data": {
            "text/plain": [
              "VGG(\n",
              "  (features): Sequential(\n",
              "    (0): Conv2d(3, 64, kernel_size=(3, 3), stride=(1, 1), padding=(1, 1))\n",
              "    (1): BatchNorm2d(64, eps=1e-05, momentum=0.1, affine=True, track_running_stats=True)\n",
              "    (2): ReLU(inplace)\n",
              "    (3): Conv2d(64, 64, kernel_size=(3, 3), stride=(1, 1), padding=(1, 1))\n",
              "    (4): BatchNorm2d(64, eps=1e-05, momentum=0.1, affine=True, track_running_stats=True)\n",
              "    (5): ReLU(inplace)\n",
              "    (6): MaxPool2d(kernel_size=2, stride=2, padding=0, dilation=1, ceil_mode=False)\n",
              "    (7): Conv2d(64, 128, kernel_size=(3, 3), stride=(1, 1), padding=(1, 1))\n",
              "    (8): BatchNorm2d(128, eps=1e-05, momentum=0.1, affine=True, track_running_stats=True)\n",
              "    (9): ReLU(inplace)\n",
              "    (10): Conv2d(128, 128, kernel_size=(3, 3), stride=(1, 1), padding=(1, 1))\n",
              "    (11): BatchNorm2d(128, eps=1e-05, momentum=0.1, affine=True, track_running_stats=True)\n",
              "    (12): ReLU(inplace)\n",
              "    (13): MaxPool2d(kernel_size=2, stride=2, padding=0, dilation=1, ceil_mode=False)\n",
              "    (14): Conv2d(128, 256, kernel_size=(3, 3), stride=(1, 1), padding=(1, 1))\n",
              "    (15): BatchNorm2d(256, eps=1e-05, momentum=0.1, affine=True, track_running_stats=True)\n",
              "    (16): ReLU(inplace)\n",
              "    (17): Conv2d(256, 256, kernel_size=(3, 3), stride=(1, 1), padding=(1, 1))\n",
              "    (18): BatchNorm2d(256, eps=1e-05, momentum=0.1, affine=True, track_running_stats=True)\n",
              "    (19): ReLU(inplace)\n",
              "    (20): Conv2d(256, 256, kernel_size=(3, 3), stride=(1, 1), padding=(1, 1))\n",
              "    (21): BatchNorm2d(256, eps=1e-05, momentum=0.1, affine=True, track_running_stats=True)\n",
              "    (22): ReLU(inplace)\n",
              "    (23): Conv2d(256, 256, kernel_size=(3, 3), stride=(1, 1), padding=(1, 1))\n",
              "    (24): BatchNorm2d(256, eps=1e-05, momentum=0.1, affine=True, track_running_stats=True)\n",
              "    (25): ReLU(inplace)\n",
              "    (26): MaxPool2d(kernel_size=2, stride=2, padding=0, dilation=1, ceil_mode=False)\n",
              "    (27): Conv2d(256, 512, kernel_size=(3, 3), stride=(1, 1), padding=(1, 1))\n",
              "    (28): BatchNorm2d(512, eps=1e-05, momentum=0.1, affine=True, track_running_stats=True)\n",
              "    (29): ReLU(inplace)\n",
              "    (30): Conv2d(512, 512, kernel_size=(3, 3), stride=(1, 1), padding=(1, 1))\n",
              "    (31): BatchNorm2d(512, eps=1e-05, momentum=0.1, affine=True, track_running_stats=True)\n",
              "    (32): ReLU(inplace)\n",
              "    (33): Conv2d(512, 512, kernel_size=(3, 3), stride=(1, 1), padding=(1, 1))\n",
              "    (34): BatchNorm2d(512, eps=1e-05, momentum=0.1, affine=True, track_running_stats=True)\n",
              "    (35): ReLU(inplace)\n",
              "    (36): Conv2d(512, 512, kernel_size=(3, 3), stride=(1, 1), padding=(1, 1))\n",
              "    (37): BatchNorm2d(512, eps=1e-05, momentum=0.1, affine=True, track_running_stats=True)\n",
              "    (38): ReLU(inplace)\n",
              "    (39): MaxPool2d(kernel_size=2, stride=2, padding=0, dilation=1, ceil_mode=False)\n",
              "    (40): Conv2d(512, 512, kernel_size=(3, 3), stride=(1, 1), padding=(1, 1))\n",
              "    (41): BatchNorm2d(512, eps=1e-05, momentum=0.1, affine=True, track_running_stats=True)\n",
              "    (42): ReLU(inplace)\n",
              "    (43): Conv2d(512, 512, kernel_size=(3, 3), stride=(1, 1), padding=(1, 1))\n",
              "    (44): BatchNorm2d(512, eps=1e-05, momentum=0.1, affine=True, track_running_stats=True)\n",
              "    (45): ReLU(inplace)\n",
              "    (46): Conv2d(512, 512, kernel_size=(3, 3), stride=(1, 1), padding=(1, 1))\n",
              "    (47): BatchNorm2d(512, eps=1e-05, momentum=0.1, affine=True, track_running_stats=True)\n",
              "    (48): ReLU(inplace)\n",
              "    (49): Conv2d(512, 512, kernel_size=(3, 3), stride=(1, 1), padding=(1, 1))\n",
              "    (50): BatchNorm2d(512, eps=1e-05, momentum=0.1, affine=True, track_running_stats=True)\n",
              "    (51): ReLU(inplace)\n",
              "    (52): MaxPool2d(kernel_size=2, stride=2, padding=0, dilation=1, ceil_mode=False)\n",
              "  )\n",
              "  (avgpool): AdaptiveAvgPool2d(output_size=(7, 7))\n",
              "  (classifier): Sequential(\n",
              "    (0): Linear(in_features=25088, out_features=4096, bias=True)\n",
              "    (1): ReLU(inplace)\n",
              "    (2): Dropout(p=0.5)\n",
              "    (3): Linear(in_features=4096, out_features=4096, bias=True)\n",
              "    (4): ReLU(inplace)\n",
              "    (5): Dropout(p=0.5)\n",
              "    (6): Linear(in_features=4096, out_features=1000, bias=True)\n",
              "  )\n",
              ")"
            ]
          },
          "metadata": {
            "tags": []
          },
          "execution_count": 196
        }
      ]
    },
    {
      "cell_type": "code",
      "metadata": {
        "id": "oYhLhojN6n-b",
        "colab_type": "code",
        "colab": {}
      },
      "source": [
        "class DiyCNN(nn.Module):\n",
        "    def __init__(self, vgg_model):\n",
        "        super(DiyCNN, self).__init__()\n",
        "        # 미리 학습된 vgg_model의 features에 있는 레이어들을 가져와서 붙여준다.\n",
        "        self.pre_trained = nn.Sequential(\n",
        "            *list(vgg_model.features.children()))\n",
        "        \n",
        "         # 기존에는 이미지넷에 학습되어있기 때문에, \n",
        "         # 이를 cifar-10 데이터셋용으로 바꿔줄 필요가 있다. \n",
        "        self.mlp = nn.Sequential(\n",
        "            nn.Linear(512, 512),\n",
        "            nn.ReLU(),\n",
        "            nn.Linear(512, 128),\n",
        "            nn.ReLU(),\n",
        "            nn.Linear(128, 10),\n",
        "        )\n",
        "    \n",
        "    \n",
        "    def forward(self, x):\n",
        "        out = self.pre_trained(x)\n",
        "        out = out.squeeze()\n",
        "        out = self.mlp(out)\n",
        "        return out\n",
        "        \n"
      ],
      "execution_count": 0,
      "outputs": []
    },
    {
      "cell_type": "code",
      "metadata": {
        "id": "HdJ0FQQo8dKv",
        "colab_type": "code",
        "outputId": "aaa30180-ef39-41a4-ac7c-c019a44aae06",
        "colab": {
          "base_uri": "https://localhost:8080/",
          "height": 55
        }
      },
      "source": [
        "cifar_net = DiyCNN(vgg_model).to(device)\n",
        "criterion = nn.CrossEntropyLoss()\n",
        "optimizer = optim.Adam(cifar_net.parameters(), lr=lr)\n",
        "\n",
        "print('[info] number of model parameter - %d'%(count_parameters(cifar_net)))"
      ],
      "execution_count": 0,
      "outputs": [
        {
          "output_type": "stream",
          "text": [
            "model.parameters() =  <generator object Module.parameters at 0x7fe7d82c90a0>\n",
            "[info] number of model parameter - 20365002\n"
          ],
          "name": "stdout"
        }
      ]
    },
    {
      "cell_type": "code",
      "metadata": {
        "id": "i5U1kriP8uAK",
        "colab_type": "code",
        "outputId": "55bcdfaa-68b0-42aa-dcf8-e6c81000f952",
        "colab": {
          "base_uri": "https://localhost:8080/",
          "height": 316
        }
      },
      "source": [
        "train_network(cifar_net, optimizer, trainloader)"
      ],
      "execution_count": 0,
      "outputs": [
        {
          "output_type": "stream",
          "text": [
            "[1,   100] loss: 1.307\n",
            "[1,   200] loss: 0.949\n",
            "[1,   300] loss: 0.830\n",
            "[2,   100] loss: 0.684\n",
            "[2,   200] loss: 0.648\n",
            "[2,   300] loss: 0.627\n",
            "[3,   100] loss: 0.542\n",
            "[3,   200] loss: 0.531\n",
            "[3,   300] loss: 0.519\n",
            "[4,   100] loss: 0.470\n",
            "[4,   200] loss: 0.462\n",
            "[4,   300] loss: 0.460\n",
            "[5,   100] loss: 0.410\n",
            "[5,   200] loss: 0.421\n",
            "[5,   300] loss: 0.402\n",
            "Finished Training\n"
          ],
          "name": "stdout"
        }
      ]
    },
    {
      "cell_type": "code",
      "metadata": {
        "id": "nMoe8rG9849z",
        "colab_type": "code",
        "outputId": "7376ecf8-fe21-4d2d-eced-0eede4d8ae86",
        "colab": {
          "base_uri": "https://localhost:8080/",
          "height": 92
        }
      },
      "source": [
        "test(cifar_net, testloader)"
      ],
      "execution_count": 0,
      "outputs": [
        {
          "output_type": "stream",
          "text": [
            "test_loss: 0.0\n",
            "\n",
            "Test set: Accuracy: 8563/10000 (86%)\n",
            "\n"
          ],
          "name": "stdout"
        }
      ]
    },
    {
      "cell_type": "code",
      "metadata": {
        "id": "AhJ6qcrd9EZL",
        "colab_type": "code",
        "colab": {}
      },
      "source": [
        ""
      ],
      "execution_count": 0,
      "outputs": []
    }
  ]
}