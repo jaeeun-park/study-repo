{
 "cells": [
  {
   "cell_type": "markdown",
   "metadata": {},
   "source": [
    "# 다양한 모델을 결합한 앙상블 학습"
   ]
  },
  {
   "cell_type": "code",
   "execution_count": 1,
   "metadata": {},
   "outputs": [
    {
     "name": "stdout",
     "output_type": "stream",
     "text": [
      "last updated: 2019-08-17 \n",
      "\n",
      "CPython 3.7.3\n",
      "IPython 7.6.1\n",
      "\n",
      "numpy 1.16.4\n",
      "pandas 0.24.2\n",
      "matplotib not installed\n",
      "scipy 1.2.1\n",
      "sklearn 0.21.2\n"
     ]
    }
   ],
   "source": [
    "%load_ext watermark\n",
    "%watermark -u -d -v -p numpy,pandas,matplotib,scipy,sklearn"
   ]
  },
  {
   "cell_type": "markdown",
   "metadata": {},
   "source": [
    "## 앙상블 학습\n",
    "앙상블 학습은 여러개의 분류기를 하나의 메타 분류기로 연결하여 하나의 분류기보다 좋은 일반하 성능을 달성하는 것이다.  \n",
    "과반수 투표법과 다수결 투표법이 있다.  \n",
    "다양한 클래스를 사용할 때에는 다수결 투표를 사용하는 것이 좋다.\n"
   ]
  },
  {
   "cell_type": "markdown",
   "metadata": {},
   "source": [
    "### 앙상블 학습이 개별 분류기보다 좋은 이유\n",
    "개별 분류기를 사용하게 되면 에러율이 높은 반면,  \n",
    "앙상블 학습이 실패하려면 반 이상의 분류기가 실패해야 하므로 에러율이 낮아지게 된다.  \n",
    "> 앙상블 학습의 오차 확률은 이항 분포의 확률 질량 함수로 표현할 수 있다."
   ]
  },
  {
   "cell_type": "code",
   "execution_count": 2,
   "metadata": {},
   "outputs": [],
   "source": [
    "from scipy.special import comb # nCx 구해주는 함수\n",
    "import math\n",
    "\n",
    "def ensemble_error(n_classifier, error):\n",
    "    \"\"\"\n",
    "    앙상블 학습 모델의 에러율을 구하는 함수\n",
    "    \n",
    "    Parameters\n",
    "    ----------\n",
    "    n_classifier : int, 분류기의 개수\n",
    "    error: float, 에러율\n",
    "    \"\"\"\n",
    "    \n",
    "    # k의 시작 위치를 계산\n",
    "    k_start = int(math.ceil(n_classifier / 2.))\n",
    "    probs = [comb(n_classifier, k) * error**k * (1-error)**(n_classifier - k)\n",
    "            for k in range(k_start, n_classifier+1)]\n",
    "    \n",
    "    return sum(probs)"
   ]
  },
  {
   "cell_type": "code",
   "execution_count": 3,
   "metadata": {},
   "outputs": [
    {
     "data": {
      "text/plain": [
       "0.03432750701904297"
      ]
     },
     "execution_count": 3,
     "metadata": {},
     "output_type": "execute_result"
    }
   ],
   "source": [
    "ensemble_error(n_classifier=11, error=0.25)"
   ]
  },
  {
   "cell_type": "markdown",
   "metadata": {},
   "source": [
    "확률 질량 함수는 scipy의 binom.cdf()함수를 이용하여 쉽게 구할 수 있다."
   ]
  },
  {
   "cell_type": "code",
   "execution_count": 9,
   "metadata": {},
   "outputs": [
    {
     "data": {
      "text/plain": [
       "0.03432750701904298"
      ]
     },
     "execution_count": 9,
     "metadata": {},
     "output_type": "execute_result"
    }
   ],
   "source": [
    "from scipy.stats import binom\n",
    "\n",
    "binom.cdf(5,11,0.75)"
   ]
  },
  {
   "cell_type": "markdown",
   "metadata": {},
   "source": [
    "에러가 0.0 ~ 1.0일 때 앙상블의 에러율과 개별 분류기의 에러를 시각화해보자."
   ]
  },
  {
   "cell_type": "code",
   "execution_count": 4,
   "metadata": {},
   "outputs": [],
   "source": [
    "import numpy as np\n",
    "\n",
    "# 0.0 ~ 1.0사이에 0.01간격으로 값이 들은 array 생성\n",
    "error_range = np.arange(0.0, 1.01, 0.01)\n",
    "ens_errors = [ensemble_error(n_classifier=11, error=error)\n",
    "             for error in error_range]"
   ]
  },
  {
   "cell_type": "code",
   "execution_count": 5,
   "metadata": {},
   "outputs": [],
   "source": [
    "import matplotlib.pyplot as plt"
   ]
  },
  {
   "cell_type": "code",
   "execution_count": 7,
   "metadata": {},
   "outputs": [
    {
     "data": {
      "image/png": "[encoded data removed]",
      "text/plain": [
       "<Figure size 432x288 with 1 Axes>"
      ]
     },
     "metadata": {
      "needs_background": "light"
     },
     "output_type": "display_data"
    }
   ],
   "source": [
    "# 앙상블 에러율\n",
    "plt.plot(error_range,\n",
    "        ens_errors,\n",
    "        label='Ensemble error',\n",
    "        linewidth=2)\n",
    "\n",
    "# 개별 분류기 에러율\n",
    "plt.plot(error_range,\n",
    "        error_range,\n",
    "        label='Base error',\n",
    "        linestyle='--',\n",
    "        linewidth=2)\n",
    "\n",
    "plt.xlabel('Base error')\n",
    "plt.ylabel('Base/Ensemble error')\n",
    "plt.legend(loc='upper left')\n",
    "plt.grid()\n",
    "plt.show()"
   ]
  },
  {
   "cell_type": "markdown",
   "metadata": {},
   "source": [
    "error율이 무작위 추측(0.5)보다 성능이 좋을 때 앙상블 학습이 에러율이 확실히 낮다."
   ]
  },
  {
   "cell_type": "markdown",
   "metadata": {},
   "source": [
    "### 다수결 투표를 사용한 분류 앙상블"
   ]
  },
  {
   "cell_type": "markdown",
   "metadata": {},
   "source": [
    "가중치가 더해진 다수결 투표"
   ]
  },
  {
   "cell_type": "code",
   "execution_count": 12,
   "metadata": {},
   "outputs": [
    {
     "data": {
      "text/plain": [
       "1"
      ]
     },
     "execution_count": 12,
     "metadata": {},
     "output_type": "execute_result"
    }
   ],
   "source": [
    "import numpy as np\n",
    "# argmax -> 최대값이 있는 곳의 index 반환\n",
    "# bincount -> []리스트 안에 있는 값들의 빈도를 그 값의 인덱스 위치에 넣어서 반환\n",
    "# weights가 주어지게 되면 count대신 그 웨이트 값들의 합을 반환\n",
    "np.argmax(np.bincount([0,0,1],\n",
    "                      weights=[0.2,0.2,0.6]))"
   ]
  },
  {
   "cell_type": "markdown",
   "metadata": {},
   "source": [
    "앙상블 분류기가 잘 calibration 되어있다면 클래스 레이블 대신 예측 클래스 확률을 사용하는 것이 좋다."
   ]
  },
  {
   "cell_type": "code",
   "execution_count": 14,
   "metadata": {},
   "outputs": [
    {
     "data": {
      "text/plain": [
       "array([0.58, 0.42])"
      ]
     },
     "execution_count": 14,
     "metadata": {},
     "output_type": "execute_result"
    }
   ],
   "source": [
    "ex = np.array([[0.9, 0.1],\n",
    "              [0.8, 0.2],\n",
    "              [0.4, 0.6]])\n",
    "\n",
    "p = np.average(ex, axis=0,\n",
    "              weights=[0.2, 0.2, 0.6])\n",
    "p"
   ]
  },
  {
   "cell_type": "code",
   "execution_count": 15,
   "metadata": {},
   "outputs": [
    {
     "data": {
      "text/plain": [
       "0"
      ]
     },
     "execution_count": 15,
     "metadata": {},
     "output_type": "execute_result"
    }
   ],
   "source": [
    "np.argmax(p)"
   ]
  },
  {
   "cell_type": "markdown",
   "metadata": {},
   "source": [
    "위의 것들을 모두 결합하여 MajorityVoteClassifier 파이썬 클래스를 구현해보자."
   ]
  },
  {
   "cell_type": "code",
   "execution_count": 16,
   "metadata": {},
   "outputs": [
    {
     "name": "stderr",
     "output_type": "stream",
     "text": [
      "C:\\Anaconda\\lib\\site-packages\\sklearn\\externals\\six.py:31: DeprecationWarning: The module is deprecated in version 0.21 and will be removed in version 0.23 since we've dropped support for Python 2.7. Please rely on the official version of six (https://pypi.org/project/six/).\n",
      "  \"(https://pypi.org/project/six/).\", DeprecationWarning)\n"
     ]
    }
   ],
   "source": [
    "from sklearn.base import BaseEstimator, ClassifierMixin, clone\n",
    "from sklearn.preprocessing import LabelEncoder\n",
    "from sklearn.externals import six\n",
    "from sklearn.pipeline import _name_estimators\n",
    "import numpy as np\n",
    "import operator"
   ]
  },
  {
   "cell_type": "code",
   "execution_count": 29,
   "metadata": {},
   "outputs": [],
   "source": [
    "class MajorityVoteClassifier(BaseEstimator, ClassifierMixin):\n",
    "    \"\"\"\n",
    "    다수결 투표 앙상블 분류기\n",
    "    \n",
    "    Parameters\n",
    "    ----------\n",
    "    classifiers: 배열 타입, 크기 =[n_classifiers]\n",
    "        앙상블에 사용할 분류기\n",
    "        \n",
    "    vote: str, {'classlabel', 'probability'}\n",
    "        기본값:'classlabel'\n",
    "        'classlabel'이면 예측은 다수인 클래스 레이블의 인덱스가 됩니다.\n",
    "        'probability'이면 확률 합이 가장 큰 인덱스로\n",
    "        클래스 레이블을 예측합니다(보정된 분류기에 추천합니다)\n",
    "        \n",
    "    weights: 배열 타입, 크기=[n_classifiers]\n",
    "        선택사항, 기본값:None\n",
    "        'int' 또는 'float' 값의 리스트가 주어지면 분류기가 이 중요도로 가중치 됩니다.\n",
    "        'weights=None'이면 동일하게 취급됩니다.\n",
    "    \"\"\"\n",
    "    \n",
    "    \n",
    "    def __init__(self, classifiers, vote='classlabel', weights=None):\n",
    "        \n",
    "        self.classifiers = classifiers\n",
    "        self.named_classifiers = {key:value for key, value in _name_estimators(classifiers)}\n",
    "        self.vote = vote\n",
    "        self.weights = weights\n",
    "        \n",
    "    def fit(self, X, y):\n",
    "        \"\"\"\n",
    "        분류기를 학습합니다.\n",
    "        \n",
    "        Parameters\n",
    "        ----------\n",
    "        X: {배열 타입, 희소 행렬},\n",
    "            크기 = [n_samples, n_features]\n",
    "            훈련 샘플 행렬\n",
    "        \n",
    "        y: 배열 타입\n",
    "            크기 = [n_samples]\n",
    "            타깃 클래스 레이블 벡터\n",
    "            \n",
    "        Return\n",
    "        ----------\n",
    "        self: 객체\n",
    "        \"\"\"\n",
    "        \n",
    "        if self.vote not in ('probability', 'classlabel'):\n",
    "            raise ValueError(\"vote는 'probability' 또는 'classlabel'이어야 합니다\"\n",
    "                            \"(vote = %r)이 입력 되었습니다\"\n",
    "                            % self.vote)\n",
    "            \n",
    "        if self.weights and len(self.weights) != len(self.classifiers):\n",
    "            raise ValueError('분류기의 개수와 가중치 개수는 동일해야 합니다.'\n",
    "                            '%d개의 가중치와, %d개의 분류기가 입력되었습니다.'\n",
    "                            % (len(self.weights), len(self.classifiers)))\n",
    "        \n",
    "        # predict 메서드에서 np.argmax 할 때 \n",
    "        # 클래스의 레이블이 0부터 시작해야 하므로 LabelEncoder를 사용한다.\n",
    "        self.lablenc_ = LabelEncoder()\n",
    "        self.lablenc_.fit(y)\n",
    "        self.classes_ = self.lablenc_.classes_\n",
    "        self.classifiers_ = []\n",
    "        # 각각의 classifier에 대하여 학습\n",
    "        for clf in self.classifiers:\n",
    "            fitted_clf = clone(clf).fit(X, self.lablenc_.transform(y))\n",
    "            self.classifiers_.append(fitted_clf)\n",
    "        return self\n",
    "    \n",
    "    \n",
    "    def predict(self, X):\n",
    "        \"\"\"\n",
    "        X에 대한 클래스 레이블을 예측합니다.\n",
    "        \n",
    "        Parameters\n",
    "        ----------\n",
    "        X:{배열 타입, 희소 행렬},\n",
    "            크기 = [n_sampels, n_features]\n",
    "            샘플 데이터 행렬\n",
    "            \n",
    "        Return\n",
    "        ----------\n",
    "        maj_vote : 배열 타입, 크기 = [n_samples]\n",
    "            예측된 클래스 레이블\n",
    "        \"\"\"\n",
    "        if self.vote == 'probability':\n",
    "            maj_vote = np.argmax(self.predict_proba(X), axis=1)\n",
    "        else:\n",
    "            predictions = np.asarray([clf.predict(X)\n",
    "                                     for clf in self.classifiers_]).T\n",
    "            \n",
    "            maj_vote = np.apply_along_axis(\n",
    "                                        lambda x:\n",
    "                                        np.argmax(np.bincount(x, weights=self.weights)),\n",
    "                                        axis=1,\n",
    "                                        arr = predictions)\n",
    "            \n",
    "        maj_vote = self.lablenc_.inverse_transform(maj_vote)\n",
    "        return maj_vote\n",
    "    \n",
    "    \n",
    "    def predict_proba(self, X):\n",
    "        \"\"\"\n",
    "        X에 대한 클래스 확률을 예측합니다.\n",
    "        \n",
    "        Parameter\n",
    "        ----------\n",
    "        X : {배열 타입, 희소 행렬},\n",
    "            크기 = [n_samples, n_features]\n",
    "            n_samples는 샘플의 개수이고, n_features는 특성의 개수입니다.\n",
    "        \n",
    "        Return\n",
    "        ----------\n",
    "        avg_proba : 배열 타입,\n",
    "            크기 = [n_samples, n_classes]\n",
    "            샘플마다 가중치가 적용된 클래스의 평균 확률\n",
    "        \"\"\"\n",
    "        \n",
    "        probas = np.asarray([clf.predict_proba(X)\n",
    "                            for clf in self.classifiers_])\n",
    "        \n",
    "        avg_probas = np.average(probas, axis=0, weights=self.weights)\n",
    "        return avg_probas\n",
    "    \n",
    "    \n",
    "    def get_params(self, deep=True):\n",
    "        \"\"\"GridSearch를 위해서 분류기의 매개 변수 이름을 반환합니다.\"\"\"\n",
    "        if not deep:\n",
    "            return super(MajorityVoteClassifier, self).get_params(deep=False)\n",
    "        else:\n",
    "            out = self.named_classifiers.copy()\n",
    "            for name, step in six.iteritems(self.named_classifiers):\n",
    "                for key, value in six.iteritems(step.get_params(deep=True)):\n",
    "                    out['%s__%s' % (name, key)] = value\n",
    "                    \n",
    "            return out"
   ]
  },
  {
   "cell_type": "code",
   "execution_count": 30,
   "metadata": {},
   "outputs": [],
   "source": [
    "from sklearn import datasets\n",
    "from sklearn.preprocessing import StandardScaler, LabelEncoder\n",
    "from sklearn.model_selection import train_test_split\n",
    "\n",
    "iris = datasets.load_iris()\n",
    "# iris-versicolor와 iris-virginica 클래스에 해당하는 샘플 분류\n",
    "# 꽃받침 너비와 꽃잎 길이 두개의 특성만 사용 \n",
    "X, y = iris.data[50:, [1,2]], iris.target[50:]\n",
    "le = LabelEncoder()\n",
    "y = le.fit_transform(y)\n",
    "\n",
    "X_train, X_test, y_train, y_test = \\\n",
    "                train_test_split(X,y,\n",
    "                                test_size=0.5,\n",
    "                                random_state=1,\n",
    "                                stratify=y)"
   ]
  },
  {
   "cell_type": "markdown",
   "metadata": {},
   "source": [
    "앙상블 학습을 하기 전 개별 모델에 대하여 성능을 체크해보자."
   ]
  },
  {
   "cell_type": "code",
   "execution_count": 31,
   "metadata": {},
   "outputs": [],
   "source": [
    "import numpy as np\n",
    "from sklearn.linear_model import LogisticRegression\n",
    "from sklearn.tree import DecisionTreeClassifier\n",
    "from sklearn.neighbors import KNeighborsClassifier\n",
    "from sklearn.pipeline import Pipeline\n",
    "from sklearn.model_selection import cross_val_score"
   ]
  },
  {
   "cell_type": "code",
   "execution_count": 32,
   "metadata": {},
   "outputs": [
    {
     "name": "stdout",
     "output_type": "stream",
     "text": [
      "10-겹 교차 검증: \n",
      "\n",
      "ROC AUC : 0.87 (+/- 0.17) [Logistic regression]\n",
      "ROC AUC : 0.89 (+/- 0.16) [Decision tree]\n",
      "ROC AUC : 0.88 (+/- 0.15) [KNN]\n"
     ]
    }
   ],
   "source": [
    "clf1 = LogisticRegression(solver='liblinear',\n",
    "                         penalty='l2',\n",
    "                         C=0.001,\n",
    "                         random_state=1)\n",
    "\n",
    "clf2 = DecisionTreeClassifier(max_depth=1,\n",
    "                             criterion='entropy',\n",
    "                             random_state=0)\n",
    "\n",
    "clf3 = KNeighborsClassifier(n_neighbors=1,\n",
    "                           p=2,\n",
    "                           metric='minkowski')\n",
    "\n",
    "pipe1 = Pipeline([('sc', StandardScaler()),\n",
    "                 ('clf', clf1)])\n",
    "pipe3 = Pipeline([('sc', StandardScaler()),\n",
    "                 ('clf', clf3)])\n",
    "\n",
    "clf_labels = ['Logistic regression', 'Decision tree', 'KNN']\n",
    "\n",
    "print('10-겹 교차 검증: \\n')\n",
    "for clf, label in zip([pipe1, clf2, pipe3], clf_labels):\n",
    "    scores = cross_val_score(estimator=clf,\n",
    "                            X=X_train,\n",
    "                            y=y_train,\n",
    "                            cv=10,\n",
    "                            scoring='roc_auc')\n",
    "    print(\"ROC AUC : %0.2f (+/- %0.2f) [%s]\"\n",
    "         %(scores.mean(), scores.std(), label))"
   ]
  },
  {
   "cell_type": "markdown",
   "metadata": {},
   "source": [
    "다수결 투표 포함하여 성능을 비교해보자"
   ]
  },
  {
   "cell_type": "code",
   "execution_count": 33,
   "metadata": {},
   "outputs": [
    {
     "name": "stdout",
     "output_type": "stream",
     "text": [
      "10-겹 교차 검증: \n",
      "\n",
      "ROC AUC : 0.87 (+/- 0.17) [Logistic regression]\n",
      "ROC AUC : 0.89 (+/- 0.16) [Decision tree]\n",
      "ROC AUC : 0.88 (+/- 0.15) [KNN]\n",
      "ROC AUC : 0.94 (+/- 0.13) [Majority voting]\n"
     ]
    }
   ],
   "source": [
    "mv_clf = MajorityVoteClassifier(classifiers=[pipe1, clf2, pipe3])\n",
    "\n",
    "clf_labels += ['Majority voting']\n",
    "all_clf = [pipe1, clf2, pipe3, mv_clf]\n",
    "\n",
    "print('10-겹 교차 검증: \\n')\n",
    "for clf, label in zip(all_clf, clf_labels):\n",
    "    scores = cross_val_score(estimator=clf,\n",
    "                            X=X_train,\n",
    "                            y=y_train,\n",
    "                            cv=10,\n",
    "                            scoring='roc_auc')\n",
    "    print(\"ROC AUC : %0.2f (+/- %0.2f) [%s]\"\n",
    "         %(scores.mean(), scores.std(), label))"
   ]
  },
  {
   "cell_type": "code",
   "execution_count": 34,
   "metadata": {},
   "outputs": [],
   "source": [
    "from sklearn.metrics import roc_curve, auc"
   ]
  },
  {
   "cell_type": "code",
   "execution_count": 38,
   "metadata": {},
   "outputs": [
    {
     "data": {
      "image/png": "[encoded data removed]",
      "text/plain": [
       "<Figure size 432x288 with 1 Axes>"
      ]
     },
     "metadata": {
      "needs_background": "light"
     },
     "output_type": "display_data"
    }
   ],
   "source": [
    "colors = ['black', 'orange', 'blue', 'green']\n",
    "linestyles = [':', '--', '-.', '-']\n",
    "for clf, label, clr, ls\\\n",
    "            in zip(all_clf, clf_labels, colors, linestyles):\n",
    "    \n",
    "    y_pred = clf.fit(X_train, y_train).predict_proba(X_test)[:,1]\n",
    "    fpr , tpr, thresholds = roc_curve(y_true=y_test, y_score=y_pred)\n",
    "    \n",
    "    roc_auc = auc(x=fpr, y=tpr)\n",
    "    plt.plot(fpr, tpr,\n",
    "            color=clr,\n",
    "            linestyle=ls,\n",
    "            label = '%s (auc = %0.2f)' %(label, roc_auc))\n",
    "    \n",
    "plt.legend(loc='lower right')\n",
    "plt.plot([0,1], [0,1],\n",
    "        linestyle='--',\n",
    "        color='gray',\n",
    "        linewidth=2)\n",
    "\n",
    "plt.xlim([-0.1, 1.1])\n",
    "plt.ylim([-0.1, 1.1])\n",
    "plt.grid(alpha=0.5)\n",
    "plt.xlabel('False positive rate(FPR)')\n",
    "plt.ylabel('True positive rate(TPR)')\n",
    "\n",
    "plt.show()"
   ]
  },
  {
   "cell_type": "code",
   "execution_count": 44,
   "metadata": {},
   "outputs": [],
   "source": [
    "sc = StandardScaler()\n",
    "X_train_std = sc.fit_transform(X_train)"
   ]
  },
  {
   "cell_type": "code",
   "execution_count": 48,
   "metadata": {},
   "outputs": [
    {
     "data": {
      "image/png": "[encoded data removed]",
      "text/plain": [
       "<Figure size 504x360 with 4 Axes>"
      ]
     },
     "metadata": {
      "needs_background": "light"
     },
     "output_type": "display_data"
    }
   ],
   "source": [
    "from itertools import product\n",
    "\n",
    "all_clf = [pipe1, clf2, pipe3, mv_clf]\n",
    "\n",
    "x_min = X_train_std[:, 0].min() - 1\n",
    "x_max = X_train_std[:, 0].max() + 1\n",
    "y_min = X_train_std[:, 1].min() - 1\n",
    "y_max = X_train_std[:, 1].max() + 1\n",
    "\n",
    "xx, yy = np.meshgrid(np.arange(x_min, x_max, 0.1),\n",
    "                    np.arange(y_min, y_max, 0.1))\n",
    "\n",
    "f, axarr = plt.subplots(nrows=2, ncols=2, \n",
    "                        sharex='col',\n",
    "                        sharey='row',\n",
    "                        figsize=(7,5))\n",
    "\n",
    "for idx, clf, tt in zip(product([0, 1], [0, 1]),\n",
    "                       all_clf, clf_labels):\n",
    "    clf.fit(X_train_std, y_train)\n",
    "    \n",
    "    Z = clf.predict(np.c_[xx.ravel(), yy.ravel()])\n",
    "    Z = Z.reshape(xx.shape)\n",
    "    \n",
    "    axarr[idx[0], idx[1]].contourf(xx, yy, Z, alpha=0.3)\n",
    "    \n",
    "    axarr[idx[0], idx[1]].scatter(X_train_std[y_train == 0, 0],\n",
    "                                 X_train_std[y_train == 0, 1],\n",
    "                                 c='blue',\n",
    "                                 marker = '^',\n",
    "                                 s=50)\n",
    "    \n",
    "    axarr[idx[0], idx[1]].scatter(X_train_std[y_train==1, 0],\n",
    "                                 X_train_std[y_train==1, 1],\n",
    "                                 c='green',\n",
    "                                 marker='o',\n",
    "                                 s=50)\n",
    "    \n",
    "    axarr[idx[0], idx[1]].set_title(tt)\n",
    "    \n",
    "plt.text(-3.5, -5.,\n",
    "        s='Sepal width [standardized]',\n",
    "        ha='center', va='center', fontsize=12)\n",
    "plt.text(-12.5, 4.5,\n",
    "        s='Petal length [standardized]',\n",
    "        ha='center', va='center',\n",
    "        fontsize=12, rotation=90)\n",
    "\n",
    "plt.show()\n"
   ]
  },
  {
   "cell_type": "markdown",
   "metadata": {},
   "source": [
    "GridSearchCV에서 어떻게 parameter에 접근할지 알아보기 위해 get_params()로 파라미터들을 확인해본다"
   ]
  },
  {
   "cell_type": "code",
   "execution_count": 49,
   "metadata": {
    "collapsed": true
   },
   "outputs": [
    {
     "data": {
      "text/plain": [
       "{'pipeline-1': Pipeline(memory=None,\n",
       "          steps=[('sc',\n",
       "                  StandardScaler(copy=True, with_mean=True, with_std=True)),\n",
       "                 ('clf',\n",
       "                  LogisticRegression(C=0.001, class_weight=None, dual=False,\n",
       "                                     fit_intercept=True, intercept_scaling=1,\n",
       "                                     l1_ratio=None, max_iter=100,\n",
       "                                     multi_class='warn', n_jobs=None,\n",
       "                                     penalty='l2', random_state=1,\n",
       "                                     solver='liblinear', tol=0.0001, verbose=0,\n",
       "                                     warm_start=False))],\n",
       "          verbose=False),\n",
       " 'decisiontreeclassifier': DecisionTreeClassifier(class_weight=None, criterion='entropy', max_depth=1,\n",
       "                        max_features=None, max_leaf_nodes=None,\n",
       "                        min_impurity_decrease=0.0, min_impurity_split=None,\n",
       "                        min_samples_leaf=1, min_samples_split=2,\n",
       "                        min_weight_fraction_leaf=0.0, presort=False,\n",
       "                        random_state=0, splitter='best'),\n",
       " 'pipeline-2': Pipeline(memory=None,\n",
       "          steps=[('sc',\n",
       "                  StandardScaler(copy=True, with_mean=True, with_std=True)),\n",
       "                 ('clf',\n",
       "                  KNeighborsClassifier(algorithm='auto', leaf_size=30,\n",
       "                                       metric='minkowski', metric_params=None,\n",
       "                                       n_jobs=None, n_neighbors=1, p=2,\n",
       "                                       weights='uniform'))],\n",
       "          verbose=False),\n",
       " 'pipeline-1__memory': None,\n",
       " 'pipeline-1__steps': [('sc',\n",
       "   StandardScaler(copy=True, with_mean=True, with_std=True)),\n",
       "  ('clf',\n",
       "   LogisticRegression(C=0.001, class_weight=None, dual=False, fit_intercept=True,\n",
       "                      intercept_scaling=1, l1_ratio=None, max_iter=100,\n",
       "                      multi_class='warn', n_jobs=None, penalty='l2',\n",
       "                      random_state=1, solver='liblinear', tol=0.0001, verbose=0,\n",
       "                      warm_start=False))],\n",
       " 'pipeline-1__verbose': False,\n",
       " 'pipeline-1__sc': StandardScaler(copy=True, with_mean=True, with_std=True),\n",
       " 'pipeline-1__clf': LogisticRegression(C=0.001, class_weight=None, dual=False, fit_intercept=True,\n",
       "                    intercept_scaling=1, l1_ratio=None, max_iter=100,\n",
       "                    multi_class='warn', n_jobs=None, penalty='l2',\n",
       "                    random_state=1, solver='liblinear', tol=0.0001, verbose=0,\n",
       "                    warm_start=False),\n",
       " 'pipeline-1__sc__copy': True,\n",
       " 'pipeline-1__sc__with_mean': True,\n",
       " 'pipeline-1__sc__with_std': True,\n",
       " 'pipeline-1__clf__C': 0.001,\n",
       " 'pipeline-1__clf__class_weight': None,\n",
       " 'pipeline-1__clf__dual': False,\n",
       " 'pipeline-1__clf__fit_intercept': True,\n",
       " 'pipeline-1__clf__intercept_scaling': 1,\n",
       " 'pipeline-1__clf__l1_ratio': None,\n",
       " 'pipeline-1__clf__max_iter': 100,\n",
       " 'pipeline-1__clf__multi_class': 'warn',\n",
       " 'pipeline-1__clf__n_jobs': None,\n",
       " 'pipeline-1__clf__penalty': 'l2',\n",
       " 'pipeline-1__clf__random_state': 1,\n",
       " 'pipeline-1__clf__solver': 'liblinear',\n",
       " 'pipeline-1__clf__tol': 0.0001,\n",
       " 'pipeline-1__clf__verbose': 0,\n",
       " 'pipeline-1__clf__warm_start': False,\n",
       " 'decisiontreeclassifier__class_weight': None,\n",
       " 'decisiontreeclassifier__criterion': 'entropy',\n",
       " 'decisiontreeclassifier__max_depth': 1,\n",
       " 'decisiontreeclassifier__max_features': None,\n",
       " 'decisiontreeclassifier__max_leaf_nodes': None,\n",
       " 'decisiontreeclassifier__min_impurity_decrease': 0.0,\n",
       " 'decisiontreeclassifier__min_impurity_split': None,\n",
       " 'decisiontreeclassifier__min_samples_leaf': 1,\n",
       " 'decisiontreeclassifier__min_samples_split': 2,\n",
       " 'decisiontreeclassifier__min_weight_fraction_leaf': 0.0,\n",
       " 'decisiontreeclassifier__presort': False,\n",
       " 'decisiontreeclassifier__random_state': 0,\n",
       " 'decisiontreeclassifier__splitter': 'best',\n",
       " 'pipeline-2__memory': None,\n",
       " 'pipeline-2__steps': [('sc',\n",
       "   StandardScaler(copy=True, with_mean=True, with_std=True)),\n",
       "  ('clf',\n",
       "   KNeighborsClassifier(algorithm='auto', leaf_size=30, metric='minkowski',\n",
       "                        metric_params=None, n_jobs=None, n_neighbors=1, p=2,\n",
       "                        weights='uniform'))],\n",
       " 'pipeline-2__verbose': False,\n",
       " 'pipeline-2__sc': StandardScaler(copy=True, with_mean=True, with_std=True),\n",
       " 'pipeline-2__clf': KNeighborsClassifier(algorithm='auto', leaf_size=30, metric='minkowski',\n",
       "                      metric_params=None, n_jobs=None, n_neighbors=1, p=2,\n",
       "                      weights='uniform'),\n",
       " 'pipeline-2__sc__copy': True,\n",
       " 'pipeline-2__sc__with_mean': True,\n",
       " 'pipeline-2__sc__with_std': True,\n",
       " 'pipeline-2__clf__algorithm': 'auto',\n",
       " 'pipeline-2__clf__leaf_size': 30,\n",
       " 'pipeline-2__clf__metric': 'minkowski',\n",
       " 'pipeline-2__clf__metric_params': None,\n",
       " 'pipeline-2__clf__n_jobs': None,\n",
       " 'pipeline-2__clf__n_neighbors': 1,\n",
       " 'pipeline-2__clf__p': 2,\n",
       " 'pipeline-2__clf__weights': 'uniform'}"
      ]
     },
     "execution_count": 49,
     "metadata": {},
     "output_type": "execute_result"
    }
   ],
   "source": [
    "mv_clf.get_params()"
   ]
  },
  {
   "cell_type": "code",
   "execution_count": 50,
   "metadata": {},
   "outputs": [],
   "source": [
    "from sklearn.model_selection import GridSearchCV"
   ]
  },
  {
   "cell_type": "code",
   "execution_count": 52,
   "metadata": {},
   "outputs": [
    {
     "name": "stdout",
     "output_type": "stream",
     "text": [
      "0.944 +/- 0.07 {'decisiontreeclassifier__max_depth': 1, 'pipeline-1__clf__C': 0.001}\n",
      "0.956 +/- 0.07 {'decisiontreeclassifier__max_depth': 1, 'pipeline-1__clf__C': 0.1}\n",
      "0.978 +/- 0.03 {'decisiontreeclassifier__max_depth': 1, 'pipeline-1__clf__C': 100.0}\n",
      "0.956 +/- 0.07 {'decisiontreeclassifier__max_depth': 2, 'pipeline-1__clf__C': 0.001}\n",
      "0.956 +/- 0.07 {'decisiontreeclassifier__max_depth': 2, 'pipeline-1__clf__C': 0.1}\n",
      "0.978 +/- 0.03 {'decisiontreeclassifier__max_depth': 2, 'pipeline-1__clf__C': 100.0}\n"
     ]
    }
   ],
   "source": [
    "params = {'decisiontreeclassifier__max_depth': [1, 2],\n",
    "          'pipeline-1__clf__C': [0.001, 0.1, 100.0]}\n",
    "\n",
    "grid = GridSearchCV(estimator=mv_clf,\n",
    "                    param_grid=params,\n",
    "                    cv=10,\n",
    "                    scoring='roc_auc',\n",
    "                    iid=False)\n",
    "grid.fit(X_train, y_train)\n",
    "\n",
    "for r, _ in enumerate(grid.cv_results_['mean_test_score']):\n",
    "    print(\"%0.3f +/- %0.2f %r\"\n",
    "          % (grid.cv_results_['mean_test_score'][r], \n",
    "             grid.cv_results_['std_test_score'][r] / 2.0, \n",
    "             grid.cv_results_['params'][r]))"
   ]
  },
  {
   "cell_type": "markdown",
   "metadata": {},
   "source": [
    "최적의 파라미터와 그 때의 정확도 확인"
   ]
  },
  {
   "cell_type": "code",
   "execution_count": 53,
   "metadata": {},
   "outputs": [
    {
     "name": "stdout",
     "output_type": "stream",
     "text": [
      "최적의 매개변수 : {'decisiontreeclassifier__max_depth': 1, 'pipeline-1__clf__C': 100.0}\n",
      "정확도 : 0.98\n"
     ]
    }
   ],
   "source": [
    "print('최적의 매개변수 : %s' % grid.best_params_)\n",
    "print('정확도 : %.2f' % grid.best_score_)"
   ]
  },
  {
   "cell_type": "code",
   "execution_count": 55,
   "metadata": {},
   "outputs": [
    {
     "data": {
      "text/plain": [
       "[Pipeline(memory=None,\n",
       "          steps=[('sc',\n",
       "                  StandardScaler(copy=True, with_mean=True, with_std=True)),\n",
       "                 ('clf',\n",
       "                  LogisticRegression(C=100.0, class_weight=None, dual=False,\n",
       "                                     fit_intercept=True, intercept_scaling=1,\n",
       "                                     l1_ratio=None, max_iter=100,\n",
       "                                     multi_class='warn', n_jobs=None,\n",
       "                                     penalty='l2', random_state=1,\n",
       "                                     solver='liblinear', tol=0.0001, verbose=0,\n",
       "                                     warm_start=False))],\n",
       "          verbose=False),\n",
       " DecisionTreeClassifier(class_weight=None, criterion='entropy', max_depth=1,\n",
       "                        max_features=None, max_leaf_nodes=None,\n",
       "                        min_impurity_decrease=0.0, min_impurity_split=None,\n",
       "                        min_samples_leaf=1, min_samples_split=2,\n",
       "                        min_weight_fraction_leaf=0.0, presort=False,\n",
       "                        random_state=0, splitter='best'),\n",
       " Pipeline(memory=None,\n",
       "          steps=[('sc',\n",
       "                  StandardScaler(copy=True, with_mean=True, with_std=True)),\n",
       "                 ('clf',\n",
       "                  KNeighborsClassifier(algorithm='auto', leaf_size=30,\n",
       "                                       metric='minkowski', metric_params=None,\n",
       "                                       n_jobs=None, n_neighbors=1, p=2,\n",
       "                                       weights='uniform'))],\n",
       "          verbose=False)]"
      ]
     },
     "execution_count": 55,
     "metadata": {},
     "output_type": "execute_result"
    }
   ],
   "source": [
    "grid.best_estimator_.classifiers"
   ]
  },
  {
   "cell_type": "code",
   "execution_count": 56,
   "metadata": {},
   "outputs": [],
   "source": [
    "mv_clf = grid.best_estimator_"
   ]
  },
  {
   "cell_type": "code",
   "execution_count": 58,
   "metadata": {},
   "outputs": [
    {
     "data": {
      "text/plain": [
       "MajorityVoteClassifier(classifiers=[Pipeline(memory=None,\n",
       "                                             steps=[('sc',\n",
       "                                                     StandardScaler(copy=True,\n",
       "                                                                    with_mean=True,\n",
       "                                                                    with_std=True)),\n",
       "                                                    ('clf',\n",
       "                                                     LogisticRegression(C=100.0,\n",
       "                                                                        class_weight=None,\n",
       "                                                                        dual=False,\n",
       "                                                                        fit_intercept=True,\n",
       "                                                                        intercept_scaling=1,\n",
       "                                                                        l1_ratio=None,\n",
       "                                                                        max_iter=100,\n",
       "                                                                        multi_class='warn',\n",
       "                                                                        n_jobs=None,\n",
       "                                                                        penalty='l2',\n",
       "                                                                        random_state=1,\n",
       "                                                                        solver='liblinear',\n",
       "                                                                        tol=0.0001,\n",
       "                                                                        verbos...\n",
       "                                                           min_weight_fraction_leaf=0.0,\n",
       "                                                           presort=False,\n",
       "                                                           random_state=0,\n",
       "                                                           splitter='best'),\n",
       "                                    Pipeline(memory=None,\n",
       "                                             steps=[('sc',\n",
       "                                                     StandardScaler(copy=True,\n",
       "                                                                    with_mean=True,\n",
       "                                                                    with_std=True)),\n",
       "                                                    ('clf',\n",
       "                                                     KNeighborsClassifier(algorithm='auto',\n",
       "                                                                          leaf_size=30,\n",
       "                                                                          metric='minkowski',\n",
       "                                                                          metric_params=None,\n",
       "                                                                          n_jobs=None,\n",
       "                                                                          n_neighbors=1,\n",
       "                                                                          p=2,\n",
       "                                                                          weights='uniform'))],\n",
       "                                             verbose=False)],\n",
       "                       vote='classlabel', weights=None)"
      ]
     },
     "execution_count": 58,
     "metadata": {},
     "output_type": "execute_result"
    }
   ],
   "source": [
    "mv_clf.set_params(**grid.best_estimator_.get_params())"
   ]
  },
  {
   "cell_type": "code",
   "execution_count": 59,
   "metadata": {},
   "outputs": [
    {
     "data": {
      "text/plain": [
       "MajorityVoteClassifier(classifiers=[Pipeline(memory=None,\n",
       "                                             steps=[('sc',\n",
       "                                                     StandardScaler(copy=True,\n",
       "                                                                    with_mean=True,\n",
       "                                                                    with_std=True)),\n",
       "                                                    ('clf',\n",
       "                                                     LogisticRegression(C=100.0,\n",
       "                                                                        class_weight=None,\n",
       "                                                                        dual=False,\n",
       "                                                                        fit_intercept=True,\n",
       "                                                                        intercept_scaling=1,\n",
       "                                                                        l1_ratio=None,\n",
       "                                                                        max_iter=100,\n",
       "                                                                        multi_class='warn',\n",
       "                                                                        n_jobs=None,\n",
       "                                                                        penalty='l2',\n",
       "                                                                        random_state=1,\n",
       "                                                                        solver='liblinear',\n",
       "                                                                        tol=0.0001,\n",
       "                                                                        verbos...\n",
       "                                                           min_weight_fraction_leaf=0.0,\n",
       "                                                           presort=False,\n",
       "                                                           random_state=0,\n",
       "                                                           splitter='best'),\n",
       "                                    Pipeline(memory=None,\n",
       "                                             steps=[('sc',\n",
       "                                                     StandardScaler(copy=True,\n",
       "                                                                    with_mean=True,\n",
       "                                                                    with_std=True)),\n",
       "                                                    ('clf',\n",
       "                                                     KNeighborsClassifier(algorithm='auto',\n",
       "                                                                          leaf_size=30,\n",
       "                                                                          metric='minkowski',\n",
       "                                                                          metric_params=None,\n",
       "                                                                          n_jobs=None,\n",
       "                                                                          n_neighbors=1,\n",
       "                                                                          p=2,\n",
       "                                                                          weights='uniform'))],\n",
       "                                             verbose=False)],\n",
       "                       vote='classlabel', weights=None)"
      ]
     },
     "execution_count": 59,
     "metadata": {},
     "output_type": "execute_result"
    }
   ],
   "source": [
    "mv_clf"
   ]
  },
  {
   "cell_type": "markdown",
   "metadata": {},
   "source": [
    "## 배깅 : 부트스트랩 샘플링을 통한 분류 앙상블\n",
    "배깅은 중복을 허락하여 부트스트랩을 랜덤 샘플링해서 학습을 시킨다.  \n",
    "실제로 더 고차원 데이터셋을 이용할 경우 단일 결정 트리는 쉽게 과대 적합된다.  \n",
    "이런 경우에 배깅 알고리즘이 적합하다.  \n",
    "배깅은 모델의 분산을 감소시키는 적절한 방법이지만 편향을 해결하기는 어렵다."
   ]
  },
  {
   "cell_type": "markdown",
   "metadata": {},
   "source": [
    "### 배깅으로 Wine 데이터셋의 샘플 분류하기"
   ]
  },
  {
   "cell_type": "code",
   "execution_count": 61,
   "metadata": {},
   "outputs": [],
   "source": [
    "import pandas as pd\n",
    "\n",
    "df_wine = pd.read_csv('https://archive.ics.uci.edu/ml/'\n",
    "                      'machine-learning-databases/wine/wine.data',\n",
    "                      header=None)\n",
    "df_wine.columns = ['Class label', 'Alcohol', 'Malic acid', 'Ash',\n",
    "                   'Alcalinity of ash', 'Magnesium', 'Total phenols',\n",
    "                   'Flavanoids', 'Nonflavanoid phenols', 'Proanthocyanins',\n",
    "                   'Color intensity', 'Hue', 'OD280/OD315 of diluted wines',\n",
    "                   'Proline']\n",
    "\n",
    "df_wine = df_wine[df_wine['Class label'] != 1]\n",
    "\n",
    "y = df_wine['Class label'].values\n",
    "X = df_wine[['Alcohol', 'OD280/OD315 of diluted wines']].values"
   ]
  },
  {
   "cell_type": "code",
   "execution_count": 62,
   "metadata": {},
   "outputs": [],
   "source": [
    "from sklearn.preprocessing import LabelEncoder\n",
    "from sklearn.model_selection import train_test_split\n",
    "\n",
    "le = LabelEncoder()\n",
    "y = le.fit_transform(y)\n",
    "\n",
    "X_train, X_test, y_train, y_test = \\\n",
    "        train_test_split(X, y,\n",
    "                        test_size=0.2,\n",
    "                        random_state=1,\n",
    "                        stratify=y)"
   ]
  },
  {
   "cell_type": "code",
   "execution_count": 63,
   "metadata": {},
   "outputs": [],
   "source": [
    "from sklearn.ensemble import BaggingClassifier\n",
    "from sklearn.tree import DecisionTreeClassifier\n",
    "\n",
    "tree = DecisionTreeClassifier(criterion='entropy',\n",
    "                             max_depth=None,\n",
    "                             random_state=1)\n",
    "\n",
    "bag = BaggingClassifier(base_estimator=tree,\n",
    "                       n_estimators=500,\n",
    "                       max_samples=1.0,\n",
    "                       max_features=1.0,\n",
    "                       bootstrap=True,\n",
    "                       bootstrap_features=False,\n",
    "                       n_jobs=1,\n",
    "                       random_state=1)"
   ]
  },
  {
   "cell_type": "markdown",
   "metadata": {},
   "source": [
    "DecisionTree와 Bagging의 성능 비교"
   ]
  },
  {
   "cell_type": "code",
   "execution_count": 64,
   "metadata": {},
   "outputs": [
    {
     "name": "stdout",
     "output_type": "stream",
     "text": [
      "결정 트리의 훈련 정확도/테스트 정확도 1.000/0.833\n"
     ]
    }
   ],
   "source": [
    "from sklearn.metrics import accuracy_score\n",
    "\n",
    "tree = tree.fit(X_train, y_train)\n",
    "y_train_pred = tree.predict(X_train)\n",
    "y_test_pred = tree.predict(X_test)\n",
    "\n",
    "tree_train = accuracy_score(y_train, y_train_pred)\n",
    "tree_test = accuracy_score(y_test, y_test_pred)\n",
    "print('결정 트리의 훈련 정확도/테스트 정확도 %.3f/%.3f'\n",
    "     %(tree_train, tree_test))"
   ]
  },
  {
   "cell_type": "code",
   "execution_count": 65,
   "metadata": {},
   "outputs": [
    {
     "name": "stdout",
     "output_type": "stream",
     "text": [
      "배깅의 훈련 정확도/테스트 정확도 1.000/0.917\n"
     ]
    }
   ],
   "source": [
    "bag = bag.fit(X_train, y_train)\n",
    "y_train_pred = bag.predict(X_train)\n",
    "y_test_pred = bag.predict(X_test)\n",
    "\n",
    "bag_train = accuracy_score(y_train, y_train_pred)\n",
    "bag_test = accuracy_score(y_test, y_test_pred)\n",
    "print('배깅의 훈련 정확도/테스트 정확도 %.3f/%.3f'\n",
    "     %(bag_train, bag_test))"
   ]
  },
  {
   "cell_type": "markdown",
   "metadata": {},
   "source": [
    "결정트리와 배깅의 결정 경계를 비교해보자."
   ]
  },
  {
   "cell_type": "code",
   "execution_count": 66,
   "metadata": {},
   "outputs": [],
   "source": [
    "import numpy as np\n",
    "import matplotlib.pyplot as plt"
   ]
  },
  {
   "cell_type": "code",
   "execution_count": 67,
   "metadata": {},
   "outputs": [
    {
     "data": {
      "image/png": "[encoded data removed]",
      "text/plain": [
       "<Figure size 576x216 with 2 Axes>"
      ]
     },
     "metadata": {
      "needs_background": "light"
     },
     "output_type": "display_data"
    }
   ],
   "source": [
    "x_min = X_train[:, 0].min() - 1\n",
    "x_max = X_train[:, 0].max() + 1\n",
    "y_min = X_train[:, 1].min() - 1\n",
    "y_max = X_train[:, 1].max() + 1\n",
    "\n",
    "xx, yy = np.meshgrid(np.arange(x_min, x_max, 0.1),\n",
    "                    np.arange(y_min, y_max, 0.1))\n",
    "\n",
    "f, axarr = plt.subplots(nrows=1, ncols=2,\n",
    "                       sharex='col',\n",
    "                       sharey='row',\n",
    "                       figsize=(8,3))\n",
    "\n",
    "\n",
    "for idx, clf, tt in zip([0, 1],\n",
    "                       [tree, bag],\n",
    "                       ['Decision tree', 'Bagging']):\n",
    "    \n",
    "    clf.fit(X_train, y_train)\n",
    "    \n",
    "    Z = clf.predict(np.c_[xx.ravel(), yy.ravel()])\n",
    "    Z = Z.reshape(xx.shape)\n",
    "    \n",
    "    axarr[idx].contourf(xx, yy, Z, alpha=0.3)\n",
    "    axarr[idx].scatter(X_train[y_train == 0, 0],\n",
    "                      X_train[y_train == 0, 1],\n",
    "                      c='blue', marker='^')\n",
    "    axarr[idx].scatter(X_train[y_train == 1, 0],\n",
    "                      X_train[y_train == 1, 1],\n",
    "                      c='green', marker='o')\n",
    "    axarr[idx].set_title(tt)\n",
    "    \n",
    "axarr[0].set_ylabel('Alcohol', fontsize=12)\n",
    "plt.text(10.2, -0.5,\n",
    "        s='OD280/OD315 of diluted wines',\n",
    "        ha='center', va='center', fontsize=12)\n",
    "\n",
    "plt.tight_layout()\n",
    "plt.show()"
   ]
  },
  {
   "cell_type": "markdown",
   "metadata": {},
   "source": [
    "## 약한 학습기를 이용한 에이다부스트\n",
    "부스트는 중복을 허락하지 않고 샘플링을 하여 약한 학습기에 학습을 시키고 제대로 분류해내지 못한 샘플을 다음 학습기의 샘플로 넣는 방식이다."
   ]
  },
  {
   "cell_type": "markdown",
   "metadata": {},
   "source": [
    "### 사이킷런에서 에이다부스트 사용하기"
   ]
  },
  {
   "cell_type": "code",
   "execution_count": 68,
   "metadata": {},
   "outputs": [],
   "source": [
    "from sklearn.ensemble import AdaBoostClassifier\n",
    "\n",
    "tree = DecisionTreeClassifier(criterion='entropy',\n",
    "                             max_depth=1,\n",
    "                             random_state=1)\n",
    "\n",
    "ada = AdaBoostClassifier(base_estimator=tree,\n",
    "                        n_estimators=500,\n",
    "                        learning_rate=0.1,\n",
    "                        random_state=1)"
   ]
  },
  {
   "cell_type": "code",
   "execution_count": 70,
   "metadata": {},
   "outputs": [
    {
     "name": "stdout",
     "output_type": "stream",
     "text": [
      "결정 트리의 훈련 정확도/테스트 정확도 0.916/0.875\n",
      "에이다부스트의 훈련 정확도/테스트 정확도 1.000/0.917\n"
     ]
    }
   ],
   "source": [
    "tree = tree.fit(X_train, y_train)\n",
    "y_train_pred = tree.predict(X_train)\n",
    "y_test_pred = tree.predict(X_test)\n",
    "\n",
    "tree_train = accuracy_score(y_train, y_train_pred)\n",
    "tree_test = accuracy_score(y_test, y_test_pred)\n",
    "\n",
    "print('결정 트리의 훈련 정확도/테스트 정확도 %.3f/%.3f'\n",
    "     %(tree_train, tree_test))\n",
    "\n",
    "ada = ada.fit(X_train, y_train)\n",
    "y_train_pred = ada.predict(X_train)\n",
    "y_test_pred = ada.predict(X_test)\n",
    "\n",
    "ada_train = accuracy_score(y_train, y_train_pred)\n",
    "ada_test = accuracy_score(y_test, y_test_pred)\n",
    "print('에이다부스트의 훈련 정확도/테스트 정확도 %.3f/%.3f'\n",
    "     %(ada_train, ada_test))"
   ]
  },
  {
   "cell_type": "markdown",
   "metadata": {},
   "source": [
    "에이다부스트를 사용했을 때의 결정 경계를 그려보자"
   ]
  },
  {
   "cell_type": "code",
   "execution_count": 71,
   "metadata": {},
   "outputs": [
    {
     "data": {
      "image/png": "[encoded data removed]",
      "text/plain": [
       "<Figure size 576x216 with 2 Axes>"
      ]
     },
     "metadata": {
      "needs_background": "light"
     },
     "output_type": "display_data"
    }
   ],
   "source": [
    "x_min, x_max = X_train[:,0].min() - 1, X_train[:,0].max() + 1\n",
    "y_min, y_max = X_train[:,1].min() - 1, X_train[:,1].max() + 1\n",
    "\n",
    "xx, yy = np.meshgrid(np.arange(x_min, x_max, 0.1),\n",
    "                    np.arange(y_min, y_max, 0.1))\n",
    "\n",
    "# subplots(nrows, ncols, sharex, sharey) -> fig, ax(Axes : array)\n",
    "f, axarr = plt.subplots(1, 2, sharex='col', sharey='row', figsize=(8,3))\n",
    "\n",
    "\n",
    "for idx, clf, tt in zip([0,1],\n",
    "                       [tree, ada],\n",
    "                       ['Decision tree', 'AdaBoost']):\n",
    "    clf.fit(X_train, y_train)\n",
    "    \n",
    "    # np.c_ : column stack 옆으로 붙여준다.\n",
    "    Z = clf.predict(np.c_[xx.ravel(), yy.ravel()])\n",
    "    Z = Z.reshape(xx.shape)\n",
    "    \n",
    "    axarr[idx].contourf(xx, yy, Z, alpha=0.3)\n",
    "    axarr[idx].scatter(X_train[y_train==0, 0],\n",
    "                      X_train[y_train==0, 1],\n",
    "                      c='blue', marker='^')\n",
    "    axarr[idx].set_title(tt)\n",
    "    \n",
    "axarr[0].set_ylabel('Alcohol', fontsize=12)\n",
    "plt.text(10.2, -0.5,\n",
    "        s='OD280/OD315 of diluted wines',\n",
    "        ha='center', va='center', fontsize=12)\n",
    "\n",
    "plt.tight_layout()\n",
    "plt.show()"
   ]
  },
  {
   "cell_type": "markdown",
   "metadata": {},
   "source": [
    "#### GradientBoostingClassifier\n",
    "- 배깅이랑 유사하게 나타난다"
   ]
  },
  {
   "cell_type": "code",
   "execution_count": 72,
   "metadata": {},
   "outputs": [],
   "source": [
    "from sklearn.ensemble import GradientBoostingClassifier"
   ]
  },
  {
   "cell_type": "code",
   "execution_count": 73,
   "metadata": {},
   "outputs": [
    {
     "name": "stdout",
     "output_type": "stream",
     "text": [
      "앙상블에 사용한 트리 개수 20\n",
      "그래디언트 부스팅 train/test 정확도 1.000/0.917\n"
     ]
    }
   ],
   "source": [
    "gbrt = GradientBoostingClassifier(n_estimators=20, random_state=42)\n",
    "\n",
    "gbrt.fit(X_train, y_train)\n",
    "gbrt_train_score = gbrt.score(X_train, y_train)\n",
    "gbrt_test_score = gbrt.score(X_test, y_test)\n",
    "\n",
    "print('앙상블에 사용한 트리 개수 %d' % gbrt.n_estimators_)\n",
    "print('그래디언트 부스팅 train/test 정확도 %.3f/%.3f'\n",
    "     % (gbrt_train_score, gbrt_test_score))"
   ]
  },
  {
   "cell_type": "code",
   "execution_count": 75,
   "metadata": {},
   "outputs": [
    {
     "data": {
      "image/png": "[encoded data removed]",
      "text/plain": [
       "<Figure size 576x216 with 2 Axes>"
      ]
     },
     "metadata": {
      "needs_background": "light"
     },
     "output_type": "display_data"
    }
   ],
   "source": [
    "x_min, x_max = X_train[:,0].min() - 1, X_train[:, 0].max() + 1\n",
    "y_min, y_max = X_train[:, 1].min() - 1, X_train[:, 1].max() + 1\n",
    "xx, yy = np.meshgrid(np.arange(x_min, x_max, 0.1),\n",
    "                    np.arange(y_min, y_max, 0.1))\n",
    "\n",
    "f, axarr = plt.subplots(1,2, sharex='col', sharey='row', figsize=(8,3))\n",
    "\n",
    "\n",
    "for idx, clf, tt in zip([0,1],\n",
    "                       [tree,gbrt],\n",
    "                       ['Decision tree', \"GradientBoosting\"]):\n",
    "    clf.fit(X_train, y_train)\n",
    "    \n",
    "    Z = clf.predict(np.c_[xx.ravel(), yy.ravel()])\n",
    "    Z = Z.reshape(xx.shape)\n",
    "    \n",
    "    axarr[idx].contourf(xx, yy, Z, alpha=0.3)\n",
    "    axarr[idx].scatter(X_train[y_train==0, 0],\n",
    "                      X_train[y_train==0, 1],\n",
    "                      c='blue', marker='^')\n",
    "    axarr[idx].scatter(X_train[y_train==1, 0],\n",
    "                      X_train[y_train==1, 1],\n",
    "                      c='green', marker='o')\n",
    "    axarr[idx].set_title(tt)\n",
    "    \n",
    "axarr[0].set_ylabel('Alcohol', fontsize=12)\n",
    "plt.text(10.2, -0.5,\n",
    "        s='OD280/OD315 of diluted wines',\n",
    "        ha='center', va='center', fontsize=12)\n",
    "\n",
    "plt.tight_layout()\n",
    "plt.show()"
   ]
  },
  {
   "cell_type": "code",
   "execution_count": null,
   "metadata": {},
   "outputs": [],
   "source": []
  }
 ],
 "metadata": {
  "kernelspec": {
   "display_name": "Python 3",
   "language": "python",
   "name": "python3"
  },
  "language_info": {
   "codemirror_mode": {
    "name": "ipython",
    "version": 3
   },
   "file_extension": ".py",
   "mimetype": "text/x-python",
   "name": "python",
   "nbconvert_exporter": "python",
   "pygments_lexer": "ipython3",
   "version": "3.7.3"
  }
 },
 "nbformat": 4,
 "nbformat_minor": 2
}
