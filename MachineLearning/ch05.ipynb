{
 "cells": [
  {
   "cell_type": "code",
   "execution_count": 1,
   "metadata": {},
   "outputs": [
    {
     "name": "stdout",
     "output_type": "stream",
     "text": [
      "JaeEunPark \n",
      "last updated: 2019-08-04 \n",
      "\n",
      "numpy 1.16.2\n",
      "pandas 0.24.2\n",
      "cipy not installed\n",
      "matplotlib 3.0.3\n",
      "sklearn 0.20.3\n"
     ]
    }
   ],
   "source": [
    "%load_ext watermark\n",
    "%watermark -a JaeEunPark -u -d -p numpy,pandas,cipy,matplotlib,sklearn"
   ]
  },
  {
   "cell_type": "code",
   "execution_count": 30,
   "metadata": {},
   "outputs": [],
   "source": [
    "import pandas as pd"
   ]
  },
  {
   "cell_type": "code",
   "execution_count": 63,
   "metadata": {},
   "outputs": [
    {
     "data": {
      "text/html": [
       "<div>\n",
       "<style scoped>\n",
       "    .dataframe tbody tr th:only-of-type {\n",
       "        vertical-align: middle;\n",
       "    }\n",
       "\n",
       "    .dataframe tbody tr th {\n",
       "        vertical-align: top;\n",
       "    }\n",
       "\n",
       "    .dataframe thead th {\n",
       "        text-align: right;\n",
       "    }\n",
       "</style>\n",
       "<table border=\"1\" class=\"dataframe\">\n",
       "  <thead>\n",
       "    <tr style=\"text-align: right;\">\n",
       "      <th></th>\n",
       "      <th>Class label</th>\n",
       "      <th>Alcohol</th>\n",
       "      <th>Malic acid</th>\n",
       "      <th>Ash</th>\n",
       "      <th>Alcalinity of ash</th>\n",
       "      <th>Magnesium</th>\n",
       "      <th>Total phenols</th>\n",
       "      <th>Flavanoids</th>\n",
       "      <th>Nonflavanoid phenols</th>\n",
       "      <th>Proanthocyanins</th>\n",
       "      <th>Color intensity</th>\n",
       "      <th>Hue</th>\n",
       "      <th>OD280/OD315 of diluted wines</th>\n",
       "      <th>Proline</th>\n",
       "    </tr>\n",
       "  </thead>\n",
       "  <tbody>\n",
       "    <tr>\n",
       "      <th>0</th>\n",
       "      <td>1</td>\n",
       "      <td>14.23</td>\n",
       "      <td>1.71</td>\n",
       "      <td>2.43</td>\n",
       "      <td>15.6</td>\n",
       "      <td>127</td>\n",
       "      <td>2.80</td>\n",
       "      <td>3.06</td>\n",
       "      <td>0.28</td>\n",
       "      <td>2.29</td>\n",
       "      <td>5.64</td>\n",
       "      <td>1.04</td>\n",
       "      <td>3.92</td>\n",
       "      <td>1065</td>\n",
       "    </tr>\n",
       "    <tr>\n",
       "      <th>1</th>\n",
       "      <td>1</td>\n",
       "      <td>13.20</td>\n",
       "      <td>1.78</td>\n",
       "      <td>2.14</td>\n",
       "      <td>11.2</td>\n",
       "      <td>100</td>\n",
       "      <td>2.65</td>\n",
       "      <td>2.76</td>\n",
       "      <td>0.26</td>\n",
       "      <td>1.28</td>\n",
       "      <td>4.38</td>\n",
       "      <td>1.05</td>\n",
       "      <td>3.40</td>\n",
       "      <td>1050</td>\n",
       "    </tr>\n",
       "    <tr>\n",
       "      <th>2</th>\n",
       "      <td>1</td>\n",
       "      <td>13.16</td>\n",
       "      <td>2.36</td>\n",
       "      <td>2.67</td>\n",
       "      <td>18.6</td>\n",
       "      <td>101</td>\n",
       "      <td>2.80</td>\n",
       "      <td>3.24</td>\n",
       "      <td>0.30</td>\n",
       "      <td>2.81</td>\n",
       "      <td>5.68</td>\n",
       "      <td>1.03</td>\n",
       "      <td>3.17</td>\n",
       "      <td>1185</td>\n",
       "    </tr>\n",
       "    <tr>\n",
       "      <th>3</th>\n",
       "      <td>1</td>\n",
       "      <td>14.37</td>\n",
       "      <td>1.95</td>\n",
       "      <td>2.50</td>\n",
       "      <td>16.8</td>\n",
       "      <td>113</td>\n",
       "      <td>3.85</td>\n",
       "      <td>3.49</td>\n",
       "      <td>0.24</td>\n",
       "      <td>2.18</td>\n",
       "      <td>7.80</td>\n",
       "      <td>0.86</td>\n",
       "      <td>3.45</td>\n",
       "      <td>1480</td>\n",
       "    </tr>\n",
       "    <tr>\n",
       "      <th>4</th>\n",
       "      <td>1</td>\n",
       "      <td>13.24</td>\n",
       "      <td>2.59</td>\n",
       "      <td>2.87</td>\n",
       "      <td>21.0</td>\n",
       "      <td>118</td>\n",
       "      <td>2.80</td>\n",
       "      <td>2.69</td>\n",
       "      <td>0.39</td>\n",
       "      <td>1.82</td>\n",
       "      <td>4.32</td>\n",
       "      <td>1.04</td>\n",
       "      <td>2.93</td>\n",
       "      <td>735</td>\n",
       "    </tr>\n",
       "  </tbody>\n",
       "</table>\n",
       "</div>"
      ],
      "text/plain": [
       "   Class label  Alcohol  Malic acid   Ash  Alcalinity of ash  Magnesium  \\\n",
       "0            1    14.23        1.71  2.43               15.6        127   \n",
       "1            1    13.20        1.78  2.14               11.2        100   \n",
       "2            1    13.16        2.36  2.67               18.6        101   \n",
       "3            1    14.37        1.95  2.50               16.8        113   \n",
       "4            1    13.24        2.59  2.87               21.0        118   \n",
       "\n",
       "   Total phenols  Flavanoids  Nonflavanoid phenols  Proanthocyanins  \\\n",
       "0           2.80        3.06                  0.28             2.29   \n",
       "1           2.65        2.76                  0.26             1.28   \n",
       "2           2.80        3.24                  0.30             2.81   \n",
       "3           3.85        3.49                  0.24             2.18   \n",
       "4           2.80        2.69                  0.39             1.82   \n",
       "\n",
       "   Color intensity   Hue  OD280/OD315 of diluted wines  Proline  \n",
       "0             5.64  1.04                          3.92     1065  \n",
       "1             4.38  1.05                          3.40     1050  \n",
       "2             5.68  1.03                          3.17     1185  \n",
       "3             7.80  0.86                          3.45     1480  \n",
       "4             4.32  1.04                          2.93      735  "
      ]
     },
     "execution_count": 63,
     "metadata": {},
     "output_type": "execute_result"
    }
   ],
   "source": [
    "import pandas as pd\n",
    "\n",
    "df_wine = pd.read_csv('https://archive.ics.uci.edu/ml/'\n",
    "                      'machine-learning-databases/wine/wine.data',\n",
    "                      header=None)\n",
    "\n",
    "# UCI 머신 러닝 저장소에서 Wine 데이터셋을 다운로드할 수 없을 때\n",
    "# 다음 주석을 해제하고 로컬 경로에서 데이터셋을 적재하세요.\n",
    "\n",
    "# df_wine = pd.read_csv('wine.data', header=None)\n",
    "\n",
    "df_wine.columns = ['Class label', 'Alcohol', 'Malic acid', 'Ash',\n",
    "                   'Alcalinity of ash', 'Magnesium', 'Total phenols',\n",
    "                   'Flavanoids', 'Nonflavanoid phenols', 'Proanthocyanins',\n",
    "                   'Color intensity', 'Hue',\n",
    "                   'OD280/OD315 of diluted wines', 'Proline']\n",
    "\n",
    "df_wine.head()"
   ]
  },
  {
   "cell_type": "code",
   "execution_count": 64,
   "metadata": {},
   "outputs": [],
   "source": [
    "from sklearn.model_selection import train_test_split\n",
    "\n",
    "X, y = df_wine.iloc[:, 1:].values, df_wine.iloc[:, 0].values\n",
    "\n",
    "X_train, X_test, y_train, y_test = \\\n",
    "    train_test_split(X, y, test_size=0.3, \n",
    "                     stratify=y,\n",
    "                     random_state=0)"
   ]
  },
  {
   "cell_type": "markdown",
   "metadata": {},
   "source": [
    "표준화"
   ]
  },
  {
   "cell_type": "code",
   "execution_count": 51,
   "metadata": {},
   "outputs": [],
   "source": [
    "from sklearn.preprocessing import StandardScaler"
   ]
  },
  {
   "cell_type": "code",
   "execution_count": 65,
   "metadata": {},
   "outputs": [],
   "source": [
    "from sklearn.preprocessing import StandardScaler\n",
    "\n",
    "sc = StandardScaler()\n",
    "X_train_std = sc.fit_transform(X_train)\n",
    "X_test_std = sc.transform(X_test)\n"
   ]
  },
  {
   "cell_type": "code",
   "execution_count": 53,
   "metadata": {},
   "outputs": [
    {
     "data": {
      "text/html": [
       "<div>\n",
       "<style scoped>\n",
       "    .dataframe tbody tr th:only-of-type {\n",
       "        vertical-align: middle;\n",
       "    }\n",
       "\n",
       "    .dataframe tbody tr th {\n",
       "        vertical-align: top;\n",
       "    }\n",
       "\n",
       "    .dataframe thead th {\n",
       "        text-align: right;\n",
       "    }\n",
       "</style>\n",
       "<table border=\"1\" class=\"dataframe\">\n",
       "  <thead>\n",
       "    <tr style=\"text-align: right;\">\n",
       "      <th></th>\n",
       "      <th>0</th>\n",
       "      <th>1</th>\n",
       "      <th>2</th>\n",
       "      <th>3</th>\n",
       "      <th>4</th>\n",
       "      <th>5</th>\n",
       "      <th>6</th>\n",
       "      <th>7</th>\n",
       "      <th>8</th>\n",
       "      <th>9</th>\n",
       "      <th>...</th>\n",
       "      <th>123</th>\n",
       "      <th>124</th>\n",
       "      <th>125</th>\n",
       "      <th>126</th>\n",
       "      <th>127</th>\n",
       "      <th>128</th>\n",
       "      <th>129</th>\n",
       "      <th>130</th>\n",
       "      <th>131</th>\n",
       "      <th>132</th>\n",
       "    </tr>\n",
       "  </thead>\n",
       "  <tbody>\n",
       "    <tr>\n",
       "      <th>0</th>\n",
       "      <td>0.601974</td>\n",
       "      <td>-1.162660</td>\n",
       "      <td>0.799416</td>\n",
       "      <td>-0.224812</td>\n",
       "      <td>-0.743096</td>\n",
       "      <td>0.811756</td>\n",
       "      <td>-0.952878</td>\n",
       "      <td>-1.002239</td>\n",
       "      <td>-1.495842</td>\n",
       "      <td>-1.162660</td>\n",
       "      <td>...</td>\n",
       "      <td>0.663675</td>\n",
       "      <td>-0.286513</td>\n",
       "      <td>1.231319</td>\n",
       "      <td>0.688355</td>\n",
       "      <td>1.441101</td>\n",
       "      <td>1.330040</td>\n",
       "      <td>-1.261381</td>\n",
       "      <td>0.170071</td>\n",
       "      <td>0.688355</td>\n",
       "      <td>-0.804797</td>\n",
       "    </tr>\n",
       "    <tr>\n",
       "      <th>1</th>\n",
       "      <td>-0.461176</td>\n",
       "      <td>-0.819459</td>\n",
       "      <td>-0.941800</td>\n",
       "      <td>0.552504</td>\n",
       "      <td>1.837082</td>\n",
       "      <td>-0.434960</td>\n",
       "      <td>2.090502</td>\n",
       "      <td>-0.994232</td>\n",
       "      <td>-0.181540</td>\n",
       "      <td>-1.046664</td>\n",
       "      <td>...</td>\n",
       "      <td>-0.522346</td>\n",
       "      <td>0.299084</td>\n",
       "      <td>-0.566039</td>\n",
       "      <td>-0.583517</td>\n",
       "      <td>-0.644687</td>\n",
       "      <td>-0.268926</td>\n",
       "      <td>-1.230175</td>\n",
       "      <td>1.085560</td>\n",
       "      <td>0.220437</td>\n",
       "      <td>-0.976755</td>\n",
       "    </tr>\n",
       "    <tr>\n",
       "      <th>2</th>\n",
       "      <td>0.979913</td>\n",
       "      <td>0.442403</td>\n",
       "      <td>-1.635973</td>\n",
       "      <td>0.836577</td>\n",
       "      <td>1.266586</td>\n",
       "      <td>-0.059274</td>\n",
       "      <td>0.585739</td>\n",
       "      <td>-2.245152</td>\n",
       "      <td>1.302420</td>\n",
       "      <td>0.478237</td>\n",
       "      <td>...</td>\n",
       "      <td>0.299066</td>\n",
       "      <td>0.370734</td>\n",
       "      <td>-0.596785</td>\n",
       "      <td>-0.059274</td>\n",
       "      <td>0.370734</td>\n",
       "      <td>0.084062</td>\n",
       "      <td>-1.349301</td>\n",
       "      <td>-0.811790</td>\n",
       "      <td>1.123250</td>\n",
       "      <td>0.657407</td>\n",
       "    </tr>\n",
       "    <tr>\n",
       "      <th>3</th>\n",
       "      <td>-0.192449</td>\n",
       "      <td>0.814123</td>\n",
       "      <td>-0.480041</td>\n",
       "      <td>1.245512</td>\n",
       "      <td>1.964492</td>\n",
       "      <td>-0.710115</td>\n",
       "      <td>0.382735</td>\n",
       "      <td>-0.825151</td>\n",
       "      <td>0.526531</td>\n",
       "      <td>1.245512</td>\n",
       "      <td>...</td>\n",
       "      <td>0.238939</td>\n",
       "      <td>0.670327</td>\n",
       "      <td>-1.055225</td>\n",
       "      <td>-0.163690</td>\n",
       "      <td>-0.911429</td>\n",
       "      <td>-0.249967</td>\n",
       "      <td>-0.192449</td>\n",
       "      <td>0.382735</td>\n",
       "      <td>1.389308</td>\n",
       "      <td>-0.451282</td>\n",
       "    </tr>\n",
       "    <tr>\n",
       "      <th>4</th>\n",
       "      <td>0.797539</td>\n",
       "      <td>-1.084979</td>\n",
       "      <td>-0.360934</td>\n",
       "      <td>0.145898</td>\n",
       "      <td>0.218302</td>\n",
       "      <td>0.363112</td>\n",
       "      <td>-0.722957</td>\n",
       "      <td>3.766125</td>\n",
       "      <td>2.535248</td>\n",
       "      <td>-1.519407</td>\n",
       "      <td>...</td>\n",
       "      <td>1.231966</td>\n",
       "      <td>0.942348</td>\n",
       "      <td>-0.216125</td>\n",
       "      <td>0.507921</td>\n",
       "      <td>0.652730</td>\n",
       "      <td>0.290707</td>\n",
       "      <td>-0.940170</td>\n",
       "      <td>0.218302</td>\n",
       "      <td>0.435516</td>\n",
       "      <td>-0.071316</td>\n",
       "    </tr>\n",
       "    <tr>\n",
       "      <th>5</th>\n",
       "      <td>0.074112</td>\n",
       "      <td>0.419102</td>\n",
       "      <td>-0.336591</td>\n",
       "      <td>0.024827</td>\n",
       "      <td>-0.172310</td>\n",
       "      <td>0.189108</td>\n",
       "      <td>-1.519414</td>\n",
       "      <td>-0.747293</td>\n",
       "      <td>-1.157996</td>\n",
       "      <td>-0.500872</td>\n",
       "      <td>...</td>\n",
       "      <td>1.076226</td>\n",
       "      <td>-1.355133</td>\n",
       "      <td>0.566955</td>\n",
       "      <td>0.911945</td>\n",
       "      <td>1.634781</td>\n",
       "      <td>0.731236</td>\n",
       "      <td>0.189108</td>\n",
       "      <td>-1.322277</td>\n",
       "      <td>-1.240136</td>\n",
       "      <td>0.189108</td>\n",
       "    </tr>\n",
       "    <tr>\n",
       "      <th>6</th>\n",
       "      <td>0.490212</td>\n",
       "      <td>0.254981</td>\n",
       "      <td>-0.235084</td>\n",
       "      <td>-1.401439</td>\n",
       "      <td>0.098160</td>\n",
       "      <td>0.647033</td>\n",
       "      <td>-1.528856</td>\n",
       "      <td>-0.734950</td>\n",
       "      <td>-1.019188</td>\n",
       "      <td>-0.440911</td>\n",
       "      <td>...</td>\n",
       "      <td>0.735245</td>\n",
       "      <td>-0.656540</td>\n",
       "      <td>0.294186</td>\n",
       "      <td>1.137098</td>\n",
       "      <td>1.862395</td>\n",
       "      <td>0.872463</td>\n",
       "      <td>0.225577</td>\n",
       "      <td>-1.450445</td>\n",
       "      <td>-1.166207</td>\n",
       "      <td>0.607828</td>\n",
       "    </tr>\n",
       "    <tr>\n",
       "      <th>7</th>\n",
       "      <td>-0.641726</td>\n",
       "      <td>0.529739</td>\n",
       "      <td>-0.390698</td>\n",
       "      <td>1.366499</td>\n",
       "      <td>0.529739</td>\n",
       "      <td>0.446062</td>\n",
       "      <td>1.366499</td>\n",
       "      <td>-1.896867</td>\n",
       "      <td>-1.896867</td>\n",
       "      <td>0.278710</td>\n",
       "      <td>...</td>\n",
       "      <td>-1.394810</td>\n",
       "      <td>-1.060106</td>\n",
       "      <td>-0.892754</td>\n",
       "      <td>-1.227458</td>\n",
       "      <td>-0.390698</td>\n",
       "      <td>-0.390698</td>\n",
       "      <td>-0.558050</td>\n",
       "      <td>0.529739</td>\n",
       "      <td>0.195034</td>\n",
       "      <td>0.027682</td>\n",
       "    </tr>\n",
       "    <tr>\n",
       "      <th>8</th>\n",
       "      <td>-0.113656</td>\n",
       "      <td>-0.954378</td>\n",
       "      <td>-1.475626</td>\n",
       "      <td>-1.341111</td>\n",
       "      <td>0.172190</td>\n",
       "      <td>0.609366</td>\n",
       "      <td>-1.357925</td>\n",
       "      <td>1.500532</td>\n",
       "      <td>-0.080027</td>\n",
       "      <td>-0.349058</td>\n",
       "      <td>...</td>\n",
       "      <td>1.416460</td>\n",
       "      <td>-0.584460</td>\n",
       "      <td>0.626180</td>\n",
       "      <td>0.575737</td>\n",
       "      <td>0.424407</td>\n",
       "      <td>1.298759</td>\n",
       "      <td>-0.298615</td>\n",
       "      <td>-0.517203</td>\n",
       "      <td>-0.113656</td>\n",
       "      <td>0.794325</td>\n",
       "    </tr>\n",
       "    <tr>\n",
       "      <th>9</th>\n",
       "      <td>-0.357151</td>\n",
       "      <td>-0.915784</td>\n",
       "      <td>-0.529038</td>\n",
       "      <td>-0.047754</td>\n",
       "      <td>-1.268153</td>\n",
       "      <td>-0.511849</td>\n",
       "      <td>-0.507552</td>\n",
       "      <td>-0.937270</td>\n",
       "      <td>-1.087671</td>\n",
       "      <td>-1.216587</td>\n",
       "      <td>...</td>\n",
       "      <td>0.523771</td>\n",
       "      <td>2.478988</td>\n",
       "      <td>-0.142292</td>\n",
       "      <td>0.803088</td>\n",
       "      <td>1.576580</td>\n",
       "      <td>0.502285</td>\n",
       "      <td>-1.087671</td>\n",
       "      <td>-0.443094</td>\n",
       "      <td>1.559392</td>\n",
       "      <td>-0.185263</td>\n",
       "    </tr>\n",
       "    <tr>\n",
       "      <th>10</th>\n",
       "      <td>0.651835</td>\n",
       "      <td>-0.116569</td>\n",
       "      <td>1.239438</td>\n",
       "      <td>-0.297370</td>\n",
       "      <td>-0.161769</td>\n",
       "      <td>1.239438</td>\n",
       "      <td>-0.930173</td>\n",
       "      <td>1.465439</td>\n",
       "      <td>-0.026169</td>\n",
       "      <td>1.601040</td>\n",
       "      <td>...</td>\n",
       "      <td>0.109432</td>\n",
       "      <td>-2.150579</td>\n",
       "      <td>0.380633</td>\n",
       "      <td>0.606635</td>\n",
       "      <td>1.239438</td>\n",
       "      <td>0.516234</td>\n",
       "      <td>1.917441</td>\n",
       "      <td>-1.608176</td>\n",
       "      <td>-0.975373</td>\n",
       "      <td>1.058637</td>\n",
       "    </tr>\n",
       "    <tr>\n",
       "      <th>11</th>\n",
       "      <td>0.385367</td>\n",
       "      <td>0.851178</td>\n",
       "      <td>-0.211454</td>\n",
       "      <td>-0.662708</td>\n",
       "      <td>0.749281</td>\n",
       "      <td>0.385367</td>\n",
       "      <td>-1.943688</td>\n",
       "      <td>0.676498</td>\n",
       "      <td>-0.502586</td>\n",
       "      <td>0.167018</td>\n",
       "      <td>...</td>\n",
       "      <td>0.618272</td>\n",
       "      <td>-1.652556</td>\n",
       "      <td>1.433441</td>\n",
       "      <td>0.399923</td>\n",
       "      <td>0.312584</td>\n",
       "      <td>0.210688</td>\n",
       "      <td>0.749281</td>\n",
       "      <td>-1.346868</td>\n",
       "      <td>-1.172189</td>\n",
       "      <td>-0.444359</td>\n",
       "    </tr>\n",
       "    <tr>\n",
       "      <th>12</th>\n",
       "      <td>1.053182</td>\n",
       "      <td>-1.140918</td>\n",
       "      <td>-0.383799</td>\n",
       "      <td>-0.507410</td>\n",
       "      <td>-1.202724</td>\n",
       "      <td>0.728703</td>\n",
       "      <td>-0.105674</td>\n",
       "      <td>-0.111854</td>\n",
       "      <td>-0.399251</td>\n",
       "      <td>-0.383799</td>\n",
       "      <td>...</td>\n",
       "      <td>1.130439</td>\n",
       "      <td>-0.847342</td>\n",
       "      <td>0.867765</td>\n",
       "      <td>2.351101</td>\n",
       "      <td>2.860997</td>\n",
       "      <td>0.945022</td>\n",
       "      <td>-1.471579</td>\n",
       "      <td>0.234257</td>\n",
       "      <td>-0.012965</td>\n",
       "      <td>-0.235466</td>\n",
       "    </tr>\n",
       "  </tbody>\n",
       "</table>\n",
       "<p>13 rows × 133 columns</p>\n",
       "</div>"
      ],
      "text/plain": [
       "         0         1         2         3         4         5         6    \\\n",
       "0   0.601974 -1.162660  0.799416 -0.224812 -0.743096  0.811756 -0.952878   \n",
       "1  -0.461176 -0.819459 -0.941800  0.552504  1.837082 -0.434960  2.090502   \n",
       "2   0.979913  0.442403 -1.635973  0.836577  1.266586 -0.059274  0.585739   \n",
       "3  -0.192449  0.814123 -0.480041  1.245512  1.964492 -0.710115  0.382735   \n",
       "4   0.797539 -1.084979 -0.360934  0.145898  0.218302  0.363112 -0.722957   \n",
       "5   0.074112  0.419102 -0.336591  0.024827 -0.172310  0.189108 -1.519414   \n",
       "6   0.490212  0.254981 -0.235084 -1.401439  0.098160  0.647033 -1.528856   \n",
       "7  -0.641726  0.529739 -0.390698  1.366499  0.529739  0.446062  1.366499   \n",
       "8  -0.113656 -0.954378 -1.475626 -1.341111  0.172190  0.609366 -1.357925   \n",
       "9  -0.357151 -0.915784 -0.529038 -0.047754 -1.268153 -0.511849 -0.507552   \n",
       "10  0.651835 -0.116569  1.239438 -0.297370 -0.161769  1.239438 -0.930173   \n",
       "11  0.385367  0.851178 -0.211454 -0.662708  0.749281  0.385367 -1.943688   \n",
       "12  1.053182 -1.140918 -0.383799 -0.507410 -1.202724  0.728703 -0.105674   \n",
       "\n",
       "         7         8         9    ...       123       124       125       126  \\\n",
       "0  -1.002239 -1.495842 -1.162660  ...  0.663675 -0.286513  1.231319  0.688355   \n",
       "1  -0.994232 -0.181540 -1.046664  ... -0.522346  0.299084 -0.566039 -0.583517   \n",
       "2  -2.245152  1.302420  0.478237  ...  0.299066  0.370734 -0.596785 -0.059274   \n",
       "3  -0.825151  0.526531  1.245512  ...  0.238939  0.670327 -1.055225 -0.163690   \n",
       "4   3.766125  2.535248 -1.519407  ...  1.231966  0.942348 -0.216125  0.507921   \n",
       "5  -0.747293 -1.157996 -0.500872  ...  1.076226 -1.355133  0.566955  0.911945   \n",
       "6  -0.734950 -1.019188 -0.440911  ...  0.735245 -0.656540  0.294186  1.137098   \n",
       "7  -1.896867 -1.896867  0.278710  ... -1.394810 -1.060106 -0.892754 -1.227458   \n",
       "8   1.500532 -0.080027 -0.349058  ...  1.416460 -0.584460  0.626180  0.575737   \n",
       "9  -0.937270 -1.087671 -1.216587  ...  0.523771  2.478988 -0.142292  0.803088   \n",
       "10  1.465439 -0.026169  1.601040  ...  0.109432 -2.150579  0.380633  0.606635   \n",
       "11  0.676498 -0.502586  0.167018  ...  0.618272 -1.652556  1.433441  0.399923   \n",
       "12 -0.111854 -0.399251 -0.383799  ...  1.130439 -0.847342  0.867765  2.351101   \n",
       "\n",
       "         127       128       129       130       131       132  \n",
       "0   1.441101  1.330040 -1.261381  0.170071  0.688355 -0.804797  \n",
       "1  -0.644687 -0.268926 -1.230175  1.085560  0.220437 -0.976755  \n",
       "2   0.370734  0.084062 -1.349301 -0.811790  1.123250  0.657407  \n",
       "3  -0.911429 -0.249967 -0.192449  0.382735  1.389308 -0.451282  \n",
       "4   0.652730  0.290707 -0.940170  0.218302  0.435516 -0.071316  \n",
       "5   1.634781  0.731236  0.189108 -1.322277 -1.240136  0.189108  \n",
       "6   1.862395  0.872463  0.225577 -1.450445 -1.166207  0.607828  \n",
       "7  -0.390698 -0.390698 -0.558050  0.529739  0.195034  0.027682  \n",
       "8   0.424407  1.298759 -0.298615 -0.517203 -0.113656  0.794325  \n",
       "9   1.576580  0.502285 -1.087671 -0.443094  1.559392 -0.185263  \n",
       "10  1.239438  0.516234  1.917441 -1.608176 -0.975373  1.058637  \n",
       "11  0.312584  0.210688  0.749281 -1.346868 -1.172189 -0.444359  \n",
       "12  2.860997  0.945022 -1.471579  0.234257 -0.012965 -0.235466  \n",
       "\n",
       "[13 rows x 133 columns]"
      ]
     },
     "execution_count": 53,
     "metadata": {},
     "output_type": "execute_result"
    }
   ],
   "source": [
    "pd.DataFrame(X_train_std.T)"
   ]
  },
  {
   "cell_type": "code",
   "execution_count": 66,
   "metadata": {},
   "outputs": [
    {
     "name": "stdout",
     "output_type": "stream",
     "text": [
      "\n",
      "고윳값 \n",
      "[4.84274532 2.41602459 1.54845825 0.96120438 0.84166161 0.6620634\n",
      " 0.51828472 0.34650377 0.3131368  0.10754642 0.21357215 0.15362835\n",
      " 0.1808613 ]\n"
     ]
    }
   ],
   "source": [
    "import numpy as np\n",
    "\n",
    "# 공분산 행렬을 구함(특성이 행으로 가게 해서)\n",
    "# 이유 : 특성이 열(인덱스쪽)으로 가기를 기대한다.\n",
    "# idx * idx 행렬로 만들기 때문..!\n",
    "\n",
    "cov_mat = np.cov(X_train_std.T)\n",
    "eigen_vals, eigen_vecs = np.linalg.eig(cov_mat)\n",
    "\n",
    "print('\\n고윳값 \\n%s' % eigen_vals)"
   ]
  },
  {
   "cell_type": "code",
   "execution_count": 67,
   "metadata": {},
   "outputs": [],
   "source": [
    "tot = sum(eigen_vals)\n",
    "var_exp = [(i / tot) for i in sorted(eigen_vals, reverse=True)]\n",
    "cum_var_exp = np.cumsum(var_exp)"
   ]
  },
  {
   "cell_type": "code",
   "execution_count": 57,
   "metadata": {},
   "outputs": [],
   "source": [
    "%matplotlib inline"
   ]
  },
  {
   "cell_type": "code",
   "execution_count": 68,
   "metadata": {},
   "outputs": [
    {
     "data": {
      "image/png": "[encoded data removed]",
      "text/plain": [
       "<Figure size 432x288 with 1 Axes>"
      ]
     },
     "metadata": {
      "needs_background": "light"
     },
     "output_type": "display_data"
    }
   ],
   "source": [
    "import matplotlib.pyplot as plt\n",
    "\n",
    "\n",
    "plt.bar(range(1, 14), var_exp, alpha=0.5, align='center',\n",
    "        label='individual explained variance')\n",
    "plt.step(range(1, 14), cum_var_exp, where='mid',\n",
    "         label='cumulative explained variance')\n",
    "plt.ylabel('Explained variance ratio')\n",
    "plt.xlabel('Principal component index')\n",
    "plt.legend(loc='best')\n",
    "plt.tight_layout()\n",
    "plt.show()"
   ]
  },
  {
   "cell_type": "code",
   "execution_count": 70,
   "metadata": {},
   "outputs": [],
   "source": [
    "# (고윳값, 고유벡터) 튜플의 리스트를 만듭니다\n",
    "eigen_pairs = [(np.abs(eigen_vals[i]), eigen_vecs[:, i])\n",
    "               for i in range(len(eigen_vals))]\n",
    "\n",
    "# 높은 값에서 낮은 값으로 (고윳값, 고유벡터) 튜플을 정렬합니다\n",
    "eigen_pairs.sort(key=lambda k: k[0], reverse=True)"
   ]
  },
  {
   "cell_type": "code",
   "execution_count": 71,
   "metadata": {},
   "outputs": [
    {
     "name": "stdout",
     "output_type": "stream",
     "text": [
      "투영 행렬 W:\n",
      " [[-0.13724218  0.50303478]\n",
      " [ 0.24724326  0.16487119]\n",
      " [-0.02545159  0.24456476]\n",
      " [ 0.20694508 -0.11352904]\n",
      " [-0.15436582  0.28974518]\n",
      " [-0.39376952  0.05080104]\n",
      " [-0.41735106 -0.02287338]\n",
      " [ 0.30572896  0.09048885]\n",
      " [-0.30668347  0.00835233]\n",
      " [ 0.07554066  0.54977581]\n",
      " [-0.32613263 -0.20716433]\n",
      " [-0.36861022 -0.24902536]\n",
      " [-0.29669651  0.38022942]]\n"
     ]
    }
   ],
   "source": [
    "w = np.hstack((eigen_pairs[0][1][:, np.newaxis],\n",
    "               eigen_pairs[1][1][:, np.newaxis]))\n",
    "print('투영 행렬 W:\\n', w)"
   ]
  },
  {
   "cell_type": "code",
   "execution_count": 72,
   "metadata": {},
   "outputs": [
    {
     "data": {
      "text/plain": [
       "array([2.38299011, 0.45458499])"
      ]
     },
     "execution_count": 72,
     "metadata": {},
     "output_type": "execute_result"
    }
   ],
   "source": [
    "X_train_std[0].dot(w)"
   ]
  },
  {
   "cell_type": "code",
   "execution_count": 73,
   "metadata": {},
   "outputs": [
    {
     "data": {
      "image/png": "[encoded data removed]",
      "text/plain": [
       "<Figure size 432x288 with 1 Axes>"
      ]
     },
     "metadata": {
      "needs_background": "light"
     },
     "output_type": "display_data"
    }
   ],
   "source": [
    "X_train_pca = X_train_std.dot(w)\n",
    "colors = ['r','b','g']\n",
    "markers = ['s','x', 'o']\n",
    "\n",
    "for l, c, m in zip(np.unique(y_train), colors, markers):\n",
    "    plt.scatter(X_train_pca[y_train==l, 0],\n",
    "               X_train_pca[y_train==l, 1],\n",
    "                c=c, label=l, marker=m)\n",
    "\n",
    "plt.xlabel('PC 1')\n",
    "plt.ylabel('PC 2')\n",
    "plt.legend(loc='lower left')\n",
    "plt.tight_layout()\n",
    "plt.show()"
   ]
  },
  {
   "cell_type": "code",
   "execution_count": 74,
   "metadata": {},
   "outputs": [
    {
     "data": {
      "text/plain": [
       "array([0.36951469, 0.18434927, 0.11815159, 0.07334252, 0.06422108,\n",
       "       0.05051724, 0.03954654, 0.02643918, 0.02389319, 0.01629614,\n",
       "       0.01380021, 0.01172226, 0.00820609])"
      ]
     },
     "execution_count": 74,
     "metadata": {},
     "output_type": "execute_result"
    }
   ],
   "source": [
    "from sklearn.decomposition import PCA\n",
    "\n",
    "pca = PCA()\n",
    "X_train_pca = pca.fit_transform(X_train_std)\n",
    "pca.explained_variance_ratio_ # 분산 비율"
   ]
  },
  {
   "cell_type": "code",
   "execution_count": 75,
   "metadata": {},
   "outputs": [
    {
     "data": {
      "image/png": "[encoded data removed]",
      "text/plain": [
       "<Figure size 432x288 with 1 Axes>"
      ]
     },
     "metadata": {
      "needs_background": "light"
     },
     "output_type": "display_data"
    }
   ],
   "source": [
    "plt.bar(range(1, 14), pca.explained_variance_ratio_, alpha=0.5, align='center')\n",
    "plt.step(range(1, 14), np.cumsum(pca.explained_variance_ratio_), where='mid')\n",
    "plt.ylabel('Explained variance ratio')\n",
    "plt.xlabel('Principal components')\n",
    "\n",
    "plt.show()"
   ]
  },
  {
   "cell_type": "code",
   "execution_count": 76,
   "metadata": {},
   "outputs": [],
   "source": [
    "pca = PCA(n_components=2)\n",
    "X_train_pca = pca.fit_transform(X_train_std)\n",
    "X_test_pca = pca.transform(X_test_std)"
   ]
  },
  {
   "cell_type": "code",
   "execution_count": 77,
   "metadata": {},
   "outputs": [
    {
     "data": {
      "image/png": "[encoded data removed]",
      "text/plain": [
       "<Figure size 432x288 with 1 Axes>"
      ]
     },
     "metadata": {
      "needs_background": "light"
     },
     "output_type": "display_data"
    }
   ],
   "source": [
    "plt.scatter(X_train_pca[:, 0], X_train_pca[:, 1])\n",
    "plt.xlabel('PC 1')\n",
    "plt.ylabel('PC 2')\n",
    "plt.show()"
   ]
  },
  {
   "cell_type": "code",
   "execution_count": 78,
   "metadata": {},
   "outputs": [],
   "source": [
    "from matplotlib.colors import ListedColormap\n",
    "\n",
    "def plot_decision_regions(X, y, classifier, resolution=0.02):\n",
    "\n",
    "    # 마커와 컬러맵을 준비합니다\n",
    "    markers = ('s', 'x', 'o', '^', 'v')\n",
    "    colors = ('red', 'blue', 'lightgreen', 'gray', 'cyan')\n",
    "    cmap = ListedColormap(colors[:len(np.unique(y))])\n",
    "\n",
    "    # 결정 경계를 그립니다\n",
    "    x1_min, x1_max = X[:, 0].min() - 1, X[:, 0].max() + 1\n",
    "    x2_min, x2_max = X[:, 1].min() - 1, X[:, 1].max() + 1\n",
    "    xx1, xx2 = np.meshgrid(np.arange(x1_min, x1_max, resolution),\n",
    "                           np.arange(x2_min, x2_max, resolution))\n",
    "    Z = classifier.predict(np.array([xx1.ravel(), xx2.ravel()]).T)\n",
    "    Z = Z.reshape(xx1.shape)\n",
    "    plt.contourf(xx1, xx2, Z, alpha=0.4, cmap=cmap)\n",
    "    plt.xlim(xx1.min(), xx1.max())\n",
    "    plt.ylim(xx2.min(), xx2.max())\n",
    "\n",
    "    # 클래스 샘플을 표시합니다\n",
    "    for idx, cl in enumerate(np.unique(y)):\n",
    "        plt.scatter(x=X[y == cl, 0], \n",
    "                    y=X[y == cl, 1],\n",
    "                    alpha=0.6, \n",
    "                    c=cmap.colors[idx],\n",
    "                    edgecolor='black',\n",
    "                    marker=markers[idx], \n",
    "                    label=cl)"
   ]
  },
  {
   "cell_type": "code",
   "execution_count": 79,
   "metadata": {},
   "outputs": [],
   "source": [
    "from sklearn.linear_model import LogisticRegression\n",
    "from sklearn.decomposition import PCA\n",
    "pca = PCA(n_components=2)\n",
    "X_train_pca = pca.fit_transform(X_train_std)\n",
    "X_test_pca = pca.transform(X_test_std)\n",
    "\n",
    "lr = LogisticRegression(solver='liblinear', multi_class='auto')\n",
    "lr = lr.fit(X_train_pca, y_train)"
   ]
  },
  {
   "cell_type": "code",
   "execution_count": 80,
   "metadata": {},
   "outputs": [
    {
     "data": {
      "image/png": "[encoded data removed]",
      "text/plain": [
       "<Figure size 432x288 with 1 Axes>"
      ]
     },
     "metadata": {
      "needs_background": "light"
     },
     "output_type": "display_data"
    }
   ],
   "source": [
    "plot_decision_regions(X_train_pca, y_train, classifier=lr)\n",
    "plt.xlabel('PC 1')\n",
    "plt.ylabel('PC 2')\n",
    "plt.legend(loc='lower left')\n",
    "plt.tight_layout()\n",
    "plt.show()"
   ]
  },
  {
   "cell_type": "code",
   "execution_count": 81,
   "metadata": {},
   "outputs": [
    {
     "data": {
      "image/png": "[encoded data removed]",
      "text/plain": [
       "<Figure size 432x288 with 1 Axes>"
      ]
     },
     "metadata": {
      "needs_background": "light"
     },
     "output_type": "display_data"
    }
   ],
   "source": [
    "plot_decision_regions(X_test_pca, y_test, classifier=lr)\n",
    "plt.xlabel('PC 1')\n",
    "plt.ylabel('PC 2')\n",
    "plt.legend(loc='lower left')\n",
    "plt.tight_layout()\n",
    "plt.show()"
   ]
  },
  {
   "cell_type": "code",
   "execution_count": 82,
   "metadata": {},
   "outputs": [
    {
     "data": {
      "text/plain": [
       "array([1, 2, 3], dtype=int64)"
      ]
     },
     "execution_count": 82,
     "metadata": {},
     "output_type": "execute_result"
    }
   ],
   "source": [
    "np.unique(y_train)"
   ]
  },
  {
   "cell_type": "code",
   "execution_count": 83,
   "metadata": {},
   "outputs": [
    {
     "name": "stdout",
     "output_type": "stream",
     "text": [
      "MV 1: [ 0.9066 -0.3497  0.3201 -0.7189  0.5056  0.8807  0.9589 -0.5516  0.5416\n",
      "  0.2338  0.5897  0.6563  1.2075]\n",
      "\n",
      "MV 2: [-0.8749 -0.2848 -0.3735  0.3157 -0.3848 -0.0433  0.0635 -0.0946  0.0703\n",
      " -0.8286  0.3144  0.3608 -0.7253]\n",
      "\n",
      "MV 3: [ 0.1992  0.866   0.1682  0.4148 -0.0451 -1.0286 -1.2876  0.8287 -0.7795\n",
      "  0.9649 -1.209  -1.3622 -0.4013]\n",
      "\n"
     ]
    }
   ],
   "source": [
    "np.set_printoptions(precision=4)\n",
    "\n",
    "mean_vecs = []\n",
    "for label in range(1,4):\n",
    "    mean_vecs.append(np.mean(X_train_std[y_train==label], axis=0))\n",
    "    print('MV %s: %s\\n' % (label, mean_vecs[label-1]))"
   ]
  },
  {
   "cell_type": "markdown",
   "metadata": {},
   "source": [
    "산포행렬 구하기"
   ]
  },
  {
   "cell_type": "code",
   "execution_count": 85,
   "metadata": {},
   "outputs": [],
   "source": [
    "d = X_train_std.shape[1]"
   ]
  },
  {
   "cell_type": "code",
   "execution_count": 86,
   "metadata": {},
   "outputs": [],
   "source": [
    "S_W = np.zeros((d,d))"
   ]
  },
  {
   "cell_type": "code",
   "execution_count": 87,
   "metadata": {},
   "outputs": [
    {
     "name": "stdout",
     "output_type": "stream",
     "text": [
      "클래스 내의 산포 행렬: 13x13\n"
     ]
    }
   ],
   "source": [
    "for label, mv in zip(range(1,4), mean_vecs):\n",
    "    class_scatter = np.zeros((d,d))\n",
    "    for row in X_train_std[y_train==label]:\n",
    "        row, mv = row.reshape(d,1), mv.reshape(d,1)\n",
    "        class_scatter += (row-mv).dot((row-mv).T)\n",
    "    S_W += class_scatter\n",
    "    \n",
    "print('클래스 내의 산포 행렬: %sx%s' %(S_W.shape[0], S_W.shape[1]))"
   ]
  },
  {
   "cell_type": "code",
   "execution_count": 88,
   "metadata": {},
   "outputs": [
    {
     "name": "stdout",
     "output_type": "stream",
     "text": [
      "클래스 레이블 분포 : [41 50 33]\n"
     ]
    }
   ],
   "source": [
    "print('클래스 레이블 분포 : %s' %(np.bincount(y_train)[1:]))"
   ]
  },
  {
   "cell_type": "markdown",
   "metadata": {},
   "source": [
    "산포 행렬을 정규화 한 것은 공분산 행렬과 같다."
   ]
  },
  {
   "cell_type": "code",
   "execution_count": 89,
   "metadata": {},
   "outputs": [
    {
     "name": "stdout",
     "output_type": "stream",
     "text": [
      "스케일 조정된 클래스 내의 산포 행렬: 13x13\n"
     ]
    }
   ],
   "source": [
    "d = X_train_std.shape[1]\n",
    "S_W = np.zeros((d,d))\n",
    "for label, mv in zip(range(1,4), mean_vecs):\n",
    "    class_scatter = np.cov(X_train_std[y_train==label].T, bias=True)\n",
    "    S_W += class_scatter\n",
    "    \n",
    "print('스케일 조정된 클래스 내의 산포 행렬: %sx%s' %(S_W.shape[0], S_W.shape[1]))"
   ]
  },
  {
   "cell_type": "markdown",
   "metadata": {},
   "source": [
    "클래스 간 산포 행렬 "
   ]
  },
  {
   "cell_type": "code",
   "execution_count": 92,
   "metadata": {
    "collapsed": true
   },
   "outputs": [
    {
     "data": {
      "text/plain": [
       "array([[ 6.8901e-15],\n",
       "       [ 1.6832e-16],\n",
       "       [ 3.7997e-15],\n",
       "       [ 2.8561e-16],\n",
       "       [-3.1785e-16],\n",
       "       [ 1.6626e-15],\n",
       "       [ 1.5982e-16],\n",
       "       [-1.1989e-15],\n",
       "       [ 1.8883e-15],\n",
       "       [-1.6152e-15],\n",
       "       [-5.7839e-16],\n",
       "       [ 8.6311e-16],\n",
       "       [-1.3341e-16]])"
      ]
     },
     "execution_count": 92,
     "metadata": {},
     "output_type": "execute_result"
    }
   ],
   "source": [
    "mean_overall = np.mean(X_train_std, axis=0)\n",
    "mean_overall = mean_overall.reshape(d,1)\n",
    "mean_overall"
   ]
  },
  {
   "cell_type": "code",
   "execution_count": 93,
   "metadata": {},
   "outputs": [
    {
     "name": "stdout",
     "output_type": "stream",
     "text": [
      "클래스 간의 산포 행렬: 13x13\n"
     ]
    }
   ],
   "source": [
    "d = 13\n",
    "S_B = np.zeros((d,d))\n",
    "for i, mean_vec in enumerate(mean_vecs):\n",
    "    n = X_train[y_train==i+1,:].shape[0]\n",
    "    mean_vec = mean_vec.reshape(d,1)\n",
    "    S_B += n*(mean_vec - mean_overall).dot((mean_vec - mean_overall).T)\n",
    "    \n",
    "print('클래스 간의 산포 행렬: %sx%s' %(S_B.shape[0], S_B.shape[1]))\n",
    "    "
   ]
  },
  {
   "cell_type": "code",
   "execution_count": 94,
   "metadata": {},
   "outputs": [],
   "source": [
    "eigen_vals, eigen_vecs = np.linalg.eig(np.linalg.inv(S_W).dot(S_B))"
   ]
  },
  {
   "cell_type": "code",
   "execution_count": 99,
   "metadata": {},
   "outputs": [
    {
     "name": "stdout",
     "output_type": "stream",
     "text": [
      "내림차순 고윳값:\n",
      "\n",
      "358.0042070133658\n",
      "177.07768640666217\n",
      "2.842170943040401e-14\n",
      "2.416464785473244e-14\n",
      "2.1954926639581513e-14\n",
      "2.1954926639581513e-14\n",
      "2.0367938670394332e-14\n",
      "2.0367938670394332e-14\n",
      "1.8639642080179956e-14\n",
      "1.4017013569391021e-14\n",
      "1.4017013569391021e-14\n",
      "3.5106142861573525e-15\n",
      "2.728065685424338e-15\n"
     ]
    }
   ],
   "source": [
    "eigen_pairs = [(np.abs(eigen_vals[i]), eigen_vecs[:, i])\n",
    "               for i in range(len(eigen_vals))]\n",
    "\n",
    "eigen_pairs = sorted(eigen_pairs, key=lambda k:k[0], reverse=True)\n",
    "\n",
    "print('내림차순 고윳값:\\n')\n",
    "for eigen_val in eigen_pairs:\n",
    "    print(eigen_val[0])"
   ]
  },
  {
   "cell_type": "code",
   "execution_count": 100,
   "metadata": {},
   "outputs": [
    {
     "data": {
      "image/png": "[encoded data removed]",
      "text/plain": [
       "<Figure size 432x288 with 1 Axes>"
      ]
     },
     "metadata": {
      "needs_background": "light"
     },
     "output_type": "display_data"
    }
   ],
   "source": [
    "tot = sum(eigen_vals.real)\n",
    "discr = [(i / tot) for i in sorted(eigen_vals.real, reverse=True)]\n",
    "cum_discr = np.cumsum(discr)\n",
    "\n",
    "plt.bar(range(1, 14), discr, alpha=0.5, align='center',\n",
    "        label='individual \"discriminability\"')\n",
    "plt.step(range(1, 14), cum_discr, where='mid',\n",
    "         label='cumulative \"discriminability\"')\n",
    "plt.ylabel('\"discriminability\" ratio')\n",
    "plt.xlabel('Linear Discriminants')\n",
    "plt.ylim([-0.1, 1.1])\n",
    "plt.legend(loc='best')\n",
    "plt.tight_layout()\n",
    "plt.show()"
   ]
  },
  {
   "cell_type": "code",
   "execution_count": 104,
   "metadata": {
    "collapsed": true
   },
   "outputs": [
    {
     "name": "stdout",
     "output_type": "stream",
     "text": [
      "행렬 W: \n",
      " [[-0.1484 -0.4093]\n",
      " [ 0.091  -0.1583]\n",
      " [-0.0168 -0.3536]\n",
      " [ 0.1487  0.322 ]\n",
      " [-0.0165 -0.0813]\n",
      " [ 0.1912  0.0841]\n",
      " [-0.7333  0.2828]\n",
      " [-0.0751 -0.0099]\n",
      " [ 0.002   0.0902]\n",
      " [ 0.2953 -0.2168]\n",
      " [-0.0327  0.274 ]\n",
      " [-0.3539 -0.0133]\n",
      " [-0.3918 -0.5954]]\n"
     ]
    }
   ],
   "source": [
    "w = np.hstack((eigen_pairs[0][1][:, np.newaxis].real,\n",
    "             eigen_pairs[1][1][:, np.newaxis].real))\n",
    "print('행렬 W: \\n', w)"
   ]
  },
  {
   "cell_type": "code",
   "execution_count": 105,
   "metadata": {},
   "outputs": [
    {
     "data": {
      "image/png": "[encoded data removed]",
      "text/plain": [
       "<Figure size 432x288 with 1 Axes>"
      ]
     },
     "metadata": {
      "needs_background": "light"
     },
     "output_type": "display_data"
    }
   ],
   "source": [
    "X_train_lda = X_train_std.dot(w)\n",
    "colors = ['r', 'b', 'g']\n",
    "markers = ['s', 'x', 'o']\n",
    "\n",
    "for l, c, m in zip(np.unique(y_train), colors, markers):\n",
    "    plt.scatter(X_train_lda[y_train==l,0],\n",
    "               X_train_lda[y_train==l,1]*(-1),\n",
    "               c=c, marker=m, label=l)\n",
    "    \n",
    "plt.xlabel('LD 1')\n",
    "plt.ylabel('LD 2')\n",
    "plt.legend(loc='lower right')\n",
    "plt.tight_layout()\n",
    "plt.show()"
   ]
  },
  {
   "cell_type": "code",
   "execution_count": 110,
   "metadata": {},
   "outputs": [],
   "source": [
    "from sklearn.discriminant_analysis import LinearDiscriminantAnalysis as LDA\n",
    "\n",
    "lda = LDA(n_components=2)\n",
    "X_train_lda = lda.fit_transform(X_train_std, y_train)"
   ]
  },
  {
   "cell_type": "code",
   "execution_count": 111,
   "metadata": {},
   "outputs": [
    {
     "data": {
      "image/png": "[encoded data removed]",
      "text/plain": [
       "<Figure size 432x288 with 1 Axes>"
      ]
     },
     "metadata": {
      "needs_background": "light"
     },
     "output_type": "display_data"
    }
   ],
   "source": [
    "from sklearn.linear_model import LogisticRegression\n",
    "\n",
    "lr = LogisticRegression(solver='liblinear', multi_class='auto')\n",
    "lr = lr.fit(X_train_lda, y_train)\n",
    "\n",
    "plot_decision_regions(X_train_lda, y_train, classifier=lr)\n",
    "plt.xlabel('LD 1')\n",
    "plt.ylabel('LD 2')\n",
    "plt.legend(loc='lower left')\n",
    "plt.tight_layout()\n",
    "plt.show()"
   ]
  },
  {
   "cell_type": "code",
   "execution_count": 113,
   "metadata": {},
   "outputs": [
    {
     "data": {
      "image/png": "[encoded data removed]",
      "text/plain": [
       "<Figure size 432x288 with 1 Axes>"
      ]
     },
     "metadata": {
      "needs_background": "light"
     },
     "output_type": "display_data"
    }
   ],
   "source": [
    "X_test_lda = lda.transform(X_test_std)\n",
    "\n",
    "plot_decision_regions(X_test_lda, y_test, classifier=lr)\n",
    "plt.xlabel('LD 1')\n",
    "plt.ylabel('LD 2')\n",
    "plt.legend(loc='lower left')\n",
    "plt.tight_layout()\n",
    "plt.show()"
   ]
  },
  {
   "cell_type": "code",
   "execution_count": 115,
   "metadata": {},
   "outputs": [],
   "source": [
    "from scipy.spatial.distance import pdist, squareform\n",
    "from scipy import exp\n",
    "from scipy.linalg import eigh\n",
    "import numpy as np"
   ]
  },
  {
   "cell_type": "code",
   "execution_count": 131,
   "metadata": {},
   "outputs": [],
   "source": [
    "from scipy.spatial.distance import pdist, squareform\n",
    "from scipy import exp\n",
    "from scipy.linalg import eigh\n",
    "import numpy as np\n",
    "\n",
    "def rbf_kernel_pca(X, gamma, n_components):\n",
    "    \"\"\"\n",
    "    RBF 커널 PCA 구현\n",
    "\n",
    "    매개변수\n",
    "    ------------\n",
    "    X: {넘파이 ndarray}, shape = [n_samples, n_features]\n",
    "        \n",
    "    gamma: float\n",
    "      RBF 커널 튜닝 매개변수\n",
    "        \n",
    "    n_components: int\n",
    "      반환할 주성분 개수\n",
    "\n",
    "    반환값\n",
    "    ------------\n",
    "     X_pc: {넘파이 ndarray}, shape = [n_samples, k_features]\n",
    "       투영된 데이터셋\n",
    "\n",
    "    \"\"\"\n",
    "    # MxN 차원의 데이터셋에서 샘플 간의 유클리디안 거리의 제곱을 계산합니다.\n",
    "    sq_dists = pdist(X, 'sqeuclidean')\n",
    "\n",
    "    # 샘플 간의 거리를 정방 대칭 행렬로 변환합니다.\n",
    "    mat_sq_dists = squareform(sq_dists)\n",
    "\n",
    "    # 커널 행렬을 계산합니다.\n",
    "    K = exp(-gamma * mat_sq_dists)\n",
    "\n",
    "    # 커널 행렬을 중앙에 맞춥니다.\n",
    "    N = K.shape[0]\n",
    "    one_n = np.ones((N, N)) / N\n",
    "    K = K - one_n.dot(K) - K.dot(one_n) + one_n.dot(K).dot(one_n)\n",
    "\n",
    "    # 중앙에 맞춰진 커널 행렬의 고윳값과 고유벡터를 구합니다.\n",
    "    # scipy.linalg.eigh 함수는 오름차순으로 반환합니다.\n",
    "    eigvals, eigvecs = eigh(K)\n",
    "    eigvals, eigvecs = eigvals[::-1], eigvecs[:, ::-1]\n",
    "\n",
    "    # 최상위 k 개의 고유벡터를 선택합니다(결과값은 투영된 샘플입니다).\n",
    "    X_pc = np.column_stack([eigvecs[:, i]\n",
    "                            for i in range(n_components)])\n",
    "\n",
    "    return X_pc"
   ]
  },
  {
   "cell_type": "code",
   "execution_count": 132,
   "metadata": {},
   "outputs": [],
   "source": [
    "import matplotlib.pyplot as plt\n",
    "from sklearn.datasets import make_moons"
   ]
  },
  {
   "cell_type": "code",
   "execution_count": 133,
   "metadata": {},
   "outputs": [],
   "source": [
    "X, y = make_moons(n_samples=100, random_state=123)"
   ]
  },
  {
   "cell_type": "code",
   "execution_count": 134,
   "metadata": {},
   "outputs": [
    {
     "data": {
      "image/png": "[encoded data removed]",
      "text/plain": [
       "<Figure size 432x288 with 1 Axes>"
      ]
     },
     "metadata": {
      "needs_background": "light"
     },
     "output_type": "display_data"
    }
   ],
   "source": [
    "plt.scatter(X[y==0, 0], X[y==0, 1], color='red', marker='^', alpha=0.5)\n",
    "plt.scatter(X[y==1, 0], X[y==1, 1], color='blue', marker='o', alpha=0.5)\n",
    "\n",
    "plt.tight_layout()\n",
    "plt.show()"
   ]
  },
  {
   "cell_type": "code",
   "execution_count": 135,
   "metadata": {},
   "outputs": [
    {
     "data": {
      "image/png": "[encoded data removed]",
      "text/plain": [
       "<Figure size 504x216 with 2 Axes>"
      ]
     },
     "metadata": {
      "needs_background": "light"
     },
     "output_type": "display_data"
    }
   ],
   "source": [
    "from sklearn.decomposition import PCA\n",
    "\n",
    "scikit_pca = PCA(n_components=2)\n",
    "X_spca = scikit_pca.fit_transform(X)\n",
    "\n",
    "fig, ax = plt.subplots(nrows=1, ncols=2, figsize=(7, 3))\n",
    "\n",
    "ax[0].scatter(X_spca[y == 0, 0], X_spca[y == 0, 1],\n",
    "              color='red', marker='^', alpha=0.5)\n",
    "ax[0].scatter(X_spca[y == 1, 0], X_spca[y == 1, 1],\n",
    "              color='blue', marker='o', alpha=0.5)\n",
    "\n",
    "ax[1].scatter(X_spca[y == 0, 0], np.zeros((50, 1)) + 0.02,\n",
    "              color='red', marker='^', alpha=0.5)\n",
    "ax[1].scatter(X_spca[y == 1, 0], np.zeros((50, 1)) - 0.02,\n",
    "              color='blue', marker='o', alpha=0.5)\n",
    "\n",
    "ax[0].set_xlabel('PC1')\n",
    "ax[0].set_ylabel('PC2')\n",
    "ax[1].set_ylim([-1, 1])\n",
    "ax[1].set_yticks([])\n",
    "ax[1].set_xlabel('PC1')\n",
    "\n",
    "plt.tight_layout()\n",
    "plt.show()"
   ]
  },
  {
   "cell_type": "code",
   "execution_count": 136,
   "metadata": {},
   "outputs": [
    {
     "data": {
      "image/png": "[encoded data removed]",
      "text/plain": [
       "<Figure size 504x216 with 2 Axes>"
      ]
     },
     "metadata": {
      "needs_background": "light"
     },
     "output_type": "display_data"
    }
   ],
   "source": [
    "X_kpca = rbf_kernel_pca(X, gamma=15, n_components=2)\n",
    "\n",
    "fig, ax = plt.subplots(nrows=1,ncols=2, figsize=(7,3))\n",
    "ax[0].scatter(X_kpca[y==0, 0], X_kpca[y==0, 1], \n",
    "            color='red', marker='^', alpha=0.5)\n",
    "ax[0].scatter(X_kpca[y==1, 0], X_kpca[y==1, 1],\n",
    "            color='blue', marker='o', alpha=0.5)\n",
    "\n",
    "ax[1].scatter(X_kpca[y==0, 0], np.zeros((50,1))+0.02, \n",
    "            color='red', marker='^', alpha=0.5)\n",
    "ax[1].scatter(X_kpca[y==1, 0], np.zeros((50,1))-0.02,\n",
    "            color='blue', marker='o', alpha=0.5)\n",
    "\n",
    "ax[0].set_xlabel('PC1')\n",
    "ax[0].set_ylabel('PC2')\n",
    "ax[1].set_ylim([-1, 1])\n",
    "ax[1].set_yticks([])\n",
    "ax[1].set_xlabel('PC1')\n",
    "\n",
    "plt.tight_layout()\n",
    "plt.show()"
   ]
  },
  {
   "cell_type": "code",
   "execution_count": 137,
   "metadata": {},
   "outputs": [
    {
     "data": {
      "image/png": "[encoded data removed]",
      "text/plain": [
       "<Figure size 432x288 with 1 Axes>"
      ]
     },
     "metadata": {
      "needs_background": "light"
     },
     "output_type": "display_data"
    }
   ],
   "source": [
    "from sklearn.datasets import make_circles\n",
    "\n",
    "X,y = make_circles(n_samples=1000, random_state=123, noise=0.1, factor=0.2)\n",
    "\n",
    "plt.scatter(X[y==0, 0], X[y==0, 1], color='red', marker='^', alpha=0.5)\n",
    "plt.scatter(X[y==1, 0], X[y==1, 1], color='blue', marker='o', alpha=0.5)\n",
    "\n",
    "plt.tight_layout()\n",
    "plt.show()"
   ]
  },
  {
   "cell_type": "code",
   "execution_count": 138,
   "metadata": {},
   "outputs": [
    {
     "data": {
      "image/png": "[encoded data removed]",
      "text/plain": [
       "<Figure size 504x216 with 2 Axes>"
      ]
     },
     "metadata": {
      "needs_background": "light"
     },
     "output_type": "display_data"
    }
   ],
   "source": [
    "scikit_pca = PCA(n_components=2)\n",
    "X_spca = scikit_pca.fit_transform(X)\n",
    "\n",
    "fig, ax = plt.subplots(nrows=1, ncols=2, figsize=(7,3))\n",
    "\n",
    "ax[0].scatter(X_spca[y == 0, 0], X_spca[y == 0, 1],\n",
    "              color='red', marker='^', alpha=0.5)\n",
    "ax[0].scatter(X_spca[y == 1, 0], X_spca[y == 1, 1],\n",
    "              color='blue', marker='o', alpha=0.5)\n",
    "\n",
    "ax[1].scatter(X_spca[y == 0, 0], np.zeros((500, 1)) + 0.02,\n",
    "              color='red', marker='^', alpha=0.5)\n",
    "ax[1].scatter(X_spca[y == 1, 0], np.zeros((500, 1)) - 0.02,\n",
    "              color='blue', marker='o', alpha=0.5)\n",
    "\n",
    "ax[0].set_xlabel('PC1')\n",
    "ax[0].set_ylabel('PC2')\n",
    "ax[1].set_ylim([-1, 1])\n",
    "ax[1].set_yticks([])\n",
    "ax[1].set_xlabel('PC1')\n",
    "\n",
    "plt.tight_layout()\n",
    "plt.show()"
   ]
  },
  {
   "cell_type": "code",
   "execution_count": 139,
   "metadata": {},
   "outputs": [
    {
     "data": {
      "image/png": "[encoded data removed]",
      "text/plain": [
       "<Figure size 504x216 with 2 Axes>"
      ]
     },
     "metadata": {
      "needs_background": "light"
     },
     "output_type": "display_data"
    }
   ],
   "source": [
    "X_kpca = rbf_kernel_pca(X, gamma=15, n_components=2)\n",
    "\n",
    "fig, ax = plt.subplots(nrows=1, ncols=2, figsize=(7, 3))\n",
    "ax[0].scatter(X_kpca[y == 0, 0], X_kpca[y == 0, 1],\n",
    "              color='red', marker='^', alpha=0.5)\n",
    "ax[0].scatter(X_kpca[y == 1, 0], X_kpca[y == 1, 1],\n",
    "              color='blue', marker='o', alpha=0.5)\n",
    "\n",
    "ax[1].scatter(X_kpca[y == 0, 0], np.zeros((500, 1)) + 0.02,\n",
    "              color='red', marker='^', alpha=0.5)\n",
    "ax[1].scatter(X_kpca[y == 1, 0], np.zeros((500, 1)) - 0.02,\n",
    "              color='blue', marker='o', alpha=0.5)\n",
    "\n",
    "ax[0].set_xlabel('PC1')\n",
    "ax[0].set_ylabel('PC2')\n",
    "ax[1].set_ylim([-1, 1])\n",
    "ax[1].set_yticks([])\n",
    "ax[1].set_xlabel('PC1')\n",
    "\n",
    "plt.tight_layout()\n",
    "plt.show()"
   ]
  },
  {
   "cell_type": "code",
   "execution_count": null,
   "metadata": {},
   "outputs": [],
   "source": []
  }
 ],
 "metadata": {
  "kernelspec": {
   "display_name": "Python 3",
   "language": "python",
   "name": "python3"
  },
  "language_info": {
   "codemirror_mode": {
    "name": "ipython",
    "version": 3
   },
   "file_extension": ".py",
   "mimetype": "text/x-python",
   "name": "python",
   "nbconvert_exporter": "python",
   "pygments_lexer": "ipython3",
   "version": "3.7.3"
  }
 },
 "nbformat": 4,
 "nbformat_minor": 2
}
